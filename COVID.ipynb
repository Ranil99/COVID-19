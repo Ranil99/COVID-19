{
 "cells": [
  {
   "cell_type": "code",
   "execution_count": 1,
   "metadata": {},
   "outputs": [],
   "source": [
    "import pandas as pd\n",
    "import numpy as np\n",
    "import matplotlib.pyplot as plt\n",
    "import seaborn as sns\n",
    "%matplotlib inline"
   ]
  },
  {
   "cell_type": "code",
   "execution_count": 2,
   "metadata": {},
   "outputs": [],
   "source": [
    "df = pd.read_csv('data.csv')"
   ]
  },
  {
   "cell_type": "code",
   "execution_count": 3,
   "metadata": {},
   "outputs": [
    {
     "data": {
      "text/html": [
       "<div>\n",
       "<style scoped>\n",
       "    .dataframe tbody tr th:only-of-type {\n",
       "        vertical-align: middle;\n",
       "    }\n",
       "\n",
       "    .dataframe tbody tr th {\n",
       "        vertical-align: top;\n",
       "    }\n",
       "\n",
       "    .dataframe thead th {\n",
       "        text-align: right;\n",
       "    }\n",
       "</style>\n",
       "<table border=\"1\" class=\"dataframe\">\n",
       "  <thead>\n",
       "    <tr style=\"text-align: right;\">\n",
       "      <th></th>\n",
       "      <th>Date</th>\n",
       "      <th>Country</th>\n",
       "      <th>Confirmed</th>\n",
       "      <th>Recovered</th>\n",
       "      <th>Deaths</th>\n",
       "    </tr>\n",
       "  </thead>\n",
       "  <tbody>\n",
       "    <tr>\n",
       "      <th>0</th>\n",
       "      <td>2020-01-22</td>\n",
       "      <td>Afghanistan</td>\n",
       "      <td>0</td>\n",
       "      <td>0</td>\n",
       "      <td>0</td>\n",
       "    </tr>\n",
       "    <tr>\n",
       "      <th>1</th>\n",
       "      <td>2020-01-23</td>\n",
       "      <td>Afghanistan</td>\n",
       "      <td>0</td>\n",
       "      <td>0</td>\n",
       "      <td>0</td>\n",
       "    </tr>\n",
       "    <tr>\n",
       "      <th>2</th>\n",
       "      <td>2020-01-24</td>\n",
       "      <td>Afghanistan</td>\n",
       "      <td>0</td>\n",
       "      <td>0</td>\n",
       "      <td>0</td>\n",
       "    </tr>\n",
       "    <tr>\n",
       "      <th>3</th>\n",
       "      <td>2020-01-25</td>\n",
       "      <td>Afghanistan</td>\n",
       "      <td>0</td>\n",
       "      <td>0</td>\n",
       "      <td>0</td>\n",
       "    </tr>\n",
       "    <tr>\n",
       "      <th>4</th>\n",
       "      <td>2020-01-26</td>\n",
       "      <td>Afghanistan</td>\n",
       "      <td>0</td>\n",
       "      <td>0</td>\n",
       "      <td>0</td>\n",
       "    </tr>\n",
       "  </tbody>\n",
       "</table>\n",
       "</div>"
      ],
      "text/plain": [
       "         Date      Country  Confirmed  Recovered  Deaths\n",
       "0  2020-01-22  Afghanistan          0          0       0\n",
       "1  2020-01-23  Afghanistan          0          0       0\n",
       "2  2020-01-24  Afghanistan          0          0       0\n",
       "3  2020-01-25  Afghanistan          0          0       0\n",
       "4  2020-01-26  Afghanistan          0          0       0"
      ]
     },
     "execution_count": 3,
     "metadata": {},
     "output_type": "execute_result"
    }
   ],
   "source": [
    "df.head()"
   ]
  },
  {
   "cell_type": "code",
   "execution_count": 4,
   "metadata": {},
   "outputs": [],
   "source": [
    "import matplotlib.animation as animation\n",
    "from time import sleep"
   ]
  },
  {
   "cell_type": "code",
   "execution_count": 5,
   "metadata": {},
   "outputs": [
    {
     "data": {
      "text/html": [
       "<div>\n",
       "<style scoped>\n",
       "    .dataframe tbody tr th:only-of-type {\n",
       "        vertical-align: middle;\n",
       "    }\n",
       "\n",
       "    .dataframe tbody tr th {\n",
       "        vertical-align: top;\n",
       "    }\n",
       "\n",
       "    .dataframe thead th {\n",
       "        text-align: right;\n",
       "    }\n",
       "</style>\n",
       "<table border=\"1\" class=\"dataframe\">\n",
       "  <thead>\n",
       "    <tr style=\"text-align: right;\">\n",
       "      <th></th>\n",
       "      <th>Date</th>\n",
       "      <th>Country</th>\n",
       "      <th>Confirmed</th>\n",
       "      <th>Recovered</th>\n",
       "      <th>Deaths</th>\n",
       "    </tr>\n",
       "  </thead>\n",
       "  <tbody>\n",
       "    <tr>\n",
       "      <th>47559</th>\n",
       "      <td>2020-09-26</td>\n",
       "      <td>Zimbabwe</td>\n",
       "      <td>7803</td>\n",
       "      <td>6067</td>\n",
       "      <td>227</td>\n",
       "    </tr>\n",
       "    <tr>\n",
       "      <th>47560</th>\n",
       "      <td>2020-09-27</td>\n",
       "      <td>Zimbabwe</td>\n",
       "      <td>7812</td>\n",
       "      <td>6106</td>\n",
       "      <td>227</td>\n",
       "    </tr>\n",
       "    <tr>\n",
       "      <th>47561</th>\n",
       "      <td>2020-09-28</td>\n",
       "      <td>Zimbabwe</td>\n",
       "      <td>7816</td>\n",
       "      <td>6112</td>\n",
       "      <td>228</td>\n",
       "    </tr>\n",
       "    <tr>\n",
       "      <th>47562</th>\n",
       "      <td>2020-09-29</td>\n",
       "      <td>Zimbabwe</td>\n",
       "      <td>7837</td>\n",
       "      <td>6122</td>\n",
       "      <td>228</td>\n",
       "    </tr>\n",
       "    <tr>\n",
       "      <th>47563</th>\n",
       "      <td>2020-09-30</td>\n",
       "      <td>Zimbabwe</td>\n",
       "      <td>7838</td>\n",
       "      <td>6303</td>\n",
       "      <td>228</td>\n",
       "    </tr>\n",
       "  </tbody>\n",
       "</table>\n",
       "</div>"
      ],
      "text/plain": [
       "             Date   Country  Confirmed  Recovered  Deaths\n",
       "47559  2020-09-26  Zimbabwe       7803       6067     227\n",
       "47560  2020-09-27  Zimbabwe       7812       6106     227\n",
       "47561  2020-09-28  Zimbabwe       7816       6112     228\n",
       "47562  2020-09-29  Zimbabwe       7837       6122     228\n",
       "47563  2020-09-30  Zimbabwe       7838       6303     228"
      ]
     },
     "execution_count": 5,
     "metadata": {},
     "output_type": "execute_result"
    }
   ],
   "source": [
    "df.tail()"
   ]
  },
  {
   "cell_type": "markdown",
   "metadata": {},
   "source": [
    "India confirmed cases"
   ]
  },
  {
   "cell_type": "code",
   "execution_count": 6,
   "metadata": {
    "scrolled": true
   },
   "outputs": [
    {
     "data": {
      "text/html": [
       "<div>\n",
       "<style scoped>\n",
       "    .dataframe tbody tr th:only-of-type {\n",
       "        vertical-align: middle;\n",
       "    }\n",
       "\n",
       "    .dataframe tbody tr th {\n",
       "        vertical-align: top;\n",
       "    }\n",
       "\n",
       "    .dataframe thead th {\n",
       "        text-align: right;\n",
       "    }\n",
       "</style>\n",
       "<table border=\"1\" class=\"dataframe\">\n",
       "  <thead>\n",
       "    <tr style=\"text-align: right;\">\n",
       "      <th></th>\n",
       "      <th>Date</th>\n",
       "      <th>Country</th>\n",
       "      <th>Confirmed</th>\n",
       "      <th>Recovered</th>\n",
       "      <th>Deaths</th>\n",
       "    </tr>\n",
       "  </thead>\n",
       "  <tbody>\n",
       "    <tr>\n",
       "      <th>20235</th>\n",
       "      <td>2020-09-26</td>\n",
       "      <td>India</td>\n",
       "      <td>5992532</td>\n",
       "      <td>4941627</td>\n",
       "      <td>94503</td>\n",
       "    </tr>\n",
       "    <tr>\n",
       "      <th>20236</th>\n",
       "      <td>2020-09-27</td>\n",
       "      <td>India</td>\n",
       "      <td>6074702</td>\n",
       "      <td>5016520</td>\n",
       "      <td>95542</td>\n",
       "    </tr>\n",
       "    <tr>\n",
       "      <th>20237</th>\n",
       "      <td>2020-09-28</td>\n",
       "      <td>India</td>\n",
       "      <td>6145291</td>\n",
       "      <td>5101397</td>\n",
       "      <td>96318</td>\n",
       "    </tr>\n",
       "    <tr>\n",
       "      <th>20238</th>\n",
       "      <td>2020-09-29</td>\n",
       "      <td>India</td>\n",
       "      <td>6225763</td>\n",
       "      <td>5187825</td>\n",
       "      <td>97497</td>\n",
       "    </tr>\n",
       "    <tr>\n",
       "      <th>20239</th>\n",
       "      <td>2020-09-30</td>\n",
       "      <td>India</td>\n",
       "      <td>6225763</td>\n",
       "      <td>5187825</td>\n",
       "      <td>97497</td>\n",
       "    </tr>\n",
       "  </tbody>\n",
       "</table>\n",
       "</div>"
      ],
      "text/plain": [
       "             Date Country  Confirmed  Recovered  Deaths\n",
       "20235  2020-09-26   India    5992532    4941627   94503\n",
       "20236  2020-09-27   India    6074702    5016520   95542\n",
       "20237  2020-09-28   India    6145291    5101397   96318\n",
       "20238  2020-09-29   India    6225763    5187825   97497\n",
       "20239  2020-09-30   India    6225763    5187825   97497"
      ]
     },
     "execution_count": 6,
     "metadata": {},
     "output_type": "execute_result"
    }
   ],
   "source": [
    "df_india = df[df['Country'] == 'India']\n",
    "df_india.head()\n",
    "df_india.tail()"
   ]
  },
  {
   "cell_type": "code",
   "execution_count": 7,
   "metadata": {},
   "outputs": [
    {
     "data": {
      "text/plain": [
       "Text(0.5, 1.0, 'India')"
      ]
     },
     "execution_count": 7,
     "metadata": {},
     "output_type": "execute_result"
    },
    {
     "data": {
      "image/png": "[encoded data removed]",
      "text/plain": [
       "<Figure size 432x288 with 1 Axes>"
      ]
     },
     "metadata": {
      "needs_background": "light"
     },
     "output_type": "display_data"
    }
   ],
   "source": [
    "plt.bar('Date','Confirmed',data=df_india,color='red')\n",
    "plt.xlabel('Date from 22nd Jan to 30th Sept 2020')\n",
    "plt.ylabel('Total number of Confirmed Cases')\n",
    "plt.title('India')"
   ]
  },
  {
   "cell_type": "code",
   "execution_count": 8,
   "metadata": {},
   "outputs": [
    {
     "data": {
      "text/plain": [
       "Text(0.5, 1.0, 'India')"
      ]
     },
     "execution_count": 8,
     "metadata": {},
     "output_type": "execute_result"
    },
    {
     "data": {
      "image/png": "[encoded data removed]",
      "text/plain": [
       "<Figure size 432x288 with 1 Axes>"
      ]
     },
     "metadata": {
      "needs_background": "light"
     },
     "output_type": "display_data"
    }
   ],
   "source": [
    "plt.plot('Date','Confirmed',data=df_india,color='red')\n",
    "plt.xlabel('Date from 22nd Jan to 30th Sept 2020')\n",
    "plt.ylabel('Total number of Confirmed Cases')\n",
    "plt.title('India')"
   ]
  },
  {
   "cell_type": "markdown",
   "metadata": {},
   "source": [
    "Italy confirmed cases"
   ]
  },
  {
   "cell_type": "code",
   "execution_count": 9,
   "metadata": {},
   "outputs": [
    {
     "data": {
      "text/html": [
       "<div>\n",
       "<style scoped>\n",
       "    .dataframe tbody tr th:only-of-type {\n",
       "        vertical-align: middle;\n",
       "    }\n",
       "\n",
       "    .dataframe tbody tr th {\n",
       "        vertical-align: top;\n",
       "    }\n",
       "\n",
       "    .dataframe thead th {\n",
       "        text-align: right;\n",
       "    }\n",
       "</style>\n",
       "<table border=\"1\" class=\"dataframe\">\n",
       "  <thead>\n",
       "    <tr style=\"text-align: right;\">\n",
       "      <th></th>\n",
       "      <th>Date</th>\n",
       "      <th>Country</th>\n",
       "      <th>Confirmed</th>\n",
       "      <th>Recovered</th>\n",
       "      <th>Deaths</th>\n",
       "    </tr>\n",
       "  </thead>\n",
       "  <tbody>\n",
       "    <tr>\n",
       "      <th>21505</th>\n",
       "      <td>2020-01-22</td>\n",
       "      <td>Italy</td>\n",
       "      <td>0</td>\n",
       "      <td>0</td>\n",
       "      <td>0</td>\n",
       "    </tr>\n",
       "    <tr>\n",
       "      <th>21506</th>\n",
       "      <td>2020-01-23</td>\n",
       "      <td>Italy</td>\n",
       "      <td>0</td>\n",
       "      <td>0</td>\n",
       "      <td>0</td>\n",
       "    </tr>\n",
       "    <tr>\n",
       "      <th>21507</th>\n",
       "      <td>2020-01-24</td>\n",
       "      <td>Italy</td>\n",
       "      <td>0</td>\n",
       "      <td>0</td>\n",
       "      <td>0</td>\n",
       "    </tr>\n",
       "    <tr>\n",
       "      <th>21508</th>\n",
       "      <td>2020-01-25</td>\n",
       "      <td>Italy</td>\n",
       "      <td>0</td>\n",
       "      <td>0</td>\n",
       "      <td>0</td>\n",
       "    </tr>\n",
       "    <tr>\n",
       "      <th>21509</th>\n",
       "      <td>2020-01-26</td>\n",
       "      <td>Italy</td>\n",
       "      <td>0</td>\n",
       "      <td>0</td>\n",
       "      <td>0</td>\n",
       "    </tr>\n",
       "  </tbody>\n",
       "</table>\n",
       "</div>"
      ],
      "text/plain": [
       "             Date Country  Confirmed  Recovered  Deaths\n",
       "21505  2020-01-22   Italy          0          0       0\n",
       "21506  2020-01-23   Italy          0          0       0\n",
       "21507  2020-01-24   Italy          0          0       0\n",
       "21508  2020-01-25   Italy          0          0       0\n",
       "21509  2020-01-26   Italy          0          0       0"
      ]
     },
     "execution_count": 9,
     "metadata": {},
     "output_type": "execute_result"
    }
   ],
   "source": [
    "df_italy = df[df['Country'] == 'Italy']\n",
    "df_italy.head()"
   ]
  },
  {
   "cell_type": "code",
   "execution_count": 10,
   "metadata": {},
   "outputs": [
    {
     "data": {
      "text/plain": [
       "Text(0.5, 1.0, 'Italy')"
      ]
     },
     "execution_count": 10,
     "metadata": {},
     "output_type": "execute_result"
    },
    {
     "data": {
      "image/png": "[encoded data removed]",
      "text/plain": [
       "<Figure size 432x288 with 1 Axes>"
      ]
     },
     "metadata": {
      "needs_background": "light"
     },
     "output_type": "display_data"
    }
   ],
   "source": [
    "plt.bar('Date','Confirmed',data=df_italy,color='blue')\n",
    "plt.xlabel('Date from 22nd Jan to 30th Sept 2020')\n",
    "plt.ylabel('Total number of Confirmed Cases')\n",
    "plt.title('Italy')"
   ]
  },
  {
   "cell_type": "code",
   "execution_count": 11,
   "metadata": {},
   "outputs": [
    {
     "data": {
      "text/plain": [
       "Text(0.5, 1.0, 'Italy')"
      ]
     },
     "execution_count": 11,
     "metadata": {},
     "output_type": "execute_result"
    },
    {
     "data": {
      "image/png": "[encoded data removed]",
      "text/plain": [
       "<Figure size 432x288 with 1 Axes>"
      ]
     },
     "metadata": {
      "needs_background": "light"
     },
     "output_type": "display_data"
    }
   ],
   "source": [
    "plt.plot('Date','Confirmed',data=df_italy,color='blue')\n",
    "plt.xlabel('Date from 22nd Jan to 30th Sept 2020')\n",
    "plt.ylabel('Total number of Confirmed Cases')\n",
    "plt.title('Italy')"
   ]
  },
  {
   "cell_type": "markdown",
   "metadata": {},
   "source": [
    "China confirmed cases"
   ]
  },
  {
   "cell_type": "code",
   "execution_count": 12,
   "metadata": {},
   "outputs": [
    {
     "data": {
      "text/html": [
       "<div>\n",
       "<style scoped>\n",
       "    .dataframe tbody tr th:only-of-type {\n",
       "        vertical-align: middle;\n",
       "    }\n",
       "\n",
       "    .dataframe tbody tr th {\n",
       "        vertical-align: top;\n",
       "    }\n",
       "\n",
       "    .dataframe thead th {\n",
       "        text-align: right;\n",
       "    }\n",
       "</style>\n",
       "<table border=\"1\" class=\"dataframe\">\n",
       "  <thead>\n",
       "    <tr style=\"text-align: right;\">\n",
       "      <th></th>\n",
       "      <th>Date</th>\n",
       "      <th>Country</th>\n",
       "      <th>Confirmed</th>\n",
       "      <th>Recovered</th>\n",
       "      <th>Deaths</th>\n",
       "    </tr>\n",
       "  </thead>\n",
       "  <tbody>\n",
       "    <tr>\n",
       "      <th>9108</th>\n",
       "      <td>2020-01-22</td>\n",
       "      <td>China</td>\n",
       "      <td>548</td>\n",
       "      <td>28</td>\n",
       "      <td>17</td>\n",
       "    </tr>\n",
       "    <tr>\n",
       "      <th>9109</th>\n",
       "      <td>2020-01-23</td>\n",
       "      <td>China</td>\n",
       "      <td>643</td>\n",
       "      <td>30</td>\n",
       "      <td>18</td>\n",
       "    </tr>\n",
       "    <tr>\n",
       "      <th>9110</th>\n",
       "      <td>2020-01-24</td>\n",
       "      <td>China</td>\n",
       "      <td>920</td>\n",
       "      <td>36</td>\n",
       "      <td>26</td>\n",
       "    </tr>\n",
       "    <tr>\n",
       "      <th>9111</th>\n",
       "      <td>2020-01-25</td>\n",
       "      <td>China</td>\n",
       "      <td>1406</td>\n",
       "      <td>39</td>\n",
       "      <td>42</td>\n",
       "    </tr>\n",
       "    <tr>\n",
       "      <th>9112</th>\n",
       "      <td>2020-01-26</td>\n",
       "      <td>China</td>\n",
       "      <td>2075</td>\n",
       "      <td>49</td>\n",
       "      <td>56</td>\n",
       "    </tr>\n",
       "  </tbody>\n",
       "</table>\n",
       "</div>"
      ],
      "text/plain": [
       "            Date Country  Confirmed  Recovered  Deaths\n",
       "9108  2020-01-22   China        548         28      17\n",
       "9109  2020-01-23   China        643         30      18\n",
       "9110  2020-01-24   China        920         36      26\n",
       "9111  2020-01-25   China       1406         39      42\n",
       "9112  2020-01-26   China       2075         49      56"
      ]
     },
     "execution_count": 12,
     "metadata": {},
     "output_type": "execute_result"
    }
   ],
   "source": [
    "df_china = df[df['Country'] == 'China']\n",
    "df_china.head()"
   ]
  },
  {
   "cell_type": "code",
   "execution_count": 13,
   "metadata": {},
   "outputs": [
    {
     "data": {
      "text/plain": [
       "Text(0.5, 1.0, 'China')"
      ]
     },
     "execution_count": 13,
     "metadata": {},
     "output_type": "execute_result"
    },
    {
     "data": {
      "image/png": "[encoded data removed]",
      "text/plain": [
       "<Figure size 432x288 with 1 Axes>"
      ]
     },
     "metadata": {
      "needs_background": "light"
     },
     "output_type": "display_data"
    }
   ],
   "source": [
    "plt.bar('Date','Confirmed',data=df_china,color='orange')\n",
    "plt.xlabel('Date from 22nd Jan to 30th Sept 2020')\n",
    "plt.ylabel('Total number of Confirmed Cases')\n",
    "plt.title('China')"
   ]
  },
  {
   "cell_type": "code",
   "execution_count": 14,
   "metadata": {},
   "outputs": [
    {
     "data": {
      "text/plain": [
       "Text(0.5, 1.0, 'China')"
      ]
     },
     "execution_count": 14,
     "metadata": {},
     "output_type": "execute_result"
    },
    {
     "data": {
      "image/png": "[encoded data removed]",
      "text/plain": [
       "<Figure size 432x288 with 1 Axes>"
      ]
     },
     "metadata": {
      "needs_background": "light"
     },
     "output_type": "display_data"
    }
   ],
   "source": [
    "plt.plot('Date','Confirmed',data=df_china,color='orange')\n",
    "plt.xlabel('Date from 22nd Jan to 30th Sept 2020')\n",
    "plt.ylabel('Total number of Confirmed Cases')\n",
    "plt.title('China')"
   ]
  },
  {
   "cell_type": "markdown",
   "metadata": {},
   "source": [
    "USA confirmed cases"
   ]
  },
  {
   "cell_type": "code",
   "execution_count": 15,
   "metadata": {},
   "outputs": [
    {
     "data": {
      "text/html": [
       "<div>\n",
       "<style scoped>\n",
       "    .dataframe tbody tr th:only-of-type {\n",
       "        vertical-align: middle;\n",
       "    }\n",
       "\n",
       "    .dataframe tbody tr th {\n",
       "        vertical-align: top;\n",
       "    }\n",
       "\n",
       "    .dataframe thead th {\n",
       "        text-align: right;\n",
       "    }\n",
       "</style>\n",
       "<table border=\"1\" class=\"dataframe\">\n",
       "  <thead>\n",
       "    <tr style=\"text-align: right;\">\n",
       "      <th></th>\n",
       "      <th>Date</th>\n",
       "      <th>Country</th>\n",
       "      <th>Confirmed</th>\n",
       "      <th>Recovered</th>\n",
       "      <th>Deaths</th>\n",
       "    </tr>\n",
       "  </thead>\n",
       "  <tbody>\n",
       "    <tr>\n",
       "      <th>44022</th>\n",
       "      <td>2020-01-22</td>\n",
       "      <td>US</td>\n",
       "      <td>1</td>\n",
       "      <td>0</td>\n",
       "      <td>0</td>\n",
       "    </tr>\n",
       "    <tr>\n",
       "      <th>44023</th>\n",
       "      <td>2020-01-23</td>\n",
       "      <td>US</td>\n",
       "      <td>1</td>\n",
       "      <td>0</td>\n",
       "      <td>0</td>\n",
       "    </tr>\n",
       "    <tr>\n",
       "      <th>44024</th>\n",
       "      <td>2020-01-24</td>\n",
       "      <td>US</td>\n",
       "      <td>2</td>\n",
       "      <td>0</td>\n",
       "      <td>0</td>\n",
       "    </tr>\n",
       "    <tr>\n",
       "      <th>44025</th>\n",
       "      <td>2020-01-25</td>\n",
       "      <td>US</td>\n",
       "      <td>2</td>\n",
       "      <td>0</td>\n",
       "      <td>0</td>\n",
       "    </tr>\n",
       "    <tr>\n",
       "      <th>44026</th>\n",
       "      <td>2020-01-26</td>\n",
       "      <td>US</td>\n",
       "      <td>5</td>\n",
       "      <td>0</td>\n",
       "      <td>0</td>\n",
       "    </tr>\n",
       "  </tbody>\n",
       "</table>\n",
       "</div>"
      ],
      "text/plain": [
       "             Date Country  Confirmed  Recovered  Deaths\n",
       "44022  2020-01-22      US          1          0       0\n",
       "44023  2020-01-23      US          1          0       0\n",
       "44024  2020-01-24      US          2          0       0\n",
       "44025  2020-01-25      US          2          0       0\n",
       "44026  2020-01-26      US          5          0       0"
      ]
     },
     "execution_count": 15,
     "metadata": {},
     "output_type": "execute_result"
    }
   ],
   "source": [
    "df_us = df[df['Country']=='US']\n",
    "df_us.head()"
   ]
  },
  {
   "cell_type": "code",
   "execution_count": 16,
   "metadata": {},
   "outputs": [
    {
     "data": {
      "text/plain": [
       "Text(0.5, 1.0, 'USA')"
      ]
     },
     "execution_count": 16,
     "metadata": {},
     "output_type": "execute_result"
    },
    {
     "data": {
      "image/png": "[encoded data removed]",
      "text/plain": [
       "<Figure size 432x288 with 1 Axes>"
      ]
     },
     "metadata": {
      "needs_background": "light"
     },
     "output_type": "display_data"
    }
   ],
   "source": [
    "plt.bar('Date','Confirmed',data=df_us,color='green')\n",
    "plt.xlabel('Date from 22nd Jan to 30th Sept 2020')\n",
    "plt.ylabel('Total number of Confirmed Cases')\n",
    "plt.title('USA')"
   ]
  },
  {
   "cell_type": "code",
   "execution_count": 17,
   "metadata": {},
   "outputs": [
    {
     "data": {
      "text/plain": [
       "Text(0.5, 1.0, 'USA')"
      ]
     },
     "execution_count": 17,
     "metadata": {},
     "output_type": "execute_result"
    },
    {
     "data": {
      "image/png": "[encoded data removed]",
      "text/plain": [
       "<Figure size 432x288 with 1 Axes>"
      ]
     },
     "metadata": {
      "needs_background": "light"
     },
     "output_type": "display_data"
    }
   ],
   "source": [
    "plt.plot('Date','Confirmed',data=df_us,color='green')\n",
    "plt.xlabel('Datefrom 22nd Jan to 30th Sept 2020')\n",
    "plt.ylabel('Total number of Confirmed Cases')\n",
    "plt.title('USA')"
   ]
  },
  {
   "cell_type": "markdown",
   "metadata": {},
   "source": [
    "Spain confirmed cases"
   ]
  },
  {
   "cell_type": "code",
   "execution_count": 18,
   "metadata": {},
   "outputs": [
    {
     "data": {
      "text/html": [
       "<div>\n",
       "<style scoped>\n",
       "    .dataframe tbody tr th:only-of-type {\n",
       "        vertical-align: middle;\n",
       "    }\n",
       "\n",
       "    .dataframe tbody tr th {\n",
       "        vertical-align: top;\n",
       "    }\n",
       "\n",
       "    .dataframe thead th {\n",
       "        text-align: right;\n",
       "    }\n",
       "</style>\n",
       "<table border=\"1\" class=\"dataframe\">\n",
       "  <thead>\n",
       "    <tr style=\"text-align: right;\">\n",
       "      <th></th>\n",
       "      <th>Date</th>\n",
       "      <th>Country</th>\n",
       "      <th>Confirmed</th>\n",
       "      <th>Recovered</th>\n",
       "      <th>Deaths</th>\n",
       "    </tr>\n",
       "  </thead>\n",
       "  <tbody>\n",
       "    <tr>\n",
       "      <th>39974</th>\n",
       "      <td>2020-01-22</td>\n",
       "      <td>Spain</td>\n",
       "      <td>0</td>\n",
       "      <td>0</td>\n",
       "      <td>0</td>\n",
       "    </tr>\n",
       "    <tr>\n",
       "      <th>39975</th>\n",
       "      <td>2020-01-23</td>\n",
       "      <td>Spain</td>\n",
       "      <td>0</td>\n",
       "      <td>0</td>\n",
       "      <td>0</td>\n",
       "    </tr>\n",
       "    <tr>\n",
       "      <th>39976</th>\n",
       "      <td>2020-01-24</td>\n",
       "      <td>Spain</td>\n",
       "      <td>0</td>\n",
       "      <td>0</td>\n",
       "      <td>0</td>\n",
       "    </tr>\n",
       "    <tr>\n",
       "      <th>39977</th>\n",
       "      <td>2020-01-25</td>\n",
       "      <td>Spain</td>\n",
       "      <td>0</td>\n",
       "      <td>0</td>\n",
       "      <td>0</td>\n",
       "    </tr>\n",
       "    <tr>\n",
       "      <th>39978</th>\n",
       "      <td>2020-01-26</td>\n",
       "      <td>Spain</td>\n",
       "      <td>0</td>\n",
       "      <td>0</td>\n",
       "      <td>0</td>\n",
       "    </tr>\n",
       "  </tbody>\n",
       "</table>\n",
       "</div>"
      ],
      "text/plain": [
       "             Date Country  Confirmed  Recovered  Deaths\n",
       "39974  2020-01-22   Spain          0          0       0\n",
       "39975  2020-01-23   Spain          0          0       0\n",
       "39976  2020-01-24   Spain          0          0       0\n",
       "39977  2020-01-25   Spain          0          0       0\n",
       "39978  2020-01-26   Spain          0          0       0"
      ]
     },
     "execution_count": 18,
     "metadata": {},
     "output_type": "execute_result"
    }
   ],
   "source": [
    "df_spain=df[df['Country']=='Spain']\n",
    "df_spain.head()"
   ]
  },
  {
   "cell_type": "code",
   "execution_count": 19,
   "metadata": {},
   "outputs": [
    {
     "data": {
      "text/plain": [
       "Text(0.5, 1.0, 'Spain')"
      ]
     },
     "execution_count": 19,
     "metadata": {},
     "output_type": "execute_result"
    },
    {
     "data": {
      "image/png": "[encoded data removed]",
      "text/plain": [
       "<Figure size 432x288 with 1 Axes>"
      ]
     },
     "metadata": {
      "needs_background": "light"
     },
     "output_type": "display_data"
    }
   ],
   "source": [
    "plt.bar('Date','Confirmed',data=df_spain,color='brown')\n",
    "plt.xlabel('Date from 22nd Jan to 30th Sept 2020')\n",
    "plt.ylabel('Total number of Confirmed Cases')\n",
    "plt.title('Spain')"
   ]
  },
  {
   "cell_type": "code",
   "execution_count": 20,
   "metadata": {},
   "outputs": [
    {
     "data": {
      "text/plain": [
       "Text(0.5, 1.0, 'Spain')"
      ]
     },
     "execution_count": 20,
     "metadata": {},
     "output_type": "execute_result"
    },
    {
     "data": {
      "image/png": "[encoded data removed]",
      "text/plain": [
       "<Figure size 432x288 with 1 Axes>"
      ]
     },
     "metadata": {
      "needs_background": "light"
     },
     "output_type": "display_data"
    }
   ],
   "source": [
    "plt.plot('Date','Confirmed',data=df_spain,color='brown')\n",
    "plt.xlabel('Date from 22nd Jan to 30th Sept 2020')\n",
    "plt.ylabel('Total number of Confirmed Cases')\n",
    "plt.title('Spain')"
   ]
  },
  {
   "cell_type": "markdown",
   "metadata": {},
   "source": [
    "United Arab Emirates confirmed cases"
   ]
  },
  {
   "cell_type": "code",
   "execution_count": 21,
   "metadata": {},
   "outputs": [
    {
     "data": {
      "text/html": [
       "<div>\n",
       "<style scoped>\n",
       "    .dataframe tbody tr th:only-of-type {\n",
       "        vertical-align: middle;\n",
       "    }\n",
       "\n",
       "    .dataframe tbody tr th {\n",
       "        vertical-align: top;\n",
       "    }\n",
       "\n",
       "    .dataframe thead th {\n",
       "        text-align: right;\n",
       "    }\n",
       "</style>\n",
       "<table border=\"1\" class=\"dataframe\">\n",
       "  <thead>\n",
       "    <tr style=\"text-align: right;\">\n",
       "      <th></th>\n",
       "      <th>Date</th>\n",
       "      <th>Country</th>\n",
       "      <th>Confirmed</th>\n",
       "      <th>Recovered</th>\n",
       "      <th>Deaths</th>\n",
       "    </tr>\n",
       "  </thead>\n",
       "  <tbody>\n",
       "    <tr>\n",
       "      <th>44781</th>\n",
       "      <td>2020-01-22</td>\n",
       "      <td>United Arab Emirates</td>\n",
       "      <td>0</td>\n",
       "      <td>0</td>\n",
       "      <td>0</td>\n",
       "    </tr>\n",
       "    <tr>\n",
       "      <th>44782</th>\n",
       "      <td>2020-01-23</td>\n",
       "      <td>United Arab Emirates</td>\n",
       "      <td>0</td>\n",
       "      <td>0</td>\n",
       "      <td>0</td>\n",
       "    </tr>\n",
       "    <tr>\n",
       "      <th>44783</th>\n",
       "      <td>2020-01-24</td>\n",
       "      <td>United Arab Emirates</td>\n",
       "      <td>0</td>\n",
       "      <td>0</td>\n",
       "      <td>0</td>\n",
       "    </tr>\n",
       "    <tr>\n",
       "      <th>44784</th>\n",
       "      <td>2020-01-25</td>\n",
       "      <td>United Arab Emirates</td>\n",
       "      <td>0</td>\n",
       "      <td>0</td>\n",
       "      <td>0</td>\n",
       "    </tr>\n",
       "    <tr>\n",
       "      <th>44785</th>\n",
       "      <td>2020-01-26</td>\n",
       "      <td>United Arab Emirates</td>\n",
       "      <td>0</td>\n",
       "      <td>0</td>\n",
       "      <td>0</td>\n",
       "    </tr>\n",
       "  </tbody>\n",
       "</table>\n",
       "</div>"
      ],
      "text/plain": [
       "             Date               Country  Confirmed  Recovered  Deaths\n",
       "44781  2020-01-22  United Arab Emirates          0          0       0\n",
       "44782  2020-01-23  United Arab Emirates          0          0       0\n",
       "44783  2020-01-24  United Arab Emirates          0          0       0\n",
       "44784  2020-01-25  United Arab Emirates          0          0       0\n",
       "44785  2020-01-26  United Arab Emirates          0          0       0"
      ]
     },
     "execution_count": 21,
     "metadata": {},
     "output_type": "execute_result"
    }
   ],
   "source": [
    "df_uae = df[df['Country']=='United Arab Emirates']\n",
    "df_uae.head()"
   ]
  },
  {
   "cell_type": "code",
   "execution_count": 22,
   "metadata": {},
   "outputs": [
    {
     "data": {
      "text/plain": [
       "Text(0.5, 1.0, 'United Arab Emirats')"
      ]
     },
     "execution_count": 22,
     "metadata": {},
     "output_type": "execute_result"
    },
    {
     "data": {
      "image/png": "[encoded data removed]",
      "text/plain": [
       "<Figure size 432x288 with 1 Axes>"
      ]
     },
     "metadata": {
      "needs_background": "light"
     },
     "output_type": "display_data"
    }
   ],
   "source": [
    "plt.bar('Date','Confirmed',data=df_uae,color='pink')\n",
    "plt.xlabel('Date from 22nd Jan to 30th Sept 2020')\n",
    "plt.ylabel('Total number of Confirmed Cases')\n",
    "plt.title('United Arab Emirats')"
   ]
  },
  {
   "cell_type": "code",
   "execution_count": 23,
   "metadata": {},
   "outputs": [
    {
     "data": {
      "text/plain": [
       "Text(0.5, 1.0, 'United Arab Emirats')"
      ]
     },
     "execution_count": 23,
     "metadata": {},
     "output_type": "execute_result"
    },
    {
     "data": {
      "image/png": "[encoded data removed]",
      "text/plain": [
       "<Figure size 432x288 with 1 Axes>"
      ]
     },
     "metadata": {
      "needs_background": "light"
     },
     "output_type": "display_data"
    }
   ],
   "source": [
    "plt.plot('Date','Confirmed',data=df_uae,color='pink')\n",
    "plt.xlabel('Date from 22nd Jan to 30th Sept 2020')\n",
    "plt.ylabel('Total number of Confirmed Cases')\n",
    "plt.title('United Arab Emirats')"
   ]
  },
  {
   "cell_type": "markdown",
   "metadata": {},
   "source": [
    "India Total Deaths"
   ]
  },
  {
   "cell_type": "code",
   "execution_count": 24,
   "metadata": {},
   "outputs": [
    {
     "data": {
      "text/plain": [
       "Text(0.5, 1.0, 'India')"
      ]
     },
     "execution_count": 24,
     "metadata": {},
     "output_type": "execute_result"
    },
    {
     "data": {
      "image/png": "[encoded data removed]",
      "text/plain": [
       "<Figure size 432x288 with 1 Axes>"
      ]
     },
     "metadata": {
      "needs_background": "light"
     },
     "output_type": "display_data"
    }
   ],
   "source": [
    "plt.bar('Date','Deaths',data=df_india,color='red')\n",
    "plt.xlabel('Date from 22nd Jan to 30th Sept 2020')\n",
    "plt.ylabel('Total number of Deaths')\n",
    "plt.title('India')"
   ]
  },
  {
   "cell_type": "markdown",
   "metadata": {},
   "source": [
    "Italy Total Deaths"
   ]
  },
  {
   "cell_type": "code",
   "execution_count": 25,
   "metadata": {},
   "outputs": [
    {
     "data": {
      "text/plain": [
       "Text(0.5, 1.0, 'Italy')"
      ]
     },
     "execution_count": 25,
     "metadata": {},
     "output_type": "execute_result"
    },
    {
     "data": {
      "image/png": "[encoded data removed]",
      "text/plain": [
       "<Figure size 432x288 with 1 Axes>"
      ]
     },
     "metadata": {
      "needs_background": "light"
     },
     "output_type": "display_data"
    }
   ],
   "source": [
    "plt.bar('Date','Deaths',data=df_italy,color='blue')\n",
    "plt.xlabel('Date from 22nd Jan to 30th Sept 2020')\n",
    "plt.ylabel('Total number of Deaths')\n",
    "plt.title('Italy')"
   ]
  },
  {
   "cell_type": "markdown",
   "metadata": {},
   "source": [
    "China Total Deaths"
   ]
  },
  {
   "cell_type": "code",
   "execution_count": 26,
   "metadata": {},
   "outputs": [
    {
     "data": {
      "text/plain": [
       "Text(0.5, 1.0, 'China')"
      ]
     },
     "execution_count": 26,
     "metadata": {},
     "output_type": "execute_result"
    },
    {
     "data": {
      "image/png": "[encoded data removed]",
      "text/plain": [
       "<Figure size 432x288 with 1 Axes>"
      ]
     },
     "metadata": {
      "needs_background": "light"
     },
     "output_type": "display_data"
    }
   ],
   "source": [
    "plt.bar('Date','Deaths',data=df_china,color='orange')\n",
    "plt.xlabel('Date from 22nd Jan to 30th Sept 2020')\n",
    "plt.ylabel('Total number of Deaths')\n",
    "plt.title('China')"
   ]
  },
  {
   "cell_type": "markdown",
   "metadata": {},
   "source": [
    "USA total Deaths"
   ]
  },
  {
   "cell_type": "code",
   "execution_count": 27,
   "metadata": {},
   "outputs": [
    {
     "data": {
      "text/plain": [
       "Text(0.5, 1.0, 'USA')"
      ]
     },
     "execution_count": 27,
     "metadata": {},
     "output_type": "execute_result"
    },
    {
     "data": {
      "image/png": "[encoded data removed]",
      "text/plain": [
       "<Figure size 432x288 with 1 Axes>"
      ]
     },
     "metadata": {
      "needs_background": "light"
     },
     "output_type": "display_data"
    }
   ],
   "source": [
    "plt.bar('Date','Deaths',data=df_us,color='green')\n",
    "plt.xlabel('Date from 22nd Jan to 30th Sept 2020')\n",
    "plt.ylabel('Total number of Deaths')\n",
    "plt.title('USA')"
   ]
  },
  {
   "cell_type": "markdown",
   "metadata": {},
   "source": [
    "Spain Total Deaths"
   ]
  },
  {
   "cell_type": "code",
   "execution_count": 28,
   "metadata": {},
   "outputs": [
    {
     "data": {
      "text/plain": [
       "Text(0.5, 1.0, 'Spain')"
      ]
     },
     "execution_count": 28,
     "metadata": {},
     "output_type": "execute_result"
    },
    {
     "data": {
      "image/png": "[encoded data removed]",
      "text/plain": [
       "<Figure size 432x288 with 1 Axes>"
      ]
     },
     "metadata": {
      "needs_background": "light"
     },
     "output_type": "display_data"
    }
   ],
   "source": [
    "plt.bar('Date','Deaths',data=df_spain,color='brown')\n",
    "plt.xlabel('Date from 22nd Jan to 30th Sept 2020')\n",
    "plt.ylabel('Total number of Deaths')\n",
    "plt.title('Spain')"
   ]
  },
  {
   "cell_type": "code",
   "execution_count": 29,
   "metadata": {},
   "outputs": [
    {
     "data": {
      "text/html": [
       "<div>\n",
       "<style scoped>\n",
       "    .dataframe tbody tr th:only-of-type {\n",
       "        vertical-align: middle;\n",
       "    }\n",
       "\n",
       "    .dataframe tbody tr th {\n",
       "        vertical-align: top;\n",
       "    }\n",
       "\n",
       "    .dataframe thead th {\n",
       "        text-align: right;\n",
       "    }\n",
       "</style>\n",
       "<table border=\"1\" class=\"dataframe\">\n",
       "  <thead>\n",
       "    <tr style=\"text-align: right;\">\n",
       "      <th></th>\n",
       "      <th>Date</th>\n",
       "      <th>Country</th>\n",
       "      <th>Confirmed</th>\n",
       "      <th>Recovered</th>\n",
       "      <th>Deaths</th>\n",
       "    </tr>\n",
       "  </thead>\n",
       "  <tbody>\n",
       "    <tr>\n",
       "      <th>9108</th>\n",
       "      <td>2020-01-22</td>\n",
       "      <td>China</td>\n",
       "      <td>548</td>\n",
       "      <td>28</td>\n",
       "      <td>17</td>\n",
       "    </tr>\n",
       "    <tr>\n",
       "      <th>9109</th>\n",
       "      <td>2020-01-23</td>\n",
       "      <td>China</td>\n",
       "      <td>643</td>\n",
       "      <td>30</td>\n",
       "      <td>18</td>\n",
       "    </tr>\n",
       "    <tr>\n",
       "      <th>9110</th>\n",
       "      <td>2020-01-24</td>\n",
       "      <td>China</td>\n",
       "      <td>920</td>\n",
       "      <td>36</td>\n",
       "      <td>26</td>\n",
       "    </tr>\n",
       "    <tr>\n",
       "      <th>9111</th>\n",
       "      <td>2020-01-25</td>\n",
       "      <td>China</td>\n",
       "      <td>1406</td>\n",
       "      <td>39</td>\n",
       "      <td>42</td>\n",
       "    </tr>\n",
       "    <tr>\n",
       "      <th>9112</th>\n",
       "      <td>2020-01-26</td>\n",
       "      <td>China</td>\n",
       "      <td>2075</td>\n",
       "      <td>49</td>\n",
       "      <td>56</td>\n",
       "    </tr>\n",
       "    <tr>\n",
       "      <th>...</th>\n",
       "      <td>...</td>\n",
       "      <td>...</td>\n",
       "      <td>...</td>\n",
       "      <td>...</td>\n",
       "      <td>...</td>\n",
       "    </tr>\n",
       "    <tr>\n",
       "      <th>44270</th>\n",
       "      <td>2020-09-26</td>\n",
       "      <td>US</td>\n",
       "      <td>7078089</td>\n",
       "      <td>2750459</td>\n",
       "      <td>204490</td>\n",
       "    </tr>\n",
       "    <tr>\n",
       "      <th>44271</th>\n",
       "      <td>2020-09-27</td>\n",
       "      <td>US</td>\n",
       "      <td>7115008</td>\n",
       "      <td>2766280</td>\n",
       "      <td>204756</td>\n",
       "    </tr>\n",
       "    <tr>\n",
       "      <th>44272</th>\n",
       "      <td>2020-09-28</td>\n",
       "      <td>US</td>\n",
       "      <td>7148045</td>\n",
       "      <td>2794608</td>\n",
       "      <td>205072</td>\n",
       "    </tr>\n",
       "    <tr>\n",
       "      <th>44273</th>\n",
       "      <td>2020-09-29</td>\n",
       "      <td>US</td>\n",
       "      <td>7190230</td>\n",
       "      <td>2813305</td>\n",
       "      <td>205986</td>\n",
       "    </tr>\n",
       "    <tr>\n",
       "      <th>44274</th>\n",
       "      <td>2020-09-30</td>\n",
       "      <td>US</td>\n",
       "      <td>7233042</td>\n",
       "      <td>2840688</td>\n",
       "      <td>206932</td>\n",
       "    </tr>\n",
       "  </tbody>\n",
       "</table>\n",
       "<p>759 rows × 5 columns</p>\n",
       "</div>"
      ],
      "text/plain": [
       "             Date Country  Confirmed  Recovered  Deaths\n",
       "9108   2020-01-22   China        548         28      17\n",
       "9109   2020-01-23   China        643         30      18\n",
       "9110   2020-01-24   China        920         36      26\n",
       "9111   2020-01-25   China       1406         39      42\n",
       "9112   2020-01-26   China       2075         49      56\n",
       "...           ...     ...        ...        ...     ...\n",
       "44270  2020-09-26      US    7078089    2750459  204490\n",
       "44271  2020-09-27      US    7115008    2766280  204756\n",
       "44272  2020-09-28      US    7148045    2794608  205072\n",
       "44273  2020-09-29      US    7190230    2813305  205986\n",
       "44274  2020-09-30      US    7233042    2840688  206932\n",
       "\n",
       "[759 rows x 5 columns]"
      ]
     },
     "execution_count": 29,
     "metadata": {},
     "output_type": "execute_result"
    }
   ],
   "source": [
    "df5 = df.query('Country in [\"India\", \"China\", \"US\"]')\n",
    "df5"
   ]
  },
  {
   "cell_type": "code",
   "execution_count": 31,
   "metadata": {},
   "outputs": [
    {
     "data": {
      "text/plain": [
       "<matplotlib.axes._subplots.AxesSubplot at 0x21898169e50>"
      ]
     },
     "execution_count": 31,
     "metadata": {},
     "output_type": "execute_result"
    },
    {
     "data": {
      "image/png": "[encoded data removed]",
      "text/plain": [
       "<Figure size 1080x936 with 1 Axes>"
      ]
     },
     "metadata": {
      "needs_background": "light"
     },
     "output_type": "display_data"
    }
   ],
   "source": [
    "plt.figure(figsize=(15,13))\n",
    "sns.stripplot(x='Date',y='Deaths',data=df5,hue='Country')"
   ]
  },
  {
   "cell_type": "code",
   "execution_count": 32,
   "metadata": {},
   "outputs": [],
   "source": [
    "list_date = df['Date'].unique()"
   ]
  },
  {
   "cell_type": "code",
   "execution_count": 35,
   "metadata": {},
   "outputs": [
    {
     "data": {
      "text/plain": [
       "array(['2020-01-22', '2020-01-23', '2020-01-24', '2020-01-25',\n",
       "       '2020-01-26', '2020-01-27', '2020-01-28', '2020-01-29',\n",
       "       '2020-01-30', '2020-01-31', '2020-02-01', '2020-02-02',\n",
       "       '2020-02-03', '2020-02-04', '2020-02-05', '2020-02-06',\n",
       "       '2020-02-07', '2020-02-08', '2020-02-09', '2020-02-10',\n",
       "       '2020-02-11', '2020-02-12', '2020-02-13', '2020-02-14',\n",
       "       '2020-02-15', '2020-02-16', '2020-02-17', '2020-02-18',\n",
       "       '2020-02-19', '2020-02-20', '2020-02-21', '2020-02-22',\n",
       "       '2020-02-23', '2020-02-24', '2020-02-25', '2020-02-26',\n",
       "       '2020-02-27', '2020-02-28', '2020-02-29', '2020-03-01',\n",
       "       '2020-03-02', '2020-03-03', '2020-03-04', '2020-03-05',\n",
       "       '2020-03-06', '2020-03-07', '2020-03-08', '2020-03-09',\n",
       "       '2020-03-10', '2020-03-11', '2020-03-12', '2020-03-13',\n",
       "       '2020-03-14', '2020-03-15', '2020-03-16', '2020-03-17',\n",
       "       '2020-03-18', '2020-03-19', '2020-03-20', '2020-03-21',\n",
       "       '2020-03-22', '2020-03-23', '2020-03-24', '2020-03-25',\n",
       "       '2020-03-26', '2020-03-27', '2020-03-28', '2020-03-29',\n",
       "       '2020-03-30', '2020-03-31', '2020-04-01', '2020-04-02',\n",
       "       '2020-04-03', '2020-04-04', '2020-04-05', '2020-04-06',\n",
       "       '2020-04-07', '2020-04-08', '2020-04-09', '2020-04-10',\n",
       "       '2020-04-11', '2020-04-12', '2020-04-13', '2020-04-14',\n",
       "       '2020-04-15', '2020-04-16', '2020-04-17', '2020-04-18',\n",
       "       '2020-04-19', '2020-04-20', '2020-04-21', '2020-04-22',\n",
       "       '2020-04-23', '2020-04-24', '2020-04-25', '2020-04-26',\n",
       "       '2020-04-27', '2020-04-28', '2020-04-29', '2020-04-30',\n",
       "       '2020-05-01', '2020-05-02', '2020-05-03', '2020-05-04',\n",
       "       '2020-05-05', '2020-05-06', '2020-05-07', '2020-05-08',\n",
       "       '2020-05-09', '2020-05-10', '2020-05-11', '2020-05-12',\n",
       "       '2020-05-13', '2020-05-14', '2020-05-15', '2020-05-16',\n",
       "       '2020-05-17', '2020-05-18', '2020-05-19', '2020-05-20',\n",
       "       '2020-05-21', '2020-05-22', '2020-05-23', '2020-05-24',\n",
       "       '2020-05-25', '2020-05-26', '2020-05-27', '2020-05-28',\n",
       "       '2020-05-29', '2020-05-30', '2020-05-31', '2020-06-01',\n",
       "       '2020-06-02', '2020-06-03', '2020-06-04', '2020-06-05',\n",
       "       '2020-06-06', '2020-06-07', '2020-06-08', '2020-06-09',\n",
       "       '2020-06-10', '2020-06-11', '2020-06-12', '2020-06-13',\n",
       "       '2020-06-14', '2020-06-15', '2020-06-16', '2020-06-17',\n",
       "       '2020-06-18', '2020-06-19', '2020-06-20', '2020-06-21',\n",
       "       '2020-06-22', '2020-06-23', '2020-06-24', '2020-06-25',\n",
       "       '2020-06-26', '2020-06-27', '2020-06-28', '2020-06-29',\n",
       "       '2020-06-30', '2020-07-01', '2020-07-02', '2020-07-03',\n",
       "       '2020-07-04', '2020-07-05', '2020-07-06', '2020-07-07',\n",
       "       '2020-07-08', '2020-07-09', '2020-07-10', '2020-07-11',\n",
       "       '2020-07-12', '2020-07-13', '2020-07-14', '2020-07-15',\n",
       "       '2020-07-16', '2020-07-17', '2020-07-18', '2020-07-19',\n",
       "       '2020-07-20', '2020-07-21', '2020-07-22', '2020-07-23',\n",
       "       '2020-07-24', '2020-07-25', '2020-07-26', '2020-07-27',\n",
       "       '2020-07-28', '2020-07-29', '2020-07-30', '2020-07-31',\n",
       "       '2020-08-01', '2020-08-02', '2020-08-03', '2020-08-04',\n",
       "       '2020-08-05', '2020-08-06', '2020-08-07', '2020-08-08',\n",
       "       '2020-08-09', '2020-08-10', '2020-08-11', '2020-08-12',\n",
       "       '2020-08-13', '2020-08-14', '2020-08-15', '2020-08-16',\n",
       "       '2020-08-17', '2020-08-18', '2020-08-19', '2020-08-20',\n",
       "       '2020-08-21', '2020-08-22', '2020-08-23', '2020-08-24',\n",
       "       '2020-08-25', '2020-08-26', '2020-08-27', '2020-08-28',\n",
       "       '2020-08-29', '2020-08-30', '2020-08-31', '2020-09-01',\n",
       "       '2020-09-02', '2020-09-03', '2020-09-04', '2020-09-05',\n",
       "       '2020-09-06', '2020-09-07', '2020-09-08', '2020-09-09',\n",
       "       '2020-09-10', '2020-09-11', '2020-09-12', '2020-09-13',\n",
       "       '2020-09-14', '2020-09-15', '2020-09-16', '2020-09-17',\n",
       "       '2020-09-18', '2020-09-19', '2020-09-20', '2020-09-21',\n",
       "       '2020-09-22', '2020-09-23', '2020-09-24', '2020-09-25',\n",
       "       '2020-09-26', '2020-09-27', '2020-09-28', '2020-09-29',\n",
       "       '2020-09-30'], dtype=object)"
      ]
     },
     "execution_count": 35,
     "metadata": {},
     "output_type": "execute_result"
    }
   ],
   "source": [
    "list_date"
   ]
  },
  {
   "cell_type": "code",
   "execution_count": 49,
   "metadata": {},
   "outputs": [
    {
     "data": {
      "application/javascript": [
       "/* Put everything inside the global mpl namespace */\n",
       "window.mpl = {};\n",
       "\n",
       "\n",
       "mpl.get_websocket_type = function() {\n",
       "    if (typeof(WebSocket) !== 'undefined') {\n",
       "        return WebSocket;\n",
       "    } else if (typeof(MozWebSocket) !== 'undefined') {\n",
       "        return MozWebSocket;\n",
       "    } else {\n",
       "        alert('Your browser does not have WebSocket support. ' +\n",
       "              'Please try Chrome, Safari or Firefox ≥ 6. ' +\n",
       "              'Firefox 4 and 5 are also supported but you ' +\n",
       "              'have to enable WebSockets in about:config.');\n",
       "    };\n",
       "}\n",
       "\n",
       "mpl.figure = function(figure_id, websocket, ondownload, parent_element) {\n",
       "    this.id = figure_id;\n",
       "\n",
       "    this.ws = websocket;\n",
       "\n",
       "    this.supports_binary = (this.ws.binaryType != undefined);\n",
       "\n",
       "    if (!this.supports_binary) {\n",
       "        var warnings = document.getElementById(\"mpl-warnings\");\n",
       "        if (warnings) {\n",
       "            warnings.style.display = 'block';\n",
       "            warnings.textContent = (\n",
       "                \"This browser does not support binary websocket messages. \" +\n",
       "                    \"Performance may be slow.\");\n",
       "        }\n",
       "    }\n",
       "\n",
       "    this.imageObj = new Image();\n",
       "\n",
       "    this.context = undefined;\n",
       "    this.message = undefined;\n",
       "    this.canvas = undefined;\n",
       "    this.rubberband_canvas = undefined;\n",
       "    this.rubberband_context = undefined;\n",
       "    this.format_dropdown = undefined;\n",
       "\n",
       "    this.image_mode = 'full';\n",
       "\n",
       "    this.root = $('<div/>');\n",
       "    this._root_extra_style(this.root)\n",
       "    this.root.attr('style', 'display: inline-block');\n",
       "\n",
       "    $(parent_element).append(this.root);\n",
       "\n",
       "    this._init_header(this);\n",
       "    this._init_canvas(this);\n",
       "    this._init_toolbar(this);\n",
       "\n",
       "    var fig = this;\n",
       "\n",
       "    this.waiting = false;\n",
       "\n",
       "    this.ws.onopen =  function () {\n",
       "            fig.send_message(\"supports_binary\", {value: fig.supports_binary});\n",
       "            fig.send_message(\"send_image_mode\", {});\n",
       "            if (mpl.ratio != 1) {\n",
       "                fig.send_message(\"set_dpi_ratio\", {'dpi_ratio': mpl.ratio});\n",
       "            }\n",
       "            fig.send_message(\"refresh\", {});\n",
       "        }\n",
       "\n",
       "    this.imageObj.onload = function() {\n",
       "            if (fig.image_mode == 'full') {\n",
       "                // Full images could contain transparency (where diff images\n",
       "                // almost always do), so we need to clear the canvas so that\n",
       "                // there is no ghosting.\n",
       "                fig.context.clearRect(0, 0, fig.canvas.width, fig.canvas.height);\n",
       "            }\n",
       "            fig.context.drawImage(fig.imageObj, 0, 0);\n",
       "        };\n",
       "\n",
       "    this.imageObj.onunload = function() {\n",
       "        fig.ws.close();\n",
       "    }\n",
       "\n",
       "    this.ws.onmessage = this._make_on_message_function(this);\n",
       "\n",
       "    this.ondownload = ondownload;\n",
       "}\n",
       "\n",
       "mpl.figure.prototype._init_header = function() {\n",
       "    var titlebar = $(\n",
       "        '<div class=\"ui-dialog-titlebar ui-widget-header ui-corner-all ' +\n",
       "        'ui-helper-clearfix\"/>');\n",
       "    var titletext = $(\n",
       "        '<div class=\"ui-dialog-title\" style=\"width: 100%; ' +\n",
       "        'text-align: center; padding: 3px;\"/>');\n",
       "    titlebar.append(titletext)\n",
       "    this.root.append(titlebar);\n",
       "    this.header = titletext[0];\n",
       "}\n",
       "\n",
       "\n",
       "\n",
       "mpl.figure.prototype._canvas_extra_style = function(canvas_div) {\n",
       "\n",
       "}\n",
       "\n",
       "\n",
       "mpl.figure.prototype._root_extra_style = function(canvas_div) {\n",
       "\n",
       "}\n",
       "\n",
       "mpl.figure.prototype._init_canvas = function() {\n",
       "    var fig = this;\n",
       "\n",
       "    var canvas_div = $('<div/>');\n",
       "\n",
       "    canvas_div.attr('style', 'position: relative; clear: both; outline: 0');\n",
       "\n",
       "    function canvas_keyboard_event(event) {\n",
       "        return fig.key_event(event, event['data']);\n",
       "    }\n",
       "\n",
       "    canvas_div.keydown('key_press', canvas_keyboard_event);\n",
       "    canvas_div.keyup('key_release', canvas_keyboard_event);\n",
       "    this.canvas_div = canvas_div\n",
       "    this._canvas_extra_style(canvas_div)\n",
       "    this.root.append(canvas_div);\n",
       "\n",
       "    var canvas = $('<canvas/>');\n",
       "    canvas.addClass('mpl-canvas');\n",
       "    canvas.attr('style', \"left: 0; top: 0; z-index: 0; outline: 0\")\n",
       "\n",
       "    this.canvas = canvas[0];\n",
       "    this.context = canvas[0].getContext(\"2d\");\n",
       "\n",
       "    var backingStore = this.context.backingStorePixelRatio ||\n",
       "\tthis.context.webkitBackingStorePixelRatio ||\n",
       "\tthis.context.mozBackingStorePixelRatio ||\n",
       "\tthis.context.msBackingStorePixelRatio ||\n",
       "\tthis.context.oBackingStorePixelRatio ||\n",
       "\tthis.context.backingStorePixelRatio || 1;\n",
       "\n",
       "    mpl.ratio = (window.devicePixelRatio || 1) / backingStore;\n",
       "\n",
       "    var rubberband = $('<canvas/>');\n",
       "    rubberband.attr('style', \"position: absolute; left: 0; top: 0; z-index: 1;\")\n",
       "\n",
       "    var pass_mouse_events = true;\n",
       "\n",
       "    canvas_div.resizable({\n",
       "        start: function(event, ui) {\n",
       "            pass_mouse_events = false;\n",
       "        },\n",
       "        resize: function(event, ui) {\n",
       "            fig.request_resize(ui.size.width, ui.size.height);\n",
       "        },\n",
       "        stop: function(event, ui) {\n",
       "            pass_mouse_events = true;\n",
       "            fig.request_resize(ui.size.width, ui.size.height);\n",
       "        },\n",
       "    });\n",
       "\n",
       "    function mouse_event_fn(event) {\n",
       "        if (pass_mouse_events)\n",
       "            return fig.mouse_event(event, event['data']);\n",
       "    }\n",
       "\n",
       "    rubberband.mousedown('button_press', mouse_event_fn);\n",
       "    rubberband.mouseup('button_release', mouse_event_fn);\n",
       "    // Throttle sequential mouse events to 1 every 20ms.\n",
       "    rubberband.mousemove('motion_notify', mouse_event_fn);\n",
       "\n",
       "    rubberband.mouseenter('figure_enter', mouse_event_fn);\n",
       "    rubberband.mouseleave('figure_leave', mouse_event_fn);\n",
       "\n",
       "    canvas_div.on(\"wheel\", function (event) {\n",
       "        event = event.originalEvent;\n",
       "        event['data'] = 'scroll'\n",
       "        if (event.deltaY < 0) {\n",
       "            event.step = 1;\n",
       "        } else {\n",
       "            event.step = -1;\n",
       "        }\n",
       "        mouse_event_fn(event);\n",
       "    });\n",
       "\n",
       "    canvas_div.append(canvas);\n",
       "    canvas_div.append(rubberband);\n",
       "\n",
       "    this.rubberband = rubberband;\n",
       "    this.rubberband_canvas = rubberband[0];\n",
       "    this.rubberband_context = rubberband[0].getContext(\"2d\");\n",
       "    this.rubberband_context.strokeStyle = \"#000000\";\n",
       "\n",
       "    this._resize_canvas = function(width, height) {\n",
       "        // Keep the size of the canvas, canvas container, and rubber band\n",
       "        // canvas in synch.\n",
       "        canvas_div.css('width', width)\n",
       "        canvas_div.css('height', height)\n",
       "\n",
       "        canvas.attr('width', width * mpl.ratio);\n",
       "        canvas.attr('height', height * mpl.ratio);\n",
       "        canvas.attr('style', 'width: ' + width + 'px; height: ' + height + 'px;');\n",
       "\n",
       "        rubberband.attr('width', width);\n",
       "        rubberband.attr('height', height);\n",
       "    }\n",
       "\n",
       "    // Set the figure to an initial 600x600px, this will subsequently be updated\n",
       "    // upon first draw.\n",
       "    this._resize_canvas(600, 600);\n",
       "\n",
       "    // Disable right mouse context menu.\n",
       "    $(this.rubberband_canvas).bind(\"contextmenu\",function(e){\n",
       "        return false;\n",
       "    });\n",
       "\n",
       "    function set_focus () {\n",
       "        canvas.focus();\n",
       "        canvas_div.focus();\n",
       "    }\n",
       "\n",
       "    window.setTimeout(set_focus, 100);\n",
       "}\n",
       "\n",
       "mpl.figure.prototype._init_toolbar = function() {\n",
       "    var fig = this;\n",
       "\n",
       "    var nav_element = $('<div/>');\n",
       "    nav_element.attr('style', 'width: 100%');\n",
       "    this.root.append(nav_element);\n",
       "\n",
       "    // Define a callback function for later on.\n",
       "    function toolbar_event(event) {\n",
       "        return fig.toolbar_button_onclick(event['data']);\n",
       "    }\n",
       "    function toolbar_mouse_event(event) {\n",
       "        return fig.toolbar_button_onmouseover(event['data']);\n",
       "    }\n",
       "\n",
       "    for(var toolbar_ind in mpl.toolbar_items) {\n",
       "        var name = mpl.toolbar_items[toolbar_ind][0];\n",
       "        var tooltip = mpl.toolbar_items[toolbar_ind][1];\n",
       "        var image = mpl.toolbar_items[toolbar_ind][2];\n",
       "        var method_name = mpl.toolbar_items[toolbar_ind][3];\n",
       "\n",
       "        if (!name) {\n",
       "            // put a spacer in here.\n",
       "            continue;\n",
       "        }\n",
       "        var button = $('<button/>');\n",
       "        button.addClass('ui-button ui-widget ui-state-default ui-corner-all ' +\n",
       "                        'ui-button-icon-only');\n",
       "        button.attr('role', 'button');\n",
       "        button.attr('aria-disabled', 'false');\n",
       "        button.click(method_name, toolbar_event);\n",
       "        button.mouseover(tooltip, toolbar_mouse_event);\n",
       "\n",
       "        var icon_img = $('<span/>');\n",
       "        icon_img.addClass('ui-button-icon-primary ui-icon');\n",
       "        icon_img.addClass(image);\n",
       "        icon_img.addClass('ui-corner-all');\n",
       "\n",
       "        var tooltip_span = $('<span/>');\n",
       "        tooltip_span.addClass('ui-button-text');\n",
       "        tooltip_span.html(tooltip);\n",
       "\n",
       "        button.append(icon_img);\n",
       "        button.append(tooltip_span);\n",
       "\n",
       "        nav_element.append(button);\n",
       "    }\n",
       "\n",
       "    var fmt_picker_span = $('<span/>');\n",
       "\n",
       "    var fmt_picker = $('<select/>');\n",
       "    fmt_picker.addClass('mpl-toolbar-option ui-widget ui-widget-content');\n",
       "    fmt_picker_span.append(fmt_picker);\n",
       "    nav_element.append(fmt_picker_span);\n",
       "    this.format_dropdown = fmt_picker[0];\n",
       "\n",
       "    for (var ind in mpl.extensions) {\n",
       "        var fmt = mpl.extensions[ind];\n",
       "        var option = $(\n",
       "            '<option/>', {selected: fmt === mpl.default_extension}).html(fmt);\n",
       "        fmt_picker.append(option);\n",
       "    }\n",
       "\n",
       "    // Add hover states to the ui-buttons\n",
       "    $( \".ui-button\" ).hover(\n",
       "        function() { $(this).addClass(\"ui-state-hover\");},\n",
       "        function() { $(this).removeClass(\"ui-state-hover\");}\n",
       "    );\n",
       "\n",
       "    var status_bar = $('<span class=\"mpl-message\"/>');\n",
       "    nav_element.append(status_bar);\n",
       "    this.message = status_bar[0];\n",
       "}\n",
       "\n",
       "mpl.figure.prototype.request_resize = function(x_pixels, y_pixels) {\n",
       "    // Request matplotlib to resize the figure. Matplotlib will then trigger a resize in the client,\n",
       "    // which will in turn request a refresh of the image.\n",
       "    this.send_message('resize', {'width': x_pixels, 'height': y_pixels});\n",
       "}\n",
       "\n",
       "mpl.figure.prototype.send_message = function(type, properties) {\n",
       "    properties['type'] = type;\n",
       "    properties['figure_id'] = this.id;\n",
       "    this.ws.send(JSON.stringify(properties));\n",
       "}\n",
       "\n",
       "mpl.figure.prototype.send_draw_message = function() {\n",
       "    if (!this.waiting) {\n",
       "        this.waiting = true;\n",
       "        this.ws.send(JSON.stringify({type: \"draw\", figure_id: this.id}));\n",
       "    }\n",
       "}\n",
       "\n",
       "\n",
       "mpl.figure.prototype.handle_save = function(fig, msg) {\n",
       "    var format_dropdown = fig.format_dropdown;\n",
       "    var format = format_dropdown.options[format_dropdown.selectedIndex].value;\n",
       "    fig.ondownload(fig, format);\n",
       "}\n",
       "\n",
       "\n",
       "mpl.figure.prototype.handle_resize = function(fig, msg) {\n",
       "    var size = msg['size'];\n",
       "    if (size[0] != fig.canvas.width || size[1] != fig.canvas.height) {\n",
       "        fig._resize_canvas(size[0], size[1]);\n",
       "        fig.send_message(\"refresh\", {});\n",
       "    };\n",
       "}\n",
       "\n",
       "mpl.figure.prototype.handle_rubberband = function(fig, msg) {\n",
       "    var x0 = msg['x0'] / mpl.ratio;\n",
       "    var y0 = (fig.canvas.height - msg['y0']) / mpl.ratio;\n",
       "    var x1 = msg['x1'] / mpl.ratio;\n",
       "    var y1 = (fig.canvas.height - msg['y1']) / mpl.ratio;\n",
       "    x0 = Math.floor(x0) + 0.5;\n",
       "    y0 = Math.floor(y0) + 0.5;\n",
       "    x1 = Math.floor(x1) + 0.5;\n",
       "    y1 = Math.floor(y1) + 0.5;\n",
       "    var min_x = Math.min(x0, x1);\n",
       "    var min_y = Math.min(y0, y1);\n",
       "    var width = Math.abs(x1 - x0);\n",
       "    var height = Math.abs(y1 - y0);\n",
       "\n",
       "    fig.rubberband_context.clearRect(\n",
       "        0, 0, fig.canvas.width / mpl.ratio, fig.canvas.height / mpl.ratio);\n",
       "\n",
       "    fig.rubberband_context.strokeRect(min_x, min_y, width, height);\n",
       "}\n",
       "\n",
       "mpl.figure.prototype.handle_figure_label = function(fig, msg) {\n",
       "    // Updates the figure title.\n",
       "    fig.header.textContent = msg['label'];\n",
       "}\n",
       "\n",
       "mpl.figure.prototype.handle_cursor = function(fig, msg) {\n",
       "    var cursor = msg['cursor'];\n",
       "    switch(cursor)\n",
       "    {\n",
       "    case 0:\n",
       "        cursor = 'pointer';\n",
       "        break;\n",
       "    case 1:\n",
       "        cursor = 'default';\n",
       "        break;\n",
       "    case 2:\n",
       "        cursor = 'crosshair';\n",
       "        break;\n",
       "    case 3:\n",
       "        cursor = 'move';\n",
       "        break;\n",
       "    }\n",
       "    fig.rubberband_canvas.style.cursor = cursor;\n",
       "}\n",
       "\n",
       "mpl.figure.prototype.handle_message = function(fig, msg) {\n",
       "    fig.message.textContent = msg['message'];\n",
       "}\n",
       "\n",
       "mpl.figure.prototype.handle_draw = function(fig, msg) {\n",
       "    // Request the server to send over a new figure.\n",
       "    fig.send_draw_message();\n",
       "}\n",
       "\n",
       "mpl.figure.prototype.handle_image_mode = function(fig, msg) {\n",
       "    fig.image_mode = msg['mode'];\n",
       "}\n",
       "\n",
       "mpl.figure.prototype.updated_canvas_event = function() {\n",
       "    // Called whenever the canvas gets updated.\n",
       "    this.send_message(\"ack\", {});\n",
       "}\n",
       "\n",
       "// A function to construct a web socket function for onmessage handling.\n",
       "// Called in the figure constructor.\n",
       "mpl.figure.prototype._make_on_message_function = function(fig) {\n",
       "    return function socket_on_message(evt) {\n",
       "        if (evt.data instanceof Blob) {\n",
       "            /* FIXME: We get \"Resource interpreted as Image but\n",
       "             * transferred with MIME type text/plain:\" errors on\n",
       "             * Chrome.  But how to set the MIME type?  It doesn't seem\n",
       "             * to be part of the websocket stream */\n",
       "            evt.data.type = \"image/png\";\n",
       "\n",
       "            /* Free the memory for the previous frames */\n",
       "            if (fig.imageObj.src) {\n",
       "                (window.URL || window.webkitURL).revokeObjectURL(\n",
       "                    fig.imageObj.src);\n",
       "            }\n",
       "\n",
       "            fig.imageObj.src = (window.URL || window.webkitURL).createObjectURL(\n",
       "                evt.data);\n",
       "            fig.updated_canvas_event();\n",
       "            fig.waiting = false;\n",
       "            return;\n",
       "        }\n",
       "        else if (typeof evt.data === 'string' && evt.data.slice(0, 21) == \"data:image/png;base64\") {\n",
       "            fig.imageObj.src = evt.data;\n",
       "            fig.updated_canvas_event();\n",
       "            fig.waiting = false;\n",
       "            return;\n",
       "        }\n",
       "\n",
       "        var msg = JSON.parse(evt.data);\n",
       "        var msg_type = msg['type'];\n",
       "\n",
       "        // Call the  \"handle_{type}\" callback, which takes\n",
       "        // the figure and JSON message as its only arguments.\n",
       "        try {\n",
       "            var callback = fig[\"handle_\" + msg_type];\n",
       "        } catch (e) {\n",
       "            console.log(\"No handler for the '\" + msg_type + \"' message type: \", msg);\n",
       "            return;\n",
       "        }\n",
       "\n",
       "        if (callback) {\n",
       "            try {\n",
       "                // console.log(\"Handling '\" + msg_type + \"' message: \", msg);\n",
       "                callback(fig, msg);\n",
       "            } catch (e) {\n",
       "                console.log(\"Exception inside the 'handler_\" + msg_type + \"' callback:\", e, e.stack, msg);\n",
       "            }\n",
       "        }\n",
       "    };\n",
       "}\n",
       "\n",
       "// from http://stackoverflow.com/questions/1114465/getting-mouse-location-in-canvas\n",
       "mpl.findpos = function(e) {\n",
       "    //this section is from http://www.quirksmode.org/js/events_properties.html\n",
       "    var targ;\n",
       "    if (!e)\n",
       "        e = window.event;\n",
       "    if (e.target)\n",
       "        targ = e.target;\n",
       "    else if (e.srcElement)\n",
       "        targ = e.srcElement;\n",
       "    if (targ.nodeType == 3) // defeat Safari bug\n",
       "        targ = targ.parentNode;\n",
       "\n",
       "    // jQuery normalizes the pageX and pageY\n",
       "    // pageX,Y are the mouse positions relative to the document\n",
       "    // offset() returns the position of the element relative to the document\n",
       "    var x = e.pageX - $(targ).offset().left;\n",
       "    var y = e.pageY - $(targ).offset().top;\n",
       "\n",
       "    return {\"x\": x, \"y\": y};\n",
       "};\n",
       "\n",
       "/*\n",
       " * return a copy of an object with only non-object keys\n",
       " * we need this to avoid circular references\n",
       " * http://stackoverflow.com/a/24161582/3208463\n",
       " */\n",
       "function simpleKeys (original) {\n",
       "  return Object.keys(original).reduce(function (obj, key) {\n",
       "    if (typeof original[key] !== 'object')\n",
       "        obj[key] = original[key]\n",
       "    return obj;\n",
       "  }, {});\n",
       "}\n",
       "\n",
       "mpl.figure.prototype.mouse_event = function(event, name) {\n",
       "    var canvas_pos = mpl.findpos(event)\n",
       "\n",
       "    if (name === 'button_press')\n",
       "    {\n",
       "        this.canvas.focus();\n",
       "        this.canvas_div.focus();\n",
       "    }\n",
       "\n",
       "    var x = canvas_pos.x * mpl.ratio;\n",
       "    var y = canvas_pos.y * mpl.ratio;\n",
       "\n",
       "    this.send_message(name, {x: x, y: y, button: event.button,\n",
       "                             step: event.step,\n",
       "                             guiEvent: simpleKeys(event)});\n",
       "\n",
       "    /* This prevents the web browser from automatically changing to\n",
       "     * the text insertion cursor when the button is pressed.  We want\n",
       "     * to control all of the cursor setting manually through the\n",
       "     * 'cursor' event from matplotlib */\n",
       "    event.preventDefault();\n",
       "    return false;\n",
       "}\n",
       "\n",
       "mpl.figure.prototype._key_event_extra = function(event, name) {\n",
       "    // Handle any extra behaviour associated with a key event\n",
       "}\n",
       "\n",
       "mpl.figure.prototype.key_event = function(event, name) {\n",
       "\n",
       "    // Prevent repeat events\n",
       "    if (name == 'key_press')\n",
       "    {\n",
       "        if (event.which === this._key)\n",
       "            return;\n",
       "        else\n",
       "            this._key = event.which;\n",
       "    }\n",
       "    if (name == 'key_release')\n",
       "        this._key = null;\n",
       "\n",
       "    var value = '';\n",
       "    if (event.ctrlKey && event.which != 17)\n",
       "        value += \"ctrl+\";\n",
       "    if (event.altKey && event.which != 18)\n",
       "        value += \"alt+\";\n",
       "    if (event.shiftKey && event.which != 16)\n",
       "        value += \"shift+\";\n",
       "\n",
       "    value += 'k';\n",
       "    value += event.which.toString();\n",
       "\n",
       "    this._key_event_extra(event, name);\n",
       "\n",
       "    this.send_message(name, {key: value,\n",
       "                             guiEvent: simpleKeys(event)});\n",
       "    return false;\n",
       "}\n",
       "\n",
       "mpl.figure.prototype.toolbar_button_onclick = function(name) {\n",
       "    if (name == 'download') {\n",
       "        this.handle_save(this, null);\n",
       "    } else {\n",
       "        this.send_message(\"toolbar_button\", {name: name});\n",
       "    }\n",
       "};\n",
       "\n",
       "mpl.figure.prototype.toolbar_button_onmouseover = function(tooltip) {\n",
       "    this.message.textContent = tooltip;\n",
       "};\n",
       "mpl.toolbar_items = [[\"Home\", \"Reset original view\", \"fa fa-home icon-home\", \"home\"], [\"Back\", \"Back to previous view\", \"fa fa-arrow-left icon-arrow-left\", \"back\"], [\"Forward\", \"Forward to next view\", \"fa fa-arrow-right icon-arrow-right\", \"forward\"], [\"\", \"\", \"\", \"\"], [\"Pan\", \"Pan axes with left mouse, zoom with right\", \"fa fa-arrows icon-move\", \"pan\"], [\"Zoom\", \"Zoom to rectangle\", \"fa fa-square-o icon-check-empty\", \"zoom\"], [\"\", \"\", \"\", \"\"], [\"Download\", \"Download plot\", \"fa fa-floppy-o icon-save\", \"download\"]];\n",
       "\n",
       "mpl.extensions = [\"eps\", \"pdf\", \"png\", \"ps\", \"raw\", \"svg\"];\n",
       "\n",
       "mpl.default_extension = \"png\";var comm_websocket_adapter = function(comm) {\n",
       "    // Create a \"websocket\"-like object which calls the given IPython comm\n",
       "    // object with the appropriate methods. Currently this is a non binary\n",
       "    // socket, so there is still some room for performance tuning.\n",
       "    var ws = {};\n",
       "\n",
       "    ws.close = function() {\n",
       "        comm.close()\n",
       "    };\n",
       "    ws.send = function(m) {\n",
       "        //console.log('sending', m);\n",
       "        comm.send(m);\n",
       "    };\n",
       "    // Register the callback with on_msg.\n",
       "    comm.on_msg(function(msg) {\n",
       "        //console.log('receiving', msg['content']['data'], msg);\n",
       "        // Pass the mpl event to the overridden (by mpl) onmessage function.\n",
       "        ws.onmessage(msg['content']['data'])\n",
       "    });\n",
       "    return ws;\n",
       "}\n",
       "\n",
       "mpl.mpl_figure_comm = function(comm, msg) {\n",
       "    // This is the function which gets called when the mpl process\n",
       "    // starts-up an IPython Comm through the \"matplotlib\" channel.\n",
       "\n",
       "    var id = msg.content.data.id;\n",
       "    // Get hold of the div created by the display call when the Comm\n",
       "    // socket was opened in Python.\n",
       "    var element = $(\"#\" + id);\n",
       "    var ws_proxy = comm_websocket_adapter(comm)\n",
       "\n",
       "    function ondownload(figure, format) {\n",
       "        window.open(figure.imageObj.src);\n",
       "    }\n",
       "\n",
       "    var fig = new mpl.figure(id, ws_proxy,\n",
       "                           ondownload,\n",
       "                           element.get(0));\n",
       "\n",
       "    // Call onopen now - mpl needs it, as it is assuming we've passed it a real\n",
       "    // web socket which is closed, not our websocket->open comm proxy.\n",
       "    ws_proxy.onopen();\n",
       "\n",
       "    fig.parent_element = element.get(0);\n",
       "    fig.cell_info = mpl.find_output_cell(\"<div id='\" + id + \"'></div>\");\n",
       "    if (!fig.cell_info) {\n",
       "        console.error(\"Failed to find cell for figure\", id, fig);\n",
       "        return;\n",
       "    }\n",
       "\n",
       "    var output_index = fig.cell_info[2]\n",
       "    var cell = fig.cell_info[0];\n",
       "\n",
       "};\n",
       "\n",
       "mpl.figure.prototype.handle_close = function(fig, msg) {\n",
       "    var width = fig.canvas.width/mpl.ratio\n",
       "    fig.root.unbind('remove')\n",
       "\n",
       "    // Update the output cell to use the data from the current canvas.\n",
       "    fig.push_to_output();\n",
       "    var dataURL = fig.canvas.toDataURL();\n",
       "    // Re-enable the keyboard manager in IPython - without this line, in FF,\n",
       "    // the notebook keyboard shortcuts fail.\n",
       "    IPython.keyboard_manager.enable()\n",
       "    $(fig.parent_element).html('<img src=\"' + dataURL + '\" width=\"' + width + '\">');\n",
       "    fig.close_ws(fig, msg);\n",
       "}\n",
       "\n",
       "mpl.figure.prototype.close_ws = function(fig, msg){\n",
       "    fig.send_message('closing', msg);\n",
       "    // fig.ws.close()\n",
       "}\n",
       "\n",
       "mpl.figure.prototype.push_to_output = function(remove_interactive) {\n",
       "    // Turn the data on the canvas into data in the output cell.\n",
       "    var width = this.canvas.width/mpl.ratio\n",
       "    var dataURL = this.canvas.toDataURL();\n",
       "    this.cell_info[1]['text/html'] = '<img src=\"' + dataURL + '\" width=\"' + width + '\">';\n",
       "}\n",
       "\n",
       "mpl.figure.prototype.updated_canvas_event = function() {\n",
       "    // Tell IPython that the notebook contents must change.\n",
       "    IPython.notebook.set_dirty(true);\n",
       "    this.send_message(\"ack\", {});\n",
       "    var fig = this;\n",
       "    // Wait a second, then push the new image to the DOM so\n",
       "    // that it is saved nicely (might be nice to debounce this).\n",
       "    setTimeout(function () { fig.push_to_output() }, 1000);\n",
       "}\n",
       "\n",
       "mpl.figure.prototype._init_toolbar = function() {\n",
       "    var fig = this;\n",
       "\n",
       "    var nav_element = $('<div/>');\n",
       "    nav_element.attr('style', 'width: 100%');\n",
       "    this.root.append(nav_element);\n",
       "\n",
       "    // Define a callback function for later on.\n",
       "    function toolbar_event(event) {\n",
       "        return fig.toolbar_button_onclick(event['data']);\n",
       "    }\n",
       "    function toolbar_mouse_event(event) {\n",
       "        return fig.toolbar_button_onmouseover(event['data']);\n",
       "    }\n",
       "\n",
       "    for(var toolbar_ind in mpl.toolbar_items){\n",
       "        var name = mpl.toolbar_items[toolbar_ind][0];\n",
       "        var tooltip = mpl.toolbar_items[toolbar_ind][1];\n",
       "        var image = mpl.toolbar_items[toolbar_ind][2];\n",
       "        var method_name = mpl.toolbar_items[toolbar_ind][3];\n",
       "\n",
       "        if (!name) { continue; };\n",
       "\n",
       "        var button = $('<button class=\"btn btn-default\" href=\"#\" title=\"' + name + '\"><i class=\"fa ' + image + ' fa-lg\"></i></button>');\n",
       "        button.click(method_name, toolbar_event);\n",
       "        button.mouseover(tooltip, toolbar_mouse_event);\n",
       "        nav_element.append(button);\n",
       "    }\n",
       "\n",
       "    // Add the status bar.\n",
       "    var status_bar = $('<span class=\"mpl-message\" style=\"text-align:right; float: right;\"/>');\n",
       "    nav_element.append(status_bar);\n",
       "    this.message = status_bar[0];\n",
       "\n",
       "    // Add the close button to the window.\n",
       "    var buttongrp = $('<div class=\"btn-group inline pull-right\"></div>');\n",
       "    var button = $('<button class=\"btn btn-mini btn-primary\" href=\"#\" title=\"Stop Interaction\"><i class=\"fa fa-power-off icon-remove icon-large\"></i></button>');\n",
       "    button.click(function (evt) { fig.handle_close(fig, {}); } );\n",
       "    button.mouseover('Stop Interaction', toolbar_mouse_event);\n",
       "    buttongrp.append(button);\n",
       "    var titlebar = this.root.find($('.ui-dialog-titlebar'));\n",
       "    titlebar.prepend(buttongrp);\n",
       "}\n",
       "\n",
       "mpl.figure.prototype._root_extra_style = function(el){\n",
       "    var fig = this\n",
       "    el.on(\"remove\", function(){\n",
       "\tfig.close_ws(fig, {});\n",
       "    });\n",
       "}\n",
       "\n",
       "mpl.figure.prototype._canvas_extra_style = function(el){\n",
       "    // this is important to make the div 'focusable\n",
       "    el.attr('tabindex', 0)\n",
       "    // reach out to IPython and tell the keyboard manager to turn it's self\n",
       "    // off when our div gets focus\n",
       "\n",
       "    // location in version 3\n",
       "    if (IPython.notebook.keyboard_manager) {\n",
       "        IPython.notebook.keyboard_manager.register_events(el);\n",
       "    }\n",
       "    else {\n",
       "        // location in version 2\n",
       "        IPython.keyboard_manager.register_events(el);\n",
       "    }\n",
       "\n",
       "}\n",
       "\n",
       "mpl.figure.prototype._key_event_extra = function(event, name) {\n",
       "    var manager = IPython.notebook.keyboard_manager;\n",
       "    if (!manager)\n",
       "        manager = IPython.keyboard_manager;\n",
       "\n",
       "    // Check for shift+enter\n",
       "    if (event.shiftKey && event.which == 13) {\n",
       "        this.canvas_div.blur();\n",
       "        // select the cell after this one\n",
       "        var index = IPython.notebook.find_cell_index(this.cell_info[0]);\n",
       "        IPython.notebook.select(index + 1);\n",
       "    }\n",
       "}\n",
       "\n",
       "mpl.figure.prototype.handle_save = function(fig, msg) {\n",
       "    fig.ondownload(fig, null);\n",
       "}\n",
       "\n",
       "\n",
       "mpl.find_output_cell = function(html_output) {\n",
       "    // Return the cell and output element which can be found *uniquely* in the notebook.\n",
       "    // Note - this is a bit hacky, but it is done because the \"notebook_saving.Notebook\"\n",
       "    // IPython event is triggered only after the cells have been serialised, which for\n",
       "    // our purposes (turning an active figure into a static one), is too late.\n",
       "    var cells = IPython.notebook.get_cells();\n",
       "    var ncells = cells.length;\n",
       "    for (var i=0; i<ncells; i++) {\n",
       "        var cell = cells[i];\n",
       "        if (cell.cell_type === 'code'){\n",
       "            for (var j=0; j<cell.output_area.outputs.length; j++) {\n",
       "                var data = cell.output_area.outputs[j];\n",
       "                if (data.data) {\n",
       "                    // IPython >= 3 moved mimebundle to data attribute of output\n",
       "                    data = data.data;\n",
       "                }\n",
       "                if (data['text/html'] == html_output) {\n",
       "                    return [cell, data, j];\n",
       "                }\n",
       "            }\n",
       "        }\n",
       "    }\n",
       "}\n",
       "\n",
       "// Register the function which deals with the matplotlib target/channel.\n",
       "// The kernel may be null if the page has been refreshed.\n",
       "if (IPython.notebook.kernel != null) {\n",
       "    IPython.notebook.kernel.comm_manager.register_target('matplotlib', mpl.mpl_figure_comm);\n",
       "}\n"
      ],
      "text/plain": [
       "<IPython.core.display.Javascript object>"
      ]
     },
     "metadata": {},
     "output_type": "display_data"
    },
    {
     "data": {
      "text/html": [
       "<img src=\"data:image/png;base64,iVBORw0KGgoAAAANSUhEUgAABlQAAANgCAYAAABa3YWkAAAgAElEQVR4Xuzdecyu21nX8R8gCgolkmLLKQgOIGIbYgsWIkiLSkIUidAoKAWLQ1WKDJpQolAGSVBK0mAhgGGKM4nIpAGitCa1kWILoQ1DqBSku0WGSBANDukxT/tseXO6z/Ou97nXvu9rrfXZoXrouYdrfa77L7559/sO8YcAAQIECBAgQIAAAQIECBAgQIAAAQIECBAgQOCiwDvwIUCAAAECBAgQIECAAAECBAgQIECAAAECBAgQuCwgqPhCCBAgQIAAAQIECBAgQIAAAQIECBAgQIAAAQK3CAgqPhECBAgQIECAAAECBAgQIECAAAECBAgQIECAgKDiGyBAgAABAgQIECBAgAABAgQIECBAgAABAgQIbBPwEyrb/NxNgAABAgQIECBAgAABAgQIECBAgAABAgQILCAgqCywZEckQIAAAQIECBAgQIAAAQIECBAgQIAAAQIEtgkIKtv83E2AAAECBAgQIECAAAECBAgQIECAAAECBAgsICCoLLBkRyRAgAABAgQIECBAgAABAgQIECBAgAABAgS2CQgq2/zcTYAAAQIECBAgQIAAAQIECBAgQIAAAQIECCwgIKgssGRHJECAAAECBAgQIECAAAECBAgQIECAAAECBLYJCCrb/NxNgAABAgQIECBAgAABAgQIECBAgAABAgQILCAgqCywZEckQIAAAQIECBAgQIAAAQIECBAgQIAAAQIEtgkIKtv83E2AAAECBAgQIECAAAECBAgQIECAAAECBAgsICCoLLBkRyRAgAABAgQIECBAgAABAgQIECBAgAABAgS2CQgq2/zcTYAAAQIECBAgQIAAAQIECBAgQIAAAQIECCwgIKgssGRHJECAAAECBAgQIECAAAECBAgQIECAAAECBLYJCCrb/NxNgAABAgQIECBAgAABAgQIECBAgAABAgQILCAgqCywZEckQIAAAQIECBAgQIAAAQIECBAgQIAAAQIEtgkIKtv83E2AAAECBAgQIECAAAECBAgQIECAAAECBAgsICCoLLBkRyRAgAABAgQIECBAgAABAgQIECBAgAABAgS2CQgq2/zcTYAAAQIECBAgQIAAAQIECBAgQIAAAQIECCwgIKgssGRHJECAAAECBAgQIECAAAECBAgQIECAAAECBLYJCCrb/NxNgAABAgQIECBAgAABAgQIECBAgAABAgQILCAgqCywZEckQIAAAQIECBAgQIAAAQIECBAgQIAAAQIEtgkIKtv83E2AAAECBAgQIECAAAECBAgQIECAAAECBAgsICCoLLBkRyRAgAABAgQIECBAgAABAgQIECBAgAABAgS2CQgq2/zcTYAAAQIECBAgQIAAAQIECBAgQIAAAQIECCwgIKgssGRHJECAAAECBAgQIECAAAECBAgQIECAAAECBLYJCCrb/NxNgAABAgQIECBAgAABAgQIECBAgAABAgQILCAgqCywZEckQIAAAQIECBAgQIAAAQIECBAgQIAAAQIEtgkIKtv83E2AAAECBAgQIECAAAECBAgQIECAAAECBAgsICCoLLBkRyRAgAABAgQIECBAgAABAgQIECBAgAABAgS2CQgq2/zcTYAAAQIECBAgQIAAAQIECBAgQIAAAQIECCwgIKgssGRHJECAAAECBAgQIECAAAECBAgQIECAAAECBLYJCCrb/NxNgAABAgQIECBAgAABAgQIECBAgAABAgQILCAgqCywZEckQIAAAQIECBAgQIAAAQIECBAgQIAAAQIEtgkIKtv83E2AAAECBAgQIECAAAECBAgQIECAAAECBAgsICCoLLBkRyRAgAABAgQIECBAgAABAgQIECBAgAABAgS2CQgq2/zcTYAAAQIECBAgQIAAAQIECBAgQIAAAQIECCwgIKgssGRHJECAAAECBAgQIECAAAECBAgQIECAAAECBLYJCCrb/NxNgAABAgQIECBAgAABAgQIECBAgAABAgQILCAgqCywZEckQIAAAQIECBAgQIAAAQIECBAgQIAAAQIEtgkIKtv83E2AAAECBAgQIECAAAECBAgQIECAAAECBAgsICCoLLBkRyRAgAABAgQIECBAgAABAgQIECBAgAABAgS2CQgq2/zcTYAAAQIECBAgQIAAAQIECBAgQIAAAQIECCwgIKgssGRHJECAAAECBAgQIECAAAECBAgQIECAAAECBLYJCCrb/NxNgAABAgQIECBAgAABAgQIECBAgAABAgQILCAgqCywZEckQIAAAQIECBAgQIAAAQIECBAgQIAAAQIEtgkIKtv83E2AAAECBAgQIECAAAECBAgQIECAAAECBAgsICCoLLBkRyRAgAABAgQIECBAgAABAgQIECBAgAABAgS2CQgq2/zcTYAAAQIECBAgQIAAAQIECBAgQIAAAQIECCwgIKgssGRHJECAAAECBAgQIECAAAECBAgQIECAAAECBLYJCCrb/NxNgAABAgQIECBAgAABAgQIECBAgAABAgQILCAgqCywZEckQIAAAQIECBAgQIAAAQIECBAgQIAAAQIEtgkIKtv83E2AAAECBAgQIECAAAECBAgQIECAAAECBAgsICCoLLBkRyRAgAABAgQIECBAgAABAgQIECBAgAABAgS2CQgq2/zcTYAAAQIECBAgQIAAAQIECBAgQIAAAQIECCwgIKgssGRHJECAAAECBAgQIECAAAECBAgQIECAAAECBLYJCCrb/NxNgAABAgQIECBAgAABAgQIECBAgAABAgQILCAgqCywZEckQIAAAQIECBAgQIAAAQIECBAgQIAAAQIEtgkIKtv83E2AAAECBAgQIECAAAECBAgQIECAAAECBAgsICCoLLBkRyRAgAABAgQIECBAgAABAgQIECBAgAABAgS2CQgq2/zcTYAAAQIECBAgQIAAAQIECBAgQIAAAQIECCwgIKgssGRHJECAAAECBAgQIECAAAECBAgQIECAAAECBLYJCCrb/NxNgAABAgQIECBAgAABAgQIECBAgAABAgQILCAgqCywZEckQIAAAQIECBAgQIAAAQIECBAgQIAAAQIEtgkIKtv83E2AAAECBAgQIECAAAECBAgQIECAAAECBAgsICCoLLBkRyRAgAABAgQIECBAgAABAgQIECBAgAABAgS2CQgq2/zcTYAAAQIECBAgQIAAAQIECBAgQIAAAQIECCwgIKgssGRHJECAAAECBAgQIECAAAECBAgQIECAAAECBLYJCCrb/NxNgAABAgQIECBAgAABAgQIECBAgAABAgQILCAgqCywZEckQIAAAQIECBAgQIAAAQIECBAgQIAAAQIEtgkIKtv83E2AAAECBAgQIECAAAECBAgQIECAAAECBAgsICCoLLBkRyRAgAABAgQIECBAgAABAgQIECBAgAABAgS2CQgq2/zcTYAAAQIECBAgQIAAAQIECBAgQIAAAQIECCwgIKgssGRHJECAAAECBAgQIECAAAECBAgQIECAAAECBLYJCCrb/NxNgAABAgQIECBAgAABAgQIECBAgAABAgQILCAgqCywZEckQIAAAQIECBAgQIAAAQIECBAgQIAAAQIEtgkIKtv83E2AAAECBAgQIECAAAECBAgQIECAAAECBAgsICCoLLBkRyRAgAABAgQIECBAgAABAgQIECBAgAABAgS2CQgq2/zcTYAAAQIECBAgQIAAAQIECBAgQIAAAQIECCwgIKgssGRHJECAAAECBAgQIECAAAECBAgQIECAAAECBLYJCCrb/NxNgAABAgQIECBAgAABAgQIECBAgAABAgQILCAgqCywZEckQIAAAQIECBAgQIAAAQIECBAgQIAAAQIEtgkIKtv83E2AAAECBAgQIECAAAECBAgQIECAAAECBAgsICCoLLBkRyRAgAABAgQIECBAgAABAgQIECBAgAABAgS2CQgq2/zcTYAAAQIECBAgQIAAAQIECBAgQIAAAQIECCwgIKgssGRHJECAAAECBAgQIECAAAECBAgQIECAAAECBLYJCCrb/NxNgAABAgQIECBAgAABAgQIECBAgAABAgQILCAgqCywZEckQIAAAQIECBAgQIAAAQIECBAgQIAAAQIEtgkIKtv83E2AAAECBAgQIECAAAECBAgQIECAAAECBAgsICCoLLBkRyRAgAABAgQIECBAgAABAgQIECBAgAABAgS2CQgq2/zcTYAAAQIECBAgQIAAAQIECBAgQIAAAQIECCwgIKgssGRHJECAAAECBAgQIECAAAECBAgQIECAAAECBLYJCCrb/NxNgAABAgQIECBAgAABAgQIECBAgAABAgQILCAgqCywZEckQIAAAQIECBAgQIAAAQIECBAgQIAAAQIEtgkIKtv83E2AAAECBAgQIECAAAECBAgQIECAAAECBAgsICCoLLBkRyRAgAABAgQIECBAgAABAgQIECBAgAABAgS2CQgq2/zcTYAAAQIECBAgQIAAAQIECBAgQIAAAQIECCwgIKgssGRHJECAAAECBAgQIECAAAECBAgQIECAAAECBLYJCCrb/NxNgAABAgQIECBAgAABAgQIECBAgAABAgQILCAgqCywZEckQIAAAQIECBAgQIAAAQIECBAgQIAAAQIEtgkIKtv83L2OwDsneWqSX0zylnWO7aQECBAgQIAAAQIECBAgQIAAAQIEDhd4xyTvleR1Sf7P4dMYYFkBQWXZ1Tv4HQX+YJLX3PEelxMgQIAAAQIECBAgQIAAAQIECBAg0E/g6Ul+uN/jPInA3QQElbt5uXpdgfdJ8nOvfvWr8+QnP3ldBScnQIAAAQIECBAgQIAAAQIECBAgsLPAz//8z+cZz3jG6a3vm+SNO7/e6wj8fwFBxcdAoE3gkST37t27l0ceOf2jPwQIECBAgAABAgQIECBAgAABAgQI7CHwpje9KU95ylNOrzr9P2/a453eQeBBAoKK74JAm4Cg0ubkKgIECBAgQIAAAQIECBAgQIAAAQJdBQSVrpwetkFAUNmA59alBASVpdbtsAQIECBAgAABAgQIECBAgAABAlUEBJUqmzCHoOIbINAmIKi0ObmKAAECBAgQIECAAAECBAgQIECAQFcBQaUrp4dtEBBUNuC5dSkBQWWpdTssAQIECBAgQIAAAQIECBAgQIBAFQFBpcomzCGo+AYItAkIKm1OriJAgAABAgQIECBAgAABAgQIECDQVUBQ6crpYRsEBJUNeG5dSkBQWWrdDkuAAAECBAgQIECAAAECBAgQIFBFQFCpsglzCCq+AQJtAoJKm5OrCBAgQIAAAQIECBAgQIAAAQIECHQVEFS6cnrYBgFBZQOeW5cSEFSWWrfDEiBAgAABAgQIECBAgAABAgQIVBEQVKpswhyCim+AQJuAoNLm5CoCBAgQIECAAAECBAgQIECAAAECXQUEla6cHrZBQFDZgOfWpQQElaXW7bAECBAgQIAAAQIECBAgQIAAAQJVBASVKpswh6DiGyDQJiCotDm5igABAgQIECBAgAABAgQIECBAgEBXAUGlK6eHbRAQVDbguXUpAUFlqXU7LAECBAgQIECAAAECBAgQIECAQBUBQaXKJswhqPgGCLQJCCptTq4iQIAAAQIECBAgQIAAAQIECBAg0FVAUOnK6WEbBASVDXhuXUpAUFlq3Q5LgAABAgQIECBAgAABAgQIECBQRUBQqbIJcwgqvgECbQKCSpuTqwgQIECAAAECBAgQIECAAAECBAh0FRBUunJ62AYBQWUDnluXEhBUllq3wxIgQIAAAQIECBAgQIAAAQIECFQREFSqbMIcgopvgECbgKDS5uQqAgQIECBAgAABAgQIECBAgAABAl0FBJWunB62QUBQ2YDn1qUEBJWl1u2wBAgQIECAAAECBAgQIECAAAECVQQElSqbMIeg4hsg0CYgqLQ5uYoAAQIECBAgQIAAAQIECBAgQIBAVwFBpSunh20QEFQ24Ll1KQFBZal1OywBAgQIECBAgAABAgQIECBAgEAVAUGlyibMIaj4Bgi0CQgqbU6uIkCAAAECBAgQIECAAAECBAgQINBVQFDpyulhGwQElQ14bl1KQFBZat0OS4AAAQIECBAgQIAAAQIECBAgUEVAUKmyCXMIKr4BAm0Cgkqbk6sIECBAgAABAgQIECBAgAABAgQIdBUQVLpyetgGAUFlA55blxIQVJZat8MSIECAAAECBAgQIECAAAECBAhUERBUqmzCHIKKb4BAm4Cg0ubkKgIECBAgQIAAAQIECBAgQIAAAQJdBQSVrpwetkFAUNmA59alBASVpdbtsAQIECBAgAABAgQIECBAgAABAlUEBJUqmzCHoOIbINAmcA4qySOnfxrqz6NDTWtYAgQIECBAgAABAgQIECBAgAABAjcFBBXfQxUBQaXKJsxRXUBQqb4h8xEgQIAAAQIECBAgQIAAAQIECEwpIKhMudYhDyWoDLk2Qx8gIKgcgO6VBAgQIECAAAECBAgQIECAAAECBAQV30AVAUGlyibMUV1AUKm+IfMRIECAAAECBAgQIECAAAECBAhMKSCoTLnWIQ8lqAy5NkMfICCoHIDulQQIECBAgAABAgQIECBAgAABAgQEFd9AFQFBpcomzFFdQFCpviHzESBAgAABAgQIECBAgAABAgQITCkgqEy51iEPJagMuTZDHyAgqByA7pUECBAgQIAAAQIECBAgQIAAAQIEBBXfQBUBQaXKJsxRXUBQqb4h8xEgQIAAAQIECBAgQIAAAQIECEwpIKhMudYhDyWoDLk2Qx8gIKgcgO6VBAgQIECAAAECBAgQIECAAAECBAQV30AVAUGlyibMUV1AUKm+IfMRIECAAAECBAgQIECAAAECBAhMKSCoTLnWIQ8lqAy5NkMfICCoHIDulQQIECBAgAABAgQIECBAgAABAgQEFd9AFQFBpcomzFFdQFCpviHzESBAgAABAgQIECBAgAABAgQITCkgqEy51iEPJagMuTZDHyAgqByA7pUECBAgQIAAAQIECBAgQIAAAQIEBBXfQBUBQaXKJsxRXUBQqb4h8xEgQIAAAQIECBAgQIAAAQIECEwpIKhMudYhDyWoDLk2Qx8gIKgcgO6VBAgQIECAAAECBAgQIECAAAECBAQV30AVAUGlyibMUV1AUKm+IfMRIECAAAECBAgQIECAAAECBAhMKSCoTLnWIQ8lqAy5NkMfICCoHIDulQQIECBAgAABAgQIECBAgAABAgQEFd9AFQFBpcomzFFdQFCpviHzESBAgAABAgQIECBAgAABAgQITCkgqEy51iEPJagMuTZDHyAgqByA7pUECBAgQIAAAQIECBAgQIAAAQIEBBXfQBUBQaXKJsxRXUBQqb4h8xEgQIAAAQIECBAgQIAAAQIECEwpIKhMudYhDyWoDLk2Qx8gIKgcgO6VBAgQIECAAAECBAgQIECAAAECBAQV30AVAUGlyibMUV1AUKm+IfMRIECAAAECBAgQIECAAAECBAhMKSCoTLnWIQ8lqAy5NkMfICCoHIDulQQIECBAgAABAgQIECBAgAABAgQEFd9AFQFBpcomzFFdQFCpviHzESBAgAABAgQIECBAgAABAgQITCkgqEy51iEPJagMuTZDHyAgqByA7pUECBAgQIAAAQIECBAgQIAAAQIEBBXfQBUBQaXKJsxRXUBQqb4h8xEgQIAAAQIECBAgQIAAAQIECEwpIKhMudYhDyWoDLk2Qx8gIKgcgO6VBAgQIECAAAECBAgQIECAAAECBAQV30AVAUGlyibMUV1AUKm+IfMRIECAAAECBAgQIECAAAECBAhMKSCoTLnWIQ8lqAy5NkMfICCoHIDulQQIECBAgAABAgQIECBAgAABAgQEFd9AFQFBpcomzFFdQFCpviHzESBAgAABAgQIECBAgAABAgQITCkgqEy51iEPJagMuTZDHyAgqByA7pUECBAgQIAAAQIECBAgQIAAAQIEBBXfQBUBQaXKJsxRXUBQqb4h8xEgQIAAAQIECBAgQIAAAQIECEwpIKhMudYhDyWoDLk2Qx8gIKgcgO6VBAgQIECAAAECBAgQIECAAAECBAQV30AVAUGlyibMUV1AUKm+IfMRIECAAAECBAgQIECAAAECBAhMKSCoTLnWIQ8lqAy5NkMfICCoHIDulQQIECBAgAABAgQIECBAgAABAgQEFd9AFQFBpcomzFFdQFCpviHzESBAgAABAgQIECBAgAABAgQITCkgqEy51iEPJagMuTZDHyAgqByA7pUECBAgQIAAAQIECBAgQIAAAQIEBBXfQBUBQaXKJsxRXUBQqb4h8xEgQIAAAQIECBAgQIAAAQIECEwpIKhMudYhDyWoDLk2Qx8gIKgcgO6VBAgQIECAAAECBAgQIECAAAECBAQV30AVAUGlyibMUV1AUKm+IfMRIECAAAECBAgQIECAAAECBAhMKSCoTLnWIQ8lqAy5NkMfICCoHIDulQQIECBAgAABAgQIECBAgAABAgQEFd9AFQFBpcomzFFdQFCpviHzESBAgAABAgQIECBAgAABAgQITCkgqEy51iEPJagMuTZDHyAgqByA7pUECBAgQIAAAQIECBAgQIAAAQIEBBXfQBUBQaXKJsxRXUBQqb4h8xEgQIAAAQIECBAgQIAAAQIECEwpIKhMudYhDyWoDLm2oYf+4iQvSPLEjad4apLXJnl2kpefn/Voks9K8tKNz37Q7YLKQ0D1SAIECBAgQIAAAQIECBAgQIAAAQK3CQgqtwn593sJCCp7SXvPfYGHGVQ+PMkbkvzXh8AtqDwEVI8kQIAAAQIECBAgQIAAAQIECBAgcJuAoHKbkH+/l4Cgspe09+wRVB6msqDyMHU9mwABAgQIECBAgAABAgQIECBAgMDjCAgqPo0qAoJKlU2sM8fNn1B5VpKXnf/ars9M8nFJfiHJi5N87WNI/nqSL0jynkl+IMlXJ/n+W/7Krz+R5HOSfEiSd0nyY0m+6HzfXcUFlbuKuZ4AAQIECBAgQIAAAQIECBAgQIBABwFBpQOiR3QREFS6MHrIHQQeFFRen+Rbk/xgkk9J8rwkz0zyqvNzPyHJdyT5uvP//9FJnpvkfW4JKqff1fKOSX4yyVvOweazk/yRJP/hDjOfLhVU7gjmcgIECBAgQIAAAQIECBAgQIAAAQI9BASVHoqe0UNAUOmh6Bl3EXhQUPmy80+OnJ7zzknelOQbk7zw/OBTWPnlcxC5/65/mOQv3eGX0p/Cyuk//zrJvSSfccvQ757k9J/7f56U5DX37iWPnNLKUH8eHWpawxIgQIAAAQIECBAgQIAAAQIECBC4KSCo+B6qCAgqVTaxzhwPCiofleQVNwhemeSnk3xqkndK8utJPuv8Eyr3Lzv99WD/5pagcvoJli9P8seSvHeS+9/76adTPvIW8tOcL3rsNYLKOh+qkxIgQIAAAQIECBAgQIAAAQIECNQQEFRq7MEUv/F/YGZBYC+BBwWVpyV53Y0BXp7kl5I8J8mTk7w5yScl+fYb1zwjyX+6EFROP41y+vennzL5iiSnv1bsfyT50iS/I8mH3nJgP6Gy1xfhPQQIECBAgAABAgQIECBAgAABAgQuCAgqPo8qAn5Cpcom1pnjrkHl2p9Q+cDz7045/STL997gfdk5stwWVB67Eb9DZZ1v1EkJECBAgAABAgQIECBAgAABAgQKCQgqhZax+CiCyuIfwAHHv2tQOY34Q+efWDnFkft/bvsdKh+S5EeSfEySU0Q5/Xm/JD+V5EcbfkLlsTSCygEfi1cSIECAAAECBAgQIECAAAECBAgQEFR8A1UEBJUqm1hnjmuCyp8+/3VfX5fkXyX56CSfluT0O1KeneT0V4Sd/px++/rpd628NMlvOf81X7+Y5AvPP5XyJUl+8/kX3PsJlXW+OSclQIAAAQIECBAgQIAAAQIECBAYWEBQGXh5k40uqEy20AGOc01QOR3rBUlemOQ9zwHlJUm+75ZfSv9hSb4myel3tLzx/Avqn5XkqX5CZYAvxYgECBAgQIAAAQIECBAgQIAAAQIEkggqPoMqAoJKlU2Yo7qAv/Kr+obMR4AAAQIECBAgQIAAAQIECBAgMKWAoDLlWoc8lKAy5NoMfYCAoHIAulcSIECAAAECBAgQIECAAAECBAgQEFR8A1UEBJUqmzBHdQFBpfqGzEeAAAECBAgQIECAAAECBAgQIDClgKAy5VqHPJSgMuTaDH2AgKByALpXEiBAgAABAgQIECBAgAABAgQIEBBUfANVBASVKpswR3UBQaX6hsxHgAABAgQIECBAgAABAgQIECAwpYCgMuVahzyUoDLk2gx9gICgcgC6VxIgQIAAAQIECBAgQIAAAQIECBAQVHwDVQQElSqbMEd1AUGl+obMR4AAAQIECBAgQIAAAQIECBAgMKWAoDLlWoc8lKAy5NoMfYCAoHIAulcSIECAAAECBAgQIECAAAECBAgQEFR8A1UEBJUqmzBHdQFBpfqGzEeAAAECBAgQIECAAAECBAgQIDClgKAy5VqHPJSgMuTaDH2AgKByALpXEiBAgAABAgQIECBAgAABAgQIEBBUfANVBASVKpswR3UBQaX6hsxHgAABAgQIECBAgAABAgQIECAwpYCgMuVahzyUoDLk2gx9gICgcgC6VxIgQIAAAQIECBAgQIAAAQIECBAQVHwDVQQElSqbMEd1AUGl+obMR4AAAQIECBAgQIAAAQIECBAgMKWAoDLlWoc8lKAy5NoMfYCAoHIAulcSIECAAAECBAgQIECAAAECBAgQEFR8A1UEBJUqmzBHdQFBpfqGzEeAAAECBAgQIECAAAECBAgQIDClgKAy5VqHPJSgMuTaDH2AgKByALpXEiBAgAABAgQIECBAgAABAgQIEBBUfANVBASVKpswR3UBQaX6hsxHgAABAgQIECBAgAABAgQIECAwpcwv1/IAACAASURBVICgMuVahzyUoDLk2gx9gICgcgC6VxIgQIAAAQIECBAgQIAAAQIECBAQVHwDVQQElSqbMEd1AUGl+obMR4AAAQIECBAgQIAAAQIECBAgMKWAoDLlWoc8lKAy5NoMfYCAoHIAulcSIECAAAECBAgQIECAAAECBAgQEFR8A1UEBJUqmzBHdQFBpfqGzEeAAAECBAgQIECAAAECBAgQIDClgKAy5VqHPJSgMuTaDH2AgKByALpXEiBAgAABAgQIECBAgAABAgQIEBBUfANVBASVKpswR3UBQaX6hsxHgAABAgQIECBAgAABAgQIECAwpYCgMuVahzyUoDLk2gx9gICgcgC6VxIgQIAAAQIECBAgQIAAAQIECBAQVHwDVQQElSqbMEd1AUGl+obMR4AAAQIECBAgQIAAAQIECBAgMKWAoDLlWoc8lKAy5NoMfYCAoHIAulcSIECAAAECBAgQIECAAAECBAgQEFR8A1UEBJUqmzBHdQFBpfqGzEeAAAECBAgQIECAAAECBAgQIDClgKAy5VqHPJSgMuTaDH2AgKByALpXEiBAgAABAgQIECBAgAABAgQIEBBUfANVBASVKpswR3UBQaX6hsxHgAABAgQIECBAgAABAgQIECAwpYCgMuVahzyUoDLk2gx9gICgcgC6VxIgQIAAAQIECBAgQIAAAQIECBAQVHwDVQQElSqbMEd1AUGl+obMR4AAAQIECBAgQIAAAQIECBAgMKWAoDLlWoc8lKAy5NoMfYCAoHIAulcSIECAAAECBAgQIECAAAECBAgQEFR8A1UEBJUqmzBHdQFBpfqGzEeAAAECBAgQIECAAAECBAgQIDClgKAy5VqHPJSgMuTaDH2AgKByALpXEiBAgAABAgQIECBAgAABAgQIEBBUfANVBASVKpswR3UBQaX6hsxHgAABAgQIECBAgAABAgQIECAwpYCgMuVahzyUoDLk2gx9gICgcgC6VxIgQIAAAQIECBAgQIAAAQIECBAQVHwDVQQElSqbMEd1AUGl+obMR4AAAQIECBAgQIAAAQIECBAgMKWAoDLlWoc8lKAy5NoMfYCAoHIAulcSIECAAAECBAgQIECAAAECBAgQEFR8A1UEBJUqmzBHdQFBpfqGzEeAAAECBAgQIECAAAECBAgQIDClgKAy5VqHPJSgMuTaDH2AgKByALpXEiBAgAABAgQIECBAgAABAgQIEBBUfANVBASVKpswR3UBQaX6hsxHgAABAgQIECBAgAABAgQIECAwpYCgMuVahzyUoDLk2gx9gICgcgC6VxIgQIAAAQIECBAgQIAAAQIECBAQVHwDVQQElSqbMEd1AUGl+obMR4AAAQIECBAgQIAAAQIECBAgMKWAoDLlWoc8lKAy5NoMfYDAOajcyyOPnP7RHwIECBAgQIAAAQIECBAgQIAAAQIE9hAQVPZQ9o4WAUGlRck1BBJBxVdAgAABAgQIECBAgAABAgQIECBA4AABQeUAdK98oICg4sMg0CYgqLQ5uYoAAQIECBAgQIAAAQIECBAgQIBAVwFBpSunh20QEFQ24Ll1KQFBZal1OywBAgQIECBAgAABAgQIECBAgEAVAUGlyibMIaj4Bgi0CQgqbU6uIkCAAAECBAgQIECAAAECBAgQINBVQFDpyulhGwQElQ14bl1KQFBZat0OS4AAAQIECBAgQIAAAQIECBAgUEVAUKmyCXMIKr4BAm0Cgkqbk6sIECBAgAABAgQIECBAgAABAgQIdBUQVLpyetgGAUFlA55blxIQVJZat8MSIECAAAECBAgQIECAAAECBAhUERBUqmzCHIKKb4BAm4Cg0ubkKgIECBAgQIAAAQIECBAgQIAAAQJdBQSVrpwetkFAUNmA59alBASVpdbtsAQIECBAgAABAgQIECBAgAABAlUEBJUqmzCHoOIbINAmIKi0ObmKAAECBAgQIECAAAECBAgQIECAQFcBQaUrp4dtEBBUNuC5dSkBQWWpdTssAQIECBAgQIAAAQIECBAgQIBAFQFBpcomzCGo+AYItAkIKm1OriJAgAABAgQIECBAgAABAgQIECDQVUBQ6crpYRsEBJUNeG5dSkBQWWrdDkuAAAECBAgQIECAAAECBAgQIFBFQFCpsglzCCq+AQJtAoJKm5OrCBAgQIAAAQIECBAgQIAAAQIECHQVEFS6cnrYBgFBZQOeW5cSEFSWWrfDEiBAgAABAgQIECBAgAABAgQIVBEQVKpswhyCim+AQJuAoNLm5CoCBAgQIECAAAECBAgQIECAAAECXQUEla6cHrZBQFDZgOfWpQQElaXW7bAECBAgQIAAAQIECBAgQIAAAQJVBASVKpswh6DiGyDQJiCotDm5igABAgQIECBAgAABAgQIECBAgEBXAUGlK6eHbRAQVDbguXUpAUFlqXU7LAECBAgQIECAAAECBAgQIECAQBUBQaXKJswhqPgGCLQJCCptTq4iQIAAAQIECBAgQIAAAQIECBAg0FVAUOnK6WEbBASVDXhuXUpAUFlq3Q5LgAABAgQIECBAgAABAgQIECBQRUBQqbIJcwgqvgECbQKCSpuTqwgQIECAAAECBAgQIECAAAECBAh0FRBUunJ62AYBQWUDnluXEhBUllq3wxIgQIAAAQIECBAgQIAAAQIECFQREFSqbMIcgopvgECbgKDS5uQqAgQIECBAgAABAgQIECBAgAABAl0FBJWunB62QUBQ2YDn1qUE3hpU3vo/Of2jP1sFHn106xPcT4AAAQIECBAgQIAAAQIECBAgsIKAoLLClsc4o6Ayxp5MebyAoNJ5B4JKZ1CPI0CAAAECBAgQIECAAAECBAhMKiCoTLrYAY8lqAy4NCMfIiCodGYXVDqDehwBAgQIECBAgAABAgQIECBAYFIBQWXSxQ54LEFlwKUZ+RABQaUzu6DSGdTjCBAgQIAAAQIECBAgQIAAAQKTCggqky52wGMJKgMuzciHCAgqndkFlc6gHkeAAAECBAgQIECAAAECBAgQmFRAUJl0sQMeS1AZcGlGPkRAUOnMLqh0BvU4AgQIECBAgAABAgQIECBAgMCkAoLKpIsd8FiCyoBLM/IhAoJKZ3ZBpTOoxxEgQIAAAQIECBAgQIAAAQIEJhUQVCZd7IDHElQGXJqRDxEQVDqzCyqdQT2OAAECBAgQIECAAAECBAgQIDCpgKAy6WIHPJagMuDSjHyIgKDSmV1Q6QzqcQQIECBAgAABAgQIECBAgACBSQUElUkXO+CxBJUBl2bkQwQElc7sgkpnUI8jQIAAAQIECBAgQIAAAQIECEwqIKhMutgBjyWoDLg0Ix8iIKh0ZhdUOoN6HAECBAgQIECAAAECBAgQIEBgUgFBZdLFDngsQWXApRn5EAFBpTO7oNIZ1OMIECBAgAABAgQIECBAgAABApMKCCqTLnbAYwkqAy7NyIcICCqd2QWVzqAeR4AAAQIECBAgQIAAAQIECBCYVEBQmXSxAx5LUBlwaUY+REBQ6cwuqHQG9TgCBAgQIECAAAECBAgQIECAwKQCgsqkix3wWILKgEsz8iECgkpndkGlM6jHESBAgAABAgQIECBAgAABAgQmFRBUJl3sgMcSVAZcmpEPERBUOrMLKp1BPY4AAQIECBAgQIAAAQIECBAgMKmAoDLpYgc8lqAy4NKMfIiAoNKZXVDpDOpxBAgQIECAAAECBAgQIECAAIFJBQSVSRc74LEElQGXZuRDBASVzuyCSmdQjyNAgAABAgQIECBAgAABAgQITCogqEy62AGPJagMuDQjHyIgqHRmF1Q6g3ocAQIECBAgQIAAAQIECBAgQGBSAUFl0sUOeCxBZcClGfkQAUGlM7ug0hnU4wgQIECAAAECBAgQIECAAAECkwoIKpMudsBjCSoDLs3IhwgIKp3ZBZXOoB5HgAABAgQIECBAgAABAgQIEJhUQFCZdLEDHktQGXBpRj5EQFDpzC6odAb1OAIECBAgQIAAAQIECBAgQIDApAKCyqSLHfBYgsqASzPyIQKCSmd2QaUzqMcRIECAAAECBAgQIECAAAECBCYVEFQmXeyAxxJUBlyakQ8REFQ6swsqnUE9jgABAgQIECBAgAABAgQIECAwqYCgMuliBzyWoDLg0ox8iICg0pldUOkM6nEECBAgQIAAAQIECBAgQIAAgUkFBJVJFzvgsQSVAZdm5EMEBJXO7IJKZ1CPI0CAAAECBAgQIECAAAECBAhMKiCoTLrYAY8lqAy4NCMfIiCodGYXVDqDehwBAgQIECBAgAABAgQIECBAYFIBQWXSxQ54LEFlwKUZ+RABQaUzu6DSGdTjCBAgQIAAAQIECBAgQIAAAQKTCggqky52wGMJKgMuzciHCAgqndkFlc6gHkeAAAECBAgQIECAAAECBAgQmFRAUJl0sQMeS1AZcGlGPkRAUOnMLqh0BvU4AgQIECBAgAABAgQIECBAgMCkAoLKpIsd8FiCyoBLM/IhAoJKZ3ZBpTOoxxEgQIAAAQIECBAgQIAAAQIEJhUQVCZd7IDHElQGXJqRDxEQVDqzCyqdQT2OAAECBAgQIECAAAECBAgQIDCpgKAy6WIHPJagMuDSjHyIgKDSmV1Q6QzqcQQIECBAgAABAgQIECBAgACBSQUElUkXO+CxBJUBl2bkQwQElc7sgkpnUI8jQIAAAQIECBAgQIAAAQIECEwqIKhMutgBjyWoDLg0Ix8iIKh0ZhdUOoN6HAECBAgQIECAAAECBAgQIEBgUgFBZdLFDngsQWXApRn5EAFBpTO7oNIZ1OMIECBAgAABAgQIECBAgAABApMKCCqTLnbAYwkqAy7NyIcICCqd2QWVzqAeR4AAAQIECBAgQIAAAQIECBCYVEBQmXSxAx5LUBlwaUY+REBQ6cwuqHQG9TgCBAgQIECAAAECBAgQIECAwKQCgsqkix3wWILKgEsz8iECgkpndkGlM6jHESBAgAABAgQIECBAgAABAgQmFRBUJl3sgMcSVAZcmpEPERBUOrMLKp1BPY4AAQIECBAgQIAAAQIECBAgMKmAoDLpYgc8lqAy4NKMfIiAoNKZXVDpDOpxBAgQIECAAAECBAgQIECAAIFJBQSVSRc74LEElQGXZuRDBASVzuyCSmdQjyNAgAABAgQIECBAgAABAgQITCogqEy62AGPJagMuDQjHyIgqHRmF1Q6g3ocAQIECBAgQIAAAQIECBAgQGBSAUFl0sUOeCxBZcClDTjyJyZ5QZKnJ3nXJD+b5NuSvCTJuyV5Q5KPT/I9F872xednPPGg8wsqneEFlc6gHkeAAAECBAgQIECAAAECBAgQmFRAUJl0sQMeS1AZcGmDjfxVST4nyTcn+c4kv5rkg5P81SQ/neRzG4PK+yR5UpJXH3R+QaUzvKDSGdTjCBAgQIAAAQIECBAgQIAAAQKTCggqky52wGMJKgMubaCRTz918l1J/mKSb3rM3O+U5GOT/HhjUDn62IJK5w0IKp1BPY4AAQIECBAgQIAAAQIECBAgMKmAoDLpYgc8lqAy4NIGGvkHkrxHkmdcmPn9z0Hlzyb5o0k+Ocl/T/KNSb4kyVvO9z72r/x6VpKXJXl2ks9M8nFJfiHJi5N87Y33fUSSL0jyoedZfirJVyb5J3d0FFTuCHbb5YLKbUL+PQECBAgQIECAAAECBAgQIECAwElAUPEdVBEQVKpsYr453vkcRk5/5dffbggqp9+r8i+TfO85rHx+klNkOf2uldOfxwsqr0/yrUl+MMmnJHlekmcmedX5vlOgeb8kr03y60n+cJIvTPLpSf7ZHdgFlTtgtVwqqLQouYYAAQIECBAgQIAAAQIECBAgQEBQ8Q1UERBUqmxivjmenOTN59+V8vUNQeUfJfm0G9f9SJKfOP/EyqWg8mVJvuh83ynivOn80y0vfMA7T9/76a8a+5okH5DkYy7M9e5JTv+5/+f0+1tek9xLcmor/mwVEFS2CrqfAAECBAgQIECAAAECBAgQILCGgKCyxp5HOKWgMsKWxpzxflB5fpJvuHCE+3/l13OT/OMb1/3TJL8zyUee/7vH+wmVj0ryihv3vfL8y+4/9fzf/fbzXx32CUmecg4qp391KiOnX3T/eH9O73vR2/9LQaXX5yio9JL0HAIECBAgQIAAAQIECBAgQIDA3AKCytz7Hel0gspI2xpr1vt/5dfpd5r8nQuj3w8qp19g/z03rvuWJE89/+6T03/9eEHlaUled+O+lyf5pSTPOf9335nkw5OcfpLlx5L8apK/luQUWJ54YS4/ofKQvzdB5SEDezwBAgQIECBAgAABAgQIECBAYBIBQWWSRU5wDEFlgiUWPsK/S/KEJB92UFB5lyS/luQFSb7uxgzfnOQUcC4FlceO7HeodP7QBJXOoB5HgAABAgQIECBAgAABAgQIEJhUQFCZdLEDHktQGXBpA418ihbfleQvnH9x/M3R3zHJx55/T8obzoGj90+ovEeSX0nyGUlOEeX05/STJz+T5FFB5dgvSVA51t/bCRAgQIAAAQIECBAgQIAAAQKjCAgqo2xq/jkFlfl3fPQJvyrJZyf5piSnv37r9BMjH3T+ZfWnsPG5SR5WUDmd/VVJ3ivJ30ryliSnX1Z/+t9PPznjJ1QO/DoElQPxvZoAAQIECBAgQIAAAQIECBAgMJCAoDLQsiYfVVCZfMFFjvdJ57926+lJ3vX8EyKnn1w5/X6V01/L9TCDyu9N8g1Jnpnkl5O8NMlvPc8jqBz4gQgqB+J7NQECBAgQIECAAAECBAgQIEBgIAFBZaBlTT6qoDL5gh2vm4DfodKN8m0PElQ6g3ocAQIECBAgQIAAAQIECBAgQGBSAUFl0sUOeCxBZcClGfkQAUGlM7ug0hnU4wgQIECAAAECBAgQIECAAAECkwoIKpMudsBjCSoDLs3IhwgIKp3ZBZXOoB5HgAABAgQIECBAgAABAgQIEJhUQFCZdLEDHktQGXBpRj5EQFDpzC6odAb1OAIECBAgQIAAAQIECBAgQIDApAKCyqSLHfBYgsqASzPyIQKCSmd2QaUzqMcRIECAAAECBAgQIECAAAECBCYVEFQmXeyAxxJUBlyakQ8REFQ6swsqnUE9jgABAgQIECBAgAABAgQIECAwqYCgMuliBzyWoDLg0ox8iICg0pldUOkM6nEECBAgQIAAAQIECBAgQIAAgUkFBJVJFzvgsQSVAZdm5EMEBJXO7IJKZ1CPI0CAAAECBAgQIECAAAECBAhMKiCoTLrYAY8lqAy4NCMfIiCodGYXVDqDehwBAgQIECBAgAABAgQIECBAYFIBQWXSxQ54LEFlwKUZ+RABQaUzu6DSGdTjCBAgQIAAAQIECBAgQIAAAQKTCggqky52wGMJKgMuzciHCAgqndkFlc6gHkeAAAECBAgQIECAAAECBAgQmFRAUJl0sQMeS1AZcGlGPkRAUOnMLqh0BvU4AgQIECBAgAABAgQIECBAgMCkAoLKpIsd8FiCyoBLM/IhAoJKZ3ZBpTOoxxEgQIAAAQIECBAgQIAAAQIEJhUQVCZd7IDHElQGXJqRDxEQVDqzCyqdQT2OAAECBAgQIECAAAECBAgQIDCpgKAy6WIHPJagMuDSjHyIgKDSmV1Q6QzqcQQIECBAgAABAgQIECBAgACBSQUElUkXO+CxBJUBl2bkQwQElc7sgkpnUI8jQIAAAQIECBAgQIAAAQIECEwqIKhMutgBjyWoDLg0Ix8iIKh0ZhdUOoN6HAECBAgQIECAAAECBAgQIEBgUgFBZdLFDngsQWXApRn5EAFBpTO7oNIZ1OMIECBAgAABAgQIECBAgAABApMKCCqTLnbAYwkqAy7NyIcICCqd2QWVzqAeR4AAAQIECBAgQIAAAQIECBCYVEBQmXSxAx5LUBlwaUY+REBQ6cwuqHQG9TgCBAgQIECAAAECBAgQIECAwKQCgsqkix3wWILKgEsz8iECgkpndkGlM6jHESBAgAABAgQIECBAgAABAgQmFRBUJl3sgMcSVAZcmpEPERBUOrMLKp1BPY4AAQIECBAgQIAAAQIECBAgMKmAoDLpYgc8lqAy4NKMfIiAoNKZXVDpDOpxBAgQIECAAAECBAgQIECAAIFJBQSVSRc74LEElQGXZuRDBASVzuyCSmdQjyNAgAABAgQIECBAgAABAgQITCogqEy62AGPJagMuDQjHyIgqHRmF1Q6g3ocAQIECBAgQIAAAQIECBAgQGBSAUFl0sUOeCxBZcClGfkQAUGlM7ug0hnU4wgQIECAAAECBAgQIECAAAECkwoIKpMudsBjCSoDLs3IhwgIKp3ZBZXOoB5HgAABAgQIECBAgAABAgQIEJhUQFCZdLEDHktQGXBpRj5EQFDpzC6odAb1OAIECBAgQIAAAQIECBAgQIDApAKCyqSLHfBYgsqASzPyIQKCSmd2QaUzqMcRIECAAAECBAgQIECAAAECBCYVEFQmXeyAxxJUBlyakQ8REFQ6swsqnUE9jgABAgQIECBAgAABAgQIECAwqYCgMuliBzyWoDLg0ox8iICg0pldUOkM6nEECBAgQIAAAQIECBAgQIAAgUkFBJVJFzvgsQSVAZdm5EMEBJXO7IJKZ1CPI0CAAAECBAgQIECAAAECBAhMKiCoTLrYAY8lqAy4NCMfIiCodGYXVDqDehwBAgQIECBAgAABAgQIECBAYFIBQWXSxQ54LEFlwKUZ+RABQaUzu6DSGdTjCBAgQIAAAQIECBAgQIAAAQKTCggqky52wGMJKgMuzciHCAgqndkFlc6gHkeAAAECBAgQIECAAAECBAgQmFRAUJl0sQMeS1AZcGlGPkRAUOnMLqh0BvU4AgQIECBAgAABAgQIECBAgMCkAoLKpIsd8FiCyoBLM/IhAoJKZ3ZBpTOoxxEgQIAAAQIECBAgQIAAAQIEJhUQVCZd7IDHElQGXJqRDxEQVDqzCyqdQT2OAAECBAgQIECAAAECBAgQIDCpgKAy6WIHPJagMuDSjHyIgKDSmV1Q6QzqcQQIECBAgAABAgQIECBAgACBSQUElUkXO+CxBJUBl2bkQwQElc7sgkpnUI8jQIAAAQIECBAgQIAAAQIECEwqIKhMutgBjyWoDLg0Ix8iIKh0ZhdUOoN6HAECBAgQIECAAAECBAgQIEBgUgFBZdLFDngsQWXApRn5EAFBpTO7oNIZ1OMIECBAgAABAgQIECBAgAABApMKCCqTLnbAYwkqAy7NyIcICCqd2QWVzqAeR4AAAQIECBAgQIAAAQIECBCYVEBQmXSxAx5LUBlwaUY+REBQ6cwuqHQG9TgCBAgQIECAAAECBAgQIECAwKQCgsqkix3wWILKgEsz8iECbw0q9+7dyyOPnP7RHwIECBAgQIAAAQIECBAgQIAAAQIE9hAQVPZQ9o4WAUGlRck1BBJBxVdAgAABAgQIECBAgAABAgQIECBA4AABQeUAdK98oICg4sMg0CYgqLQ5uYoAAQIECBAgQIAAAQIECBAgQIBAVwFBpSunh20QEFQ24Ll1KQFBZal1OywBAgQIECBAgAABAgQIECBAgEAVAUGlyibMIaj4Bgi0CQgqbU6uIkCAAAECBAgQIECAAAECBAgQINBVQFDpyulhGwQElQ14bl1KQFBZat0OS4AAAQIECBAgQIAAAQIECBAgUEVAUKmyCXMIKr4BAm0Cgkqbk6sIECBAgAABAgQIECBAgAABAgQIdBUQVLpyetgGAUFlA55blxIQVJZat8MSIECAAAECBAgQIECAAAECBAhUERBUqmzCHIKKb4BAm4Cg0ubkKgIECBAgQIAAAQIECBAgQIAAAQJdBQSVrpwetkFAUNmA59alBASVpdbtsAQIECBAgAABAgQIECBAgAABAlUEBJUqmzCHoOIbINAmIKi0ObmKAAECBAgQIECAAAECBAgQIECAQFcBQaUrp4dtEBBUNuC5dSkBQWWpdTssAQIECBAgQIAAAQIECBAgQIBAFQFBpcomzCGo+AYItAkIKm1OriJAgAABAgQIECBAgAABAgQIECDQVUBQ6crpYRsEBJUNeG5dSkBQWWrdDkuAAAECBAgQIECAAAECBAgQIFBFQFCpsglzCCq+AQJtAoJKm5OrCBAgQIAAAQIECBAgQIAAAQIECHQVEFS6cnrYBgFBZQOeW5cSEFSWWrfDEiBAgAABAgQIECBAgAABAgQIVBEQVKpswhyCim+AQJuAoNLm5CoCBAgQIECAAAECBAgQIECAAAECXQUEla6cHrZBQFDZgOfWpQQElaXW7bAECBAgQIAAAQIECBAgQIAAAQJVBASVKpswh6DiGyDQJiCotDm5igABAgQIECBAgAABAgQIECBAgEBXAUGlK6eHbRAQVDbguXUpAUFlqXU7LAECBAgQIECAAAECBAgQIECAQBUBQaXKJswhqPgGCLQJCCptTq4iQIAAAQIECBAgQIAAAQIECBAg0FVAUOnK6WEbBASVDXhuXUpAUFlq3Q5LgAABAgQIECBAgAABAgQIECBQRUBQqbIJcwgqvgECbQKCSpuTqwgQIECAAAECBAgQIECAAAECBAh0FRBUunJ62AYBQWUDnluXEhBUllq3wxIgQIAAAQIECBAgQIAAAQIECFQREFSqbMIcgopvgECbwNuCSpLTP/hDgEAHgUcf7fAQjyBAgAABAgQIECBAgAABAgRmFxBUZt/wOOcTVMbZlUmPFRBUjvX39hkFBJUZt+pMBAgQIECAAAECBAgQIECgu4Cg0p3UA68UEFSuhHPbcgKCynIrd+CHLiCoPHRiLyBAgAABAgQIECBAgAABAjMICCozbHGOMwgqc+zRKR6+gKDy8I29YTUBQWW1jTsvAQIECBAgQIAAAQIECBC4SkBQuYrNTQ9BQFB5CKgeOaWAoDLlWh3qUAFB5VB+LydAgAABAgQIECBAgAABT07sjQAAIABJREFUAqMICCqjbGr+OQWV+XfshH0EBJU+jp5C4DcEBBVfAwECBAgQIECAAAECBAgQINAgIKg0ILlkFwFBZRdmL5lAQFCZYImOUExAUCm2EOMQIECAAAECBAgQIECAAIGaAoJKzb2sOJWgsuLWnfkaAUHlGjX3ELgkIKj4PggQIECAAAECBAgQIECAAIEGAUGlAckluwgIKrswe8kEAoLKBEt0hGICgkqxhRiHAAECBAgQIECAAAECBAjUFBBUau5lxakElRW37szXCAgq16i5h8AlAUHF90GAAAECBAgQIECAAAECBAg0CAgqDUgu2UVAUNmF2UsmEBBUJliiIxQTEFSKLcQ4BAgQIECAAAECBAgQIECgpoCgUnMvK04lqKy4dWe+RkBQuUbNPQQuCQgqvg8CBAgQIECAAAECBAgQIECgQUBQaUByyS4CgsouzF4ygYCgMsESHaGYgKBSbCHGIUCAAAECBAgQIECAAAECNQUElZp7WXEqQWXFrTvzNQKCyjVq7iFwSUBQ8X0QIECAAAECBAgQIECAAAECDQKCSgOSS3YREFR2YfaSCQQElQmW6AjFBASVYgsxDgECBAgQIECAAAECBAgQqCkgqNTcy4pTCSorbt2ZrxEQVK5Rcw+BSwKCiu+DAAECBAgQIECAAAECBAgQaBAQVBqQXLKLgKCyC7OXTCAgqEywREcoJiCoFFuIcQgQIECAAAECBAgQIECAQE0BQaXmXlacSlBZcevOfI2AoHKNmnsIXBIQVHwfBAgQIECAAAECBAgQIECAQIOAoNKA5JJdBASVXZi9ZAIBQWWCJTpCMQFBpdhCjEOAAAECBAgQIECAAAECBGoKCCo197LiVILKilt35msEBJVr1NxD4JKAoOL7IECAAAECBAgQIECAAAECBBoEBJUGJJfsIiCo7MLsJRMICCoTLNERigkIKsUWYhwCBAgQIECAAAECBAgQIFBTQFCpuZcVpxJUVty6M18jIKhco+YeApcEBBXfBwECBAgQIECAAAECBAgQINAgIKg0ILlkFwFBZRdmL5lAQFCZYImOUExAUCm2EOMQIECAAAECBAgQIECAAIGaAoJKzb2sOJWgsuLWnfkaAUHlGjX3ELgkIKj4PggQIECAAAECBAgQIECAAIEGAUGlAckluwgIKrswe8kEAoLKBEt0hGICgkqxhRiHAAECBAgQIECAAAECBAjUFBBUau5lxakElRW37szXCAgq16i5h8AlAUHF90GAAAECBAgQIECAAAECBAg0CAgqDUgu2UVAUNmF2UsmEBBUJliiIxQTEFSKLcQ4BAgQIECAAAECBAgQIECgpoCgUnMvK04lqKy4dWe+RkBQuUbNPQQuCQgqvg8CBAgQIECAAAECBAgQIECgQUBQaUByyS4CgsouzF4ygYCgMsESHaGYgKBSbCHGIUCAAAECBAgQIECAAAECNQUElZp7WXEqQWXFrTvzNQKCyjVq7iFwSUBQ8X0QIECAAAECBAgQIECAAAECDQKCSgOSS3YREFR2YfaSCQQElQmW6AjFBASVYgsxDgECBAgQIECAAAECBAgQqCkgqNTcy4pTCSorbt2ZrxEQVK5Rcw+BSwKCiu+DAAECBAgQIECAAAECBAgQaBAQVBqQXLKLgKCyC7OXTCAgqEywREcoJiCoFFuIcQgQIECAAAECBAgQIECAQE0BQaXmXlacSlBZcevOfI2AoHKNmnsIXBIQVHwfBAgQIECAAAECBAgQIECAQIOAoNKA5JJdBASVXZi9ZAIBQWWCJTpCMQFBpdhCjEOAAAECBAgQIECAAAECBGoKCCo197LiVILKilt35msEBJVr1NxD4JKAoOL7IECAAAECBAgQIECAAAECBBoEBJUGJJfsIiCo7MLsJRMICCoTLNERigkIKsUWYhwCBAgQIECAAAECBAgQIFBTQFCpuZcVpxJUVty6M18jIKhco+YeApcEBBXfBwECBAgQIECAAAECBAgQINAgIKg0ILlkFwFBZRdmL5lAQFCZYImOUExAUCm2EOMQIECAAAECBAgQIECAAIGaAoJKzb2sOJWgsuLWnfkaAUHlGjX3ELgkIKj4PggQIECAAAECBAgQIECAAIEGAUGlAckluwgIKrswe8kEAoLKBEt0hGICgkqxhRiHAAECBAgQIECAAAECBAjUFBBUau5lxakElRW37szXCAgq16i5h8AlAUHF90GAAAECBAgQIECAAAECBAg0CAgqDUgu2UVAUNmF2UsmEBBUJliiIxQTEFSKLcQ4BAgQIECAAAECBAgQIECgpoCgUnMvK04lqKy4dWe+RkBQuUbNPQQuCQgqvg8CBAgQIECAAAECBAgQIECgQUBQaUByyS4CgsouzF5yi8AXJ3lBkicm+cAkfy7JS5L8yh3l3j/JG5J8fJLvueO9t10uqNwm5N8TuKuAoHJXMdcTIECAAAECBAgQIECAAIElBQSVJdde8tCCSsm1LDfUzaDyJ5N8d5LfleRn7ighqNwRzOUEDhUQVA7l93ICBAgQIECAAAECBAgQIDCKgKAyyqbmn1NQmX/HI5xQUBlhS2Yk0FtAUOkt6nkECBAgQIAAAQIECBAgQGBKAUFlyrUOeShBZci1TTf0/aDynCQve8zpfjbJ6SdP3jvJlyd51vmffy7JtyX50iT/+3zPY39C5SuTfFKS35Pk0RvPfV6Sr09y+mu8fqlR01/51QjlMgLNAoJKM5ULCRAgQIAAAQIECBAgQIDAygKCysrbr3V2QaXWPlad5n5Q+d1J/nKSFyf5xCRvTvK/kvxwkqcl+fQkr0jy386/a+V03+l3pTz/cYLK70vyE0meneTlN3D//TmknGJL6x9BpVXKdQRaBQSVVinXESBAgAABAgQIECBAgACBpQUElaXXX+rwgkqpdSw7zDV/5ddvSvJnknxTkiecf0rlQb9D5RRg/vM5xpyAT9Hm9Un+1C2/uP7dk5z+c//Pk5K85t75x1qW3ZSDE+gpIKj01PQsAgQIECBAgAABAgQIECAwrYCgMu1qhzuYoDLcyqYcuCWonL7Vz07yV86/sP5dbkh8wDmSPCionP56r3+Q5MlJfu38V4SdfgrmfZP83wuap5le9Nh/L6hM+f051FECgspR8t5LgAABAgQIECBAgAABAgSGEhBUhlrX1MMKKlOvd5jDtQSVzz3/VWBfkeT0V3ad/tqvD0vyNee/Dux159+18oYkH3/jp09+2/mvDvucJN+c5PTv/0WSz79Fx0+oDPP5GHRYAUFl2NUZnAABAgQIECBAgAABAgQI7CkgqOyp7V2XBAQV30cFgZag8sok/yXJJ98Y+PQ7Vb7llqByuvwbknxQki9J8m+TfHCSH7/jwf0OlTuCuZzArQKCyq1ELiBAgAABAgQIECBAgAABAgQSQcVXUEVAUKmyibXnuBlUPjbJ9yX5/edfKH9f5vSL6X/0xu9COf3335/kjzcElWcm+Y/nX2h/+t0rH3EFt6ByBZpbCFwUEFR8IAQIECBAgAABAgQIECBAgECDgKDSgOSSXQQElV2YveQWgZtB5f2S/EySlyT550n+Z5LXJvn7Sf5Gks87/5L5P5/kI8+/T+VpSR7vr/y6/+rTv/8DSZ5//omVuy5FULmrmOsJ3CYgqNwm5N8TIECAAAECBAgQIECAAAEC8RMqPoI6AoJKnV2sPMnNoHJy+JvnePKUJG88/26Udzv/cvlPOEN9e5LvSPLdDT+hcrrl755jzOmX0//qFdiCyhVobiFwUUBQ8YEQIECAAAECBAgQIECAAAECDQJ+QqUBySW7CAgquzB7SQGBVyX5ySTPvXIWQeVKOLcReFwBQcXHQYAAAQIECBAgQIAAAQIECDQICCoNSC7ZRUBQ2YXZSw4U+NAkH5Pk7yX5Q0l+6MpZBJUr4dxGQFDxDRAgQIAAAQIECBAgQIAAAQJbBASVLXru7SkgqPTU9KyKAo8m+ZVzUPmKDQMKKhvw3ErggQJ+QsWHQYAAAQIECBAgQIAAAQIECDQICCoNSC7ZRUBQ2YXZSyYQEFQmWKIjFBMQVIotxDgECBAgQIAAAQIECBAgQKCmgKBScy8rTiWorLh1Z75GQFC5Rs09BC4JCCq+DwIECBAgQIAAAQIECBAgQKBBQFBpQHLJLgKCyi7MXjKBgKAywRIdoZiAoFJsIcYhQIAAAQIECBAgQIAAAQI1BQSVmntZcSpBZcWtO/M1AoLKNWruIXBJQFDxfRAgQIAAAQIECBAgQIAAAQINAoJKA5JLdhEQVHZh9pIJBASVCZboCMUEBJViCzEOAQIECBAgQIAAAQIECBCoKSCo1NzLilMJKitu3ZmvERBUrlFzD4FLAoKK74MAAQIECBAgQIAAAQIECBBoEBBUGpBcsouAoLILs5dMICCoTLBERygmIKgUW4hxCBAgQIAAAQIECBAgQIBATQFBpeZeVpxKUFlx6858jYCgco2aewhcEhBUfB8ECBAgQIAAAQIECBAgQIBAg4Cg0oDkkl0EBJVdmL1kAgFBZYIlOkIxAUGl2EKMQ4AAAQIECBAgQIAAAQIEagoIKjX3suJUgsqKW3fmawQElWvU3EPgkoCg4vsgQIAAAQIECBAgQIAAAQIEGgQElQYkl+wiIKjswuwlEwgIKhMs0RGKCQgqxRZiHAIECBAgQIAAAQIECBAgUFNAUKm5lxWnElRW3LozXyMgqFyj5h4ClwQEFd8HAQIECBAgQIAAAQIECBAg0CAgqDQguWQXAUFlF2YvmUBAUJlgiY5QTEBQKbYQ4xAgQIAAAQIECBAgQIAAgZoCgkrNvaw4laCy4tad+RoBQeUaNfcQuCQgqPg+CBAgQIAAAQIECBAgQIAAgQYBQaUBySW7CAgquzB7yQQCgsoES3SEYgKCSrGFGIcAAQIECBAgQIAAAQIECNQUEFRq7mXFqQSVFbfuzNcICCrXqLmHwCUBQcX3QYAAAQIECBAgQIAAAQIECDQICCoNSC7ZRUBQ2YXZSyYQEFQmWKIjFBMQVIotxDgECBAgQIAAAQIECBAgQKCmgKBScy8rTiWorLh1Z75GQFC5Rs09BC4JCCq+DwIECBAgQIAAAQIECBAgQKBBQFBpQHLJLgKCyi7MXjKBgKAywRIdoZiAoFJsIcYhQIAAAQIECBAgQIAAAQI1BQSVmntZcSpBZcWtO/M1AoLKNWruIXBJQFDxfRAgQIAAAQIECBAgQIAAAQINAoJKA5JLdhEQVHZh9pIJBASVCZboCMUEBJViCzEOAQIECBAgQIAAAQIECBCoKSCo1NzLilMJKitu3ZmvERBUrlFzD4FLAoKK74MAAQIECBAgQIAAAQIECBBoEBBUGpBcsouAoLILs5dMICCoTLBERygmIKgUW4hxCBAgQIAAAQIECBAgQIBATQFBpeZeVpxKUFlx6858jYCgco2aewhcEhBUfB8ECBAgQIAAAQIECBAgQIBAg4Cg0oDkkl0EBJVdmL1kAgFBZYIlOkIxAUGl2EKMQ4AAAQIECBAgQIAAAQIEagoIKjX3suJUgsqKW3fmawQElWvU3EPgkoCg4vsgQIAAAQIECBAgQIAAAQIEGgQElQYkl+wiIKjswuwlEwgIKhMs0RGKCQgqxRZiHAIECBAgQIAAAQIECBAgUFNAUKm5lxWnElRW3LozXyMgqFyj5h4ClwQEFd8HAQIECBAgQIAAAQIECBAg0CAgqDQguWQXAUFlF2YvmUBAUJlgiY5QTEBQKbYQ4xAgQIAAAQIECBAgQIAAgZoCgkrNvaw4laCy4tad+RoBQeUaNfcQuCQgqPg+CBAgQIAAAQIECBAgQIAAgQYBQaUBySW7CAgquzB7yQQCgsoES3SEYgKCSrGFGIcAAQIECBAgQIAAAQIECNQUEFRq7mXFqQSVFbfuzNcICCrXqLmHwCUBQcX3QYAAAQIECBAgQIAAAQIECDQICCoNSC7ZRUBQ2YXZSyYQEFQmWKIjFBMQVIotxDgECBAgQIAAAQIECBAgQKCmgKBScy8rTiWorLh1Z75GQFC5Rs09BC4JCCq+DwIECBAgQIAAAQIECBAgQKBBQFBpQHLJLgKCyi7MXjKBgKAywRIdoZiAoFJsIcYhQIAAAQIECBAgQIAAAQI1BQSVmntZcSpBZcWtO/M1AoLKNWruIXBJQFDxfRAgQIAAAQIECBAgQIAAAQINAoJKA5JLdhEQVHZh9pIJBASVCZboCMUEBJViCzEOAQIECBAgQIAAAQIECBCoKSCo1NzLilMJKitu3ZmvERBUrlFzD4FLAoKK74MAAQIECBAgQIAAAQIECBBoEBBUGpBcsouAoLILs5dMICCoTLBERygmIKgUW4hxCBAgQIAAAQIECBAgQIBATQFBpeZeVpxKUFlx6858jYCgco2aewhcEhBUfB8ECBAgQIAAAQIECBAgQIBAg4Cg0oDkkl0EBJVdmL1kAoG3BZV79/LII6d/9IcAAQIECBAgQIAAAQIECBAgQIAAgT0EBJU9lL2jRUBQaVFyDYFEUPEVECBAgAABAgQIECBAgAABAgQIEDhAQFA5AN0rHyggqPgwCLQJCCptTq4iQIAAAQIECBAgQIAAAQIECBAg0FVAUOnK6WEbBASVDXhuXUpAUFlq3Q5LgAABAgQIECBAgAABAgQIECBQRUBQqbIJcwgqvgECbQKCSpuTqwgQIECAAAECBAgQIECAAAECBAh0FRBUunJ62AYBQWUDnluXEhBUllq3wxIgQIAAAQIECBAgQIAAAQIECFQREFSqbMIcgopvgECbgKDS5uQqAgQIECBAgAABAgQIECBAgAABAl0FBJWunB62QUBQ2YDn1qUEBJWl1u2wBAgQIECAAAECBAgQIECAAAECVQQElSqbMIeg4hsg0CYgqLQ5uYoAAQIECBAgQIAAAQIECBAgQIBAVwFBpSunh20QEFQ24Ll1KQFBZal1OywBAgQIECBAgAABAgQIECBAgEAVAUGlyibMIaj4Bgi0CQgqbU6uIkCAAAECBAgQIECAAAECBAgQINBVQFDpyulhGwQElQ14bl1KQFBZat0OS4AAAQIECBAgQIAAAQIECBAgUEVAUKmyCXMIKr4BAm0Cgkqbk6sIECBAgAABAgQIECBAgAABAgQIdBUQVLpyetgGAUFlA55blxIQVJZat8MSIECAAAECBAgQIECAAAECBAhUERBUqmzCHIKKb4BAm4Cg0ubkKgIECBAgQIAAAQIECBAgQIAAAQJdBQSVrpwetkFAUNmA59alBASVpdbtsAQIECBAgAABAgQIECBAgAABAlUEBJUqmzCHoOIbINAmIKi0ObmKAAECBAgQIECAAAECBAgQIECAQFcBQaUrp4dtEBBUNuC5dSkBQWWpdTssAQIECBAgQIAAAQIECBAgQIBAFQFBpcomzCGo+AYItAkIKm1OriJAgAABAgQIECBAgAABAgQIECDQVUBQ6crpYRsEBJUNeG5dSkBQWWrdDkuAAAECBAgQIECAAAECBAgQIFBFQFCpsglzCCq+AQJtAoJKm5OrCBAgQIAAAQIECBAgQIAAAQIECHQVEFS6cnrYBgFBZQOeW5cSEFSWWrfDEiBAgAABAgQIECBAgAABAgQIVBEQVKpswhyCim+AQJuAoNLm5CoCBAgQIECAAAECBAgQIECAAAECXQUEla6cHrZBQFDZgOfWpQQElaXW7bAECBAgQIAAAQIECBAgQIAAAQJVBASVKpswh6DiGyDQJiCotDm5igABAgQIECBAgAABAgQIECBAgEBXAUGlK6eHbRAQVDbguXUpgbcGlXxekicsdW6HJbC7wKMvenT3d3ohAQIECBAgQIAAAQIECBAgUFdAUKm7m9UmE1RW27jzXisgqFwr5z4CdxQQVO4I5nICBAgQIECAAAECBAgQIDC5gKAy+YIHOp6gMtCyjHqogKByKL+XryQgqKy0bWclQIAAAQIECBAgQIAAAQK3Cwgqtxu5Yh8BQWUfZ28ZX0BQGX+HTjCIgKAyyKKMSYAAAQIECBAgQIAAAQIEdhIQVHaC9ppbBQSVW4lcQOCtAoKKD4HATgKCyk7QXkOAAAECBAgQIECAAAECBAYREFQGWdQCYwoqCyzZEbsICCpdGD2EwO0CgsrtRq4gQIAAAQIECBAgQIAAAQIrCQgqK2279lkFldr7MV0dAUGlzi5MMrmAoDL5gh2PAAECBAgQIECAAAECBAjcUUBQuSOYyx+agKDy0Gg9eDIBQWWyhTpOXQFBpe5uTEaAAAECBAgQIECAAAECBI4QEFSOUPfOBwkIKr4LAm0Cgkqbk6sIbBYQVDYTegABAgQIECBAgAABAgQIEJhKQFCZap1DH0ZQGXp9ht9RQFDZEdur1hYQVNbev9MTIECAAAECBAgQIECAAIHHCggqvokqAoJKlU2Yo7qAoFJ9Q+abRkBQmWaVDkKAAAECBAgQIECAAAECBLoICCpdGD2kg4Cg0gHRI5YQEFSWWLNDVhAQVCpswQwECBAgQIAAAQIECBAgQKCOgKBSZxerTyKorP4FOH+rgKDSKuU6AhsFBJWNgG4nQIAAAQIECBAgQIAAAQKTCQgqky104OMIKgMvz+i7Cggqu3J72coCgsrK23d2AgQIECBAgAABAgQIECDw9gKCiq+iioCgUmUT5qguIKhU35D5phEQVKZZpYMQIECAAAECBAgQIECAAIEuAoJKF0YP6SAgqHRA9IglBASVJdbskBUEBJUKWzADAQIECBAgQIAAAQIECBCoIyCo1NnF6pMIKqt/Ac7fKiCotEq5jsBGAUFlI6DbCRAgQIAAAQIECBAgQIDAZAKCymQLHfg4gsrAyzP6rgKCyq7cXraygKCy8vadnQABAgQIECBAgAABAgQIvL2AoOKrqCIgqFTZhDmqCwgq1TdkvmkEBJVpVukgBAgQIECAAAECBAgQIECgi4Cg0oXRQzoICCodED1iCQFBZYk1O2QFAUGlwhbMQIAAAQIECBAgQIAAAQIE6ggIKnV2sfokgsrqX4DztwoIKq1SriOwUUBQ2QjodgIECBAgQIAAAQIECBAgMJmAoDLZQgc+jqAy8PKMvquAoLIrt5etLCCorLx9ZydAgAABAgQIECBAgAABAm8vIKj4KqoICCpVNmGO6gKCSvUNmW8aAUFlmlU6CAECBAgQIECAAAECBAgQ6CIgqHRh9JAOAoJKB0SPWEJAUFlizQ5ZQUBQqbAFMxAgQIAAAQIECBAgQIAAgToCgkqdXaw+iaCy+hfg/K0CgkqrlOsIbBQQVDYCup0AAQIECBAgQIAAAQIECEwmIKhMttCBjyOoDLw8o+8qIKjsyu1lKwsIKitv39kJECBAgAABAgQIECBAgMDbCwgqvooqAoJKlU2Yo7qAoFJ9Q+abRkBQmWaVDkKAAAECBAgQIECAAAECBLoICCpdGD2kg4Cg0gHRI5YQEFSWWLNDVhAQVCpswQwECBAgQIAAgf/X3p0A27KV9QH/F5EhDqAMQpgEQkQGh/AMQxBjALWEEFDRisEyGDEDiAqIxaSAIIKiIigGIYloDMZolBKpRIgTDhAFNSKhJIoI7zEIyiQow3upRfrqqXPPvXft7t57r17rd6qe8u7rtXp9v291nbvP/3Q3AQIECBAg0I6AQKWdXoy+EoHK6DtA/bUCApVaKccRWCggUFkIaDgBAgQIECBAgAABAgQIEOhMQKDSWUM3XI5AZcPNs/SDCghUDsrtZCMLCFRG7r7aCRAgQIAAAQIECBAgQIDA+QICFbuiFQGBSiudsI7WBQQqrXfI+roREKh000qFECBAgAABAgQIECBAgACBVQQEKqswmmQFAYHKCoimGEJAoDJEmxXZgoBApYUuWAMBAgQIECBAgAABAgQIEGhHQKDSTi9GX4lAZfQdoP5aAYFKrZTjCCwUEKgsBDScAAECBAgQIECAAAECBAh0JiBQ6ayhGy5HoLLh5ln6QQUEKgfldrKRBQQqI3df7QQIECBAgAABAgQIECBA4HwBgYpd0YqAQKWVTlhH6wICldY7ZH3dCAhUummlQggQIECAAAECBAgQIECAwCoCApVVGE2ygoBAZQVEUwwhIFAZos2KbEFAoNJCF6yBAAECBAgQIECAAAECBAi0IyBQaacXo69EoDL6DlB/rYBApVbKcQQWCghUFgIaToAAAQIECBAgQIAAAQIEOhMQqHTW0A2XI1DZcPMs/aACApWDcjvZyAIClZG7r3YCBAgQIECAAAECBAgQIHC+gEDFrmhFQKDSSieso3UBgUrrHbK+bgQEKt20UiEECBAgQIAAAQIECBAgQGAVAYHKKowmWUFAoLICoimGEBCoDNFmRbYgIFBpoQvWQIAAAQIECBAgQIAAAQIE2hEQqLTTi9FXIlAZfQeov1ZAoFIr5TgCCwUEKgsBDSdAgAABAgQIECBAgAABAp0JCFQ6a+iGyxGobLh5ln5QAYHKQbmdbGQBgcrI3Vc7AQIECBAgQIAAAQIECBA4X0CgYle0IiBQaaUT1tG6gECl9Q5ZXzcCApVuWqkQAgQIECBAgAABAgQIECCwioBAZRVGk6wgIFBZAdEUFxV4UJKHJfnUJB9O8sdJfjHJI/bg9nnT3J+e5DUrzy9QWRnUdAQuJCBQsTcIECBAgAABAgQIECBAgACBkwICFfuhFQGBSiud6HMdj0ny5CTfOQUd10pyWZKvTHLrPZR87SS3S/K7ST6w8vwClZVBTUdAoGIPECBAgAABAgQIECBAgAABAjUCApUaJcccQkCgcgjlcc9xeZKfSfLQUwRl3121MRaBysYaZrnbFXCHynZ7Z+UECBAgQIAAAQIECBAgQGAfAgKVfaiac46AQGWOmjG1An+R5GnTXSoXGnOLJG9I8sAkX5Tk/tPdJT+Q5EknBn1akicmuVuS601jnpfkWUmunI4765FfJbj5xiRlkY8kAAAgAElEQVQ3TPK1U5DzX6dHjv1VbSFJBCo7YDmUwBIBgcoSPWMJECBAgAABAgQIECBAgEB/AgKV/nq61YoEKlvt3DbW/fIkt0nyqCQvTvLOM5Z9LlC5YjrmvyX53CTlcWHl3SslWClf95z+/LeSvDfJZ02BSwlsvuMSgcqbkvxCkhcm+Yzp+MdOjyKrlRSo1Eo5jsBCAYHKQkDDCRAgQIAAAQIECBAgQIBAZwIClc4auuFyBCobbt4Gll7Ci/LIr1tOd4b8nyQ/leQZSd4zrf9coPLSJF9woqZy98m9k9zsxB0o5/5z2bd/K8k3J3lwkltdIlApwU4Jac59lTXdKMldLmL4CUnKP+e+yh0ur84jkpQ3tfgiQGBvAgKVvdGamAABAgQIECBAgAABAgQIbFJAoLLJtnW5aIFKl21tqqhrTkHJFya5R5LbJnl9kjsmeV+Sc4HKQ5L84ImVl8d/vSTJpyT5kyTlhfblrpXyaLCbJ7n6iWPL//5wkgs98utbkjzlxPFPTfJVSW56EanyeLEnnPffBSpNbS6L6VNAoNJnX1VFgAABAgQIECBAgAABAgTmCghU5soZt7aAQGVtUfNdSuBrkjx/eq/J950IVB4w3b1ybvxlScrjvcpdJK9MUo4td6OU96q8Osm7ktwvyeOnO0lKOHOhQKU8Ouz7TyyshCVfl+T6F1msO1Qu1Un/ncCeBAQqe4I1LQECBAgQIECAAAECBAgQ2KiAQGWjjetw2QKVDpu6gZLKu1R+Ism/3eEOlfKOlR9J8ugT9ZU7SEo4UsKPtQOV04zeobKBjWWJfQgIVProoyoIECBAgAABAgQIECBAgMBaAgKVtSTNs1RAoLJU0PiLCXxykrefOuAGSd4yPYKrhCEXe4fKfabHcl2Z5M+TPOvEY7jKO1Rek+TTBCo2IYG+BAQqffVTNQQIECBAgAABAgQIECBAYKmAQGWpoPFrCQhU1pI0z1kCb0vyoiQ/PwUr5X0o3zS9pP4zk7zhRKBS7kB58fTYr/IC+ccm+YYkz54mLne0lHewPDzJnyV56BSmlBfeu0PF/iPQkYBApaNmKoUAAQIECBAgQIAAAQIECKwgIFBZAdEUqwgIVFZhNMkFBEroUd5zcock103y1iS/nuTbkrxuGnPuDpWvTPJPpn/+Mslzpsd5XTUdd8Mk/y7JPZN8IMkLppfb/5BAxf4j0JeAQKWvfqqGAAECBAgQIECAAAECBAgsFRCoLBU0fi0BgcpakuaZK3AuULnvdIfK3Hn2Pc47VPYtbH4Ck4BAxVYgQIAAAQIECBAgQIAAAQIETgoIVOyHVgQEKq10Ytx1CFTG7b3KCZwpIFCxMQgQIECAAAECBAgQIECAAAGBij3QooBApcWujLUmgcpY/VYtgUsKCFQuSeQAAgQIECBAgAABAgQIECAwlIA7VIZqd9PFClSabo/FNSTgkV8NNcNS+hYQqPTdX9URIECAAAECBAgQIECAAIFdBQQqu4o5fl8CApV9yZq3NwGBSm8dVU+zAgKVZltjYQQIECBAgAABAgQIECBA4CgCApWjsDvpGQICFduCQJ2AQKXOyVEEFgsIVBYTmoAAAQIECBAgQIAAAQIECHQlIFDpqp2bLkagsun2WfwBBQQqB8R2qrEFBCpj91/1BAgQIECAAAECBAgQIEDgtIBAxZ5oRUCg0konrKN1AYFK6x2yvm4EBCrdtFIhBAgQIECAAAECBAgQIEBgFQGByiqMJllBQKCyAqIphhAQqAzRZkW2ICBQaaEL1kCAAAECBAgQIECAAAECBNoREKi004vRVyJQGX0HqL9WQKBSK+U4AgsFBCoLAQ0nQIAAAQIECBAgQIAAAQKdCQhUOmvohssRqGy4eZZ+UAGBykG5nWxkAYHKyN1XOwECBAgQIECAAAECBAgQOF9AoGJXtCIgUGmlE9bRuoBApfUOWV83AgKVblqpEAIECBAgQIAAAQIECBAgsIqAQGUVRpOsICBQWQHRFEMICFSGaLMiWxAQqLTQBWsgQIAAAQIECBAgQIAAAQLtCAhU2unF6CsRqIy+A9RfKyBQqZVyHIGFAgKVhYCGEyBAgAABAgQIECBAgACBzgQEKp01dMPlCFQ23DxLP6iAQOWg3E42soBAZeTuq50AAQIECBAgQIAAAQIECJwvIFCxK1oREKi00gnraF1AoNJ6h6yvGwGBSjetVAgBAgQIECBAgAABAgQIEFhFQKCyCqNJVhAQqKyAaIohBAQqQ7RZkS0ICFRa6II1ECBAgAABAgQIECBAgACBdgQEKu30YvSVCFRG3wHqrxUQqNRKOY7AQgGBykJAwwkQIECAAAECBAgQIECAQGcCApXOGrrhcgQqG26epR9UQKByUG4nG1lAoDJy99VOgAABAgQIECBAgAABAgTOFxCo2BWtCAhUWumEdbQuIFBpvUPW142AQKWbViqEAAECBAgQIECAAAECBAisIiBQWYXRJCsICFRWQDTFEAIClSHarMgWBAQqLXTBGggQIECAAAECBAgQIECAQDsCApV2ejH6SgQqo+8A9dcKCFRqpRxHYKGAQGUhoOEECBAgQIAAAQIECBAgQKAzAYFKZw3dcDkClQ03z9IPKiBQOSi3k40sIFAZuftqJ0CAAAECBAgQIECAAAEC5wsIVOyKVgQEKq10wjpaFxCotN4h6+tGQKDSTSsVQoAAAQIECBAgQIAAAQIEVhEQqKzCaJIVBAQqKyCaYggBgcoQbVZkCwIClRa6YA0ECBAgQIAAAQIECBAgQKAdAYFKO70YfSUCldF3gPprBQQqtVKOI7BQQKCyENBwAgQIECBAgAABAgQIECDQmYBApbOGbrgcgcqGm2fpBxUQqByU28lGFhCojNx9tRMgQIAAAQIECBAgQIAAgfMFBCp2RSsCApVWOmEdrQsIVFrvkPV1IyBQ6aaVCiFAgAABAgQIECBAgAABAqsICFRWYTTJCgIClRUQTTGEgEBliDYrsgUBgUoLXbAGAgQIECBAgAABAgQIECDQjoBApZ1ejL4SgcroO0D9tQIClVopxxFYKCBQWQhoOAECBAgQIECAAAECBAgQ6ExAoNJZQzdcjkBlw82z9IMKCFQOyu1kIwsIVEbuvtoJECBAgAABAgQIECBAgMD5AgIVu6IVAYFKK52wjtYFBCqtd8j6uhEQqHTTSoUQIECAAAECBAgQIECAAIFVBAQqqzCaZAUBgcoKiKYYQkCgMkSbFdmCgEClhS5YAwECBAgQIECAAAECBAgQaEdAoNJOL0ZfiUBl9B2g/loBgUqtlOMILBQQqCwENJwAAQIECBAgQIAAAQIECHQmIFDprKEbLkegsuHmWfpBBQQqB+V2spEFBCojd1/tBAgQIECAAAECBAgQIEDgfAGBil3RioBApZVOWEfrAgKV1jtkfd0ICFS6aaVCCBAgQIAAAQIECBAgQIDAKgIClVUYTbKCgEBlBURTDCEgUBmizYpsQUCg0kIXrIEAAQIECBAgQIAAAQIECLQjIFBppxejr0SgMvoOUH+tgEClVspxBBYKCFQWAhpOgAABAgQIECBAgAABAgQ6ExCodNbQDZcjUNlw8yz9oAIClYNyO9nIAgKVkbuvdgIECBAgQIAAAQIECBAgcL6AQMWuaEVAoNJKJ6yjdQGBSusdsr5uBAQq3bRSIQQIECBAgAABAgQIECBAYBUBgcoqjCZZQUCgsgKiKYYQEKgM0WZFtiAgUGmhC9ZAgAABAgQIECBAgAABAgTaERCotNOL0VciUBl9B6i/VkCgUivlOAILBQQqCwENJ0CAAAECBAgQIECAAAECnQkIVDpr6IbLEahsuHmWflABgcpBuZ1sZAGBysjdVzsBAgQIECBAgAABAgQIEDhfQKBiV7QiIFBppRPW0bqAQKX1DllfNwIClW5aqRACBAgQIECAAAECBAgQILCKgEBlFUaTrCAgUFkB0RRDCHw0ULn88stz4xuX/+mLAAECBAgQIECAAAECBAgQIECAAIFDCAhUDqHsHDUCApUaJccQSAQqdgEBAgQIECBAgAABAgQIECBAgACBIwgIVI6A7pRnCghUbAwCdQIClTonRxEgQIAAAQIECBAgQIAAAQIECBBYVUCgsiqnyRYICFQW4Bk6lIBAZah2K5YAAQIECBAgQIAAAQIECBAgQKAVAYFKK52wDoGKPUCgTkCgUufkKAIECBAgQIAAAQIECBAgQIAAAQKrCghUVuU02QIBgcoCPEOHEhCoDNVuxRIgQIAAAQIECBAgQIAAAQIECLQiIFBppRPWIVCxBwjUCQhU6pwcRYAAAQIECBAgQIAAAQIECBAgQGBVAYHKqpwmWyAgUFmAZ+hQAgKVodqtWAIECBAgQIAAAQIECBAgQIAAgVYEBCqtdMI6BCr2AIE6AYFKnZOjCBAgQIAAAQIECBAgQIAAAQIECKwqIFBZldNkCwQEKgvwDB1KQKAyVLsVS4AAAQIECBAgQIAAAQIECBAg0IqAQKWVTliHQMUeIFAnIFCpc3IUAQIECBAgQIAAAQIECBAgQIAAgVUFBCqrcppsgYBAZQGeoUMJCFSGardiCRAgQIAAAQIECBAgQIAAAQIEWhEQqLTSCesQqNgDBOoEBCp1To4iQIAAAQIECBAgQIAAAQIECBAgsKqAQGVVTpMtEBCoLMAzdCgBgcpQ7VYsAQIECBAgQIAAAQIECBAgQIBAKwIClVY6YR0CFXuAQJ2AQKXOyVEECBAgQIAAAQIECBAgQIAAAQIEVhUQqKzKabIFAgKVBXiGDiUgUBmq3YolQIAAAQIECBAgQIAAAQIECBBoRUCg0konrEOgYg8QqBMQqNQ5OYoAAQIECBAgQIAAAQIECBAgQIDAqgIClVU5TbZAQKCyAM/QoQQEKkO1W7EECBAgQIAAAQIECBAgQIAAAQKtCAhUWumEdQhU7AECdQIClTonRxEgQIAAAQIECBAgQIAAAQIECBBYVUCgsiqnyRYICFQW4Bk6lIBAZah2K5YAAQIECBAgQIAAAQIECBAgQKAVAYFKK52wDoGKPUCgTkCgUufkKAIECBAgQIAAAQIECBAgQIAAAQKrCghUVuU02QIBgcoCPEOHEhCoDNVuxRIgQIAAAQIECBAgQIAAAQIECLQiIFBppRPWIVCxBwjUCQhU6pwcRYAAAQIECBAgQIAAAQIECBAgQGBVAYHKqpwmWyAgUFmAZ+hQAgKVodqtWAIECBAgQIAAAQIECBAgQIAAgVYEBCqtdMI6BCr2AIE6AYFKnZOjCBAgQIAAAQIECBAgQIAAAQIECKwqIFBZldNkCwQEKgvwDB1K4KOBylAVK5YAAQIECBAgQIAAAQIECBAgQKBZgauuuqrZta29MIHK2qLmmysgUJkrZ9xoAgKV0TquXgIECBAgQIAAAQIECBAgQIBAwwIClYabY2ndCghUum2twlYWEKisDGo6AgQIECBAgAABAgQIECBAgACB+QIClfl2RhKYKyBQmStn3GgCApXROq5eAgQIECBAgAABAgQIECBAgEDDAgKVhptjad0KCFS6ba3CVhYQqKwMajoCBAgQIECAAAECBAgQIECAAIH5AgKV+XZGEpgrIFCZK2fcaAICldE6rl4CBAgQIECAAAECBAgQIECAQMMCApWGm2Np3QoIVLptrcJWFhCorAxqOgIECBAgQIAAAQIECBAgQIAAgfkCApX5dkYSmCsgUJkrZ9xoAgKV0TquXgIECBAgQIAAAQIECBAgQIBAwwIClYabY2ndCghUum2twlYWEKisDGo6AgQIECBAgAABAgQIECBAgACB+QIClfl2RhKYKyBQmStn3GgCApXROq5eAgQIECBAgAABAgQIECBAgEDDAgKVhptjad0KCFS6ba3CVhYQqKwMajoCBAgQIECAAAECBAgQIECAAIH5AgKV+XZGEpgrIFCZK2fcaAICldE6rl4CBAgQIECAAAECBAgQIECAQMMCApWGm2Np3QoIVLptrcJWFhCorAxqOgIECBAgQIAAAQIECBAgQIAAgfkCApX5dkYSmCsgUJkrZ9xoAgKV0TquXgIECBAgQIAAAQIECBAgQIBAwwIClYabY2ndCghUum2twlYWEKisDGo6AgQIECBAgAABAgQIECBAgACB+QIClfl2RhKYKyBQmStn3GgCApXROq5eAgQIECBAgAABAgQIECBAgEDDAgKVhptjad0KCFS6ba3CVhYQqKwMajoCBAgQIECAAAECBAgQIECAAIH5AgKV+XZGEpgrIFCZK2fcaAICldE6rl4CBAgQIECAAAECBAgQIECAQMMCApWGm2Np3QoIVLptrcJWFhCorAxqOgIECBAgQIAAAQIECBAgQIAAgfkCApX5dkYSmCsgUJkrZ9xoAgKV0TquXgIECBAgQIAAAQIECBAgQIBAwwIClYabY2ndCghUum2twlYWEKisDGo6AgQIECBAgAABAgQIECBAgACB+QIClfl2RhKYKyBQmStn3GgCApXROq5eAgQIECBAgAABAgQIECBAgEDDAgKVhptjad0KCFS6ba3CVhYQqKwMajoCBAgQIECAAAECBAgQIECAAIH5AgKV+XZGEpgrIFCZK2fcaAICldE6rl4CBAgQIECAAAECBAgQIECAQMMCApWGm2Np3QoIVLptrcJWFhCorAxqOgIECBAgQIAAAQIECBAgQIAAgfkCApX5dkYSmCsgUJkrZ9xoAgKV0TquXgIECBAgQIAAAQIECBAgQIBAwwIClYabY2ndCghUum2twlYWEKisDGo6AgQIECBAgAABAgQIECBAgACB+QIClfl2RhKYKyBQmStn3GgCApXROq5eAgQIECBAgAABAgQIECBAgEDDAgKVhptjad0KCFS6ba3CVhYQqKwMajoCBAgQIECAAAECBAgQIECAAIH5AgKV+XZGEpgrIFCZK2fcaAICldE6rl4CBAgQIECAAAECBAgQIECAQMMCApWGm2Np3QoIVLptrcJWFhCorAxqOgIECBAgQIAAAQIECBAgQIAAgfkCApX5dkYSmCsgUJkrZ9xoAgKV0TquXgIECBAgQIAAAQIECBAgQIBAwwIClYabY2ndCghUum2twlYWEKisDGo6AgQIECBAgAABAgQIECBAgACB+QIClfl2RhKYKyBQmStn3GgCApXROq5eAgQIECBAgAABAgQIECBAgEDDAgKVhptjad0KCFS6ba3CVhYQqKwMajoCBAgQIECAAAECBAgQIECAAIH5AgKV+XZGEpgrIFCZK2fcaAICldE6rl4CBAgQIECAAAECBAgQIECAQMMCApWGm2Np3QoIVLptrcJWFhCorAxqOgIECBAgQIAAAQIECBAgQIAAgfkCApX5dkYSmCsgUJkrZ9xoAgKV0TquXgIECBAgQIAAAQIECBAgQIBAwwIClYabY2ndCghUum2twlYWEKisDGo6AgQIECBAgAABAgQIECBAgACB+QIClfl2RhKYKyBQmStn3GgCApXROq5eAgQIECBAgAABAgQIECBAgEDDAgKVhptjad0KCFS6ba3CVhYQqKwMajoCBAgQIECAAAECBAgQIECAAIH5AgKV+XZGEpgrIFCZK2fcaAICldE6rl4CBAgQIECAAAECBAgQIECAQMMCApWGm2Np3QoIVLptrcJWFhCorAxqOgIECBAgQIAAAQIECBAgQIAAgfkCApX5dkYSmCsgUJkrZ9wxBX4pyTuSPOCMRfxWktckeVCSqyd5WJJ/meRWSd6f5A+T/HSSp+1YgEBlRzCHEyBAgAABAgQIECBAgAABAgQI7E9AoLI/WzMTuJCAQMXe2KJAbaDy3CQPTPLtSV6Z5BOT3CXJ3aZ/dqldoLKLlmMJECBAgAABAgQIECBAgAABAgT2KiBQ2SuvyQmcKSBQsTG2KFATqDwkybuSPC7Jd50qsuz7q3YsXKCyI5jDCRAgQIAAAQIECBAgQIAAAQIE9icgUNmfrZkJXEhAoGJvbFGgJlB5VJK3J/mqJD+6QpEClRUQTUGAAAECBAgQIECAAAECBAgQILCOgEBlHUezENhFQKCyi5ZjWxGoCVTKO1T+JMmHkpRw5aVJ3rugAIHKAjxDCRAgQIAAAQIECBAgQIAAAQIE1hUQqKzraTYCNQIClRolx7QmUBuo3CPJjye5QZIrk/z29O/PSvLBSxT1CUnKP+e+bpjk1a1BWA8BAgQIECBAgAABAgQIECBAgMCYAgKVMfuu6uMKCFSO6+/s8wRqA5UyewlF7pPknknuleQWSX4tyedOIcuFVvDEJE+YtzyjCBAgQIAAAQIECBAgQIAAAQIECOxXQKCyX1+zEzhLQKBiX2xR4GXT47u++IzFl7tQXpXkwWf8t7Lfn5TkW5LcP8mLLlK8O1S2uDOsmQABAgQIECBAgAABAgQIECAwiIBAZZBGK7MpAYFKU+2wmEqBF053mtz1jOPfmuQ/JHnsBeYqQcl7kjw6ydMrz1cO8w6VHbAcSoAAAQIECBAgQIAAAQIECBAgsF8Bgcp+fc1O4CwBgYp9sUWBhyR5ZpJbJrn8RAF3TvKKJPdOUu5i+bgk7zpV4B2nO1i+OskP71C8QGUHLIcSIECAAAECBAgQIECAAAECBAjsV0Cgsl9fsxMQqNgDvQh8fJLfSVICwackeWOS207vPHl9krsnuW6SP0jygiS/mOTdSW6T5DFJrp7k9tOf1ZoIVGqlHEeAAAECBAgQIECAAAECBAgQILB3AYHK3omdgMB5Au5QsSm2KlACjqcm+aIpPHlbkp9O8rjpkV7XSPKI6W6VEqRce7qbpdy5UkKYN+9YuEBlRzCHEyBAgAABAgQIECBAgAABAgQI7E9AoLI/WzMTuJCAQMXeIFAnIFCpc3IUAQIECBAgQIAAAQIECBAgQIDAAQQEKgdAdgoCpwQEKrYEgToBgUqdk6MIECBAgAABAgQIECBAgAABAgQOICBQOQCyUxAQqNgDBGYJCFRmsRlEgAABAgQIECBAgAABAgQIECCwDwGByj5UzUng4gLuULFDCNQJCFTqnBxFgAABAgQIECBAgAABAgQIECBwAAGBygGQnYLAKQGBii1BoE5AoFLn5CgCBAgQIECAAAECBAgQIECAAIEDCAhUDoDsFAQEKvYAgVkCApVZbAYRIECAAAECBAgQIECAAAECBAjsQ0Cgsg9VcxK4uIA7VOwQAnUCApU6J0cRIECAAAECBAgQIECAAAECBAgcQECgcgBkpyBwSkCgYksQqBMQqNQ5OYoAAQIECBAgQIAAAQIECBAgQOAAAgKVAyA7BQGBij1AYJaAQGUWm0EECBAgQIAAAQIECBAgQIAAAQL7EBCo7EPVnAQuLuAOFTuEQJ2AQKXOyVEECBAgQIAAAQIECBAgQIAAAQIHEBCoHADZKQicEhCo2BIE6gQEKnVOjiJAgAABAgQIECBAgAABAgQIEDiAgEDlAMhOQUCgYg8QmCUgUJnFZhABAgQIECBAgAABAgQIECBAgMA+BAQq+1A1J4GLC7hDxQ4hUCcgUKlzchQBAgQIECBAgAABAgQIECBAgMABBAQqB0B2CgKnBAQqtgSBOgGBSp2TowgQIECAAAECBAgQIECAAAECBA4gIFA5ALJTEBCo2AMEZgkIVGaxGUSAAAECBAgQIECAAAECBAgQILAPAYHKPlTNSeDiAu5QsUMI1AkIVOqcHEWAAAECBAgQIECAAAECBAgQIHAAAYHKAZCdgsApAYGKLUGgTkCgUufkKAIECBAgQIAAAQIECBAgQIAAgQMICFQOgOwUBAQq9gCBWQIClVlsBhEgQIAAAQIECBAgQIAAAQIECOxDQKCyD1VzEri4gDtU7BACdQIClTonRxEgQIAAAQIECBAgQIAAAQIECBxAQKByAGSnIHBKQKBiSxCoExCo1Dk5igABAgQIECBAgAABAgQIECBA4AACApUDIDsFAYGKPUBgloBAZRabQQQIECBAgAABAgQIECBAgAABAvsQEKjsQ9WcBC4u4A4VO4RAnYBApc7JUQQIECBAgAABAgQIECBAgAABAgcQEKgcANkpCJwSEKjYEgTqBAQqdU6OIkCAAAECBAgQIECAAAECBAgQOICAQOUAyE5BQKBiDxCYJSBQmcVmEAECBAgQIECAAAECBAgQIECAwD4EBCr7UDUngYsLuEPFDiFQJyBQqXNyFAECBAgQIECAAAECBAgQIECAwAEEBCoHQHYKAqcEBCq2BIE6AYFKnZOjCBAgQIAAAQIECBAgQIAAAQIEDiAgUDkAslMQEKjYAwRmCQhUZrEZRIAAAQIECBAgQIAAAQIECBAgsA8Bgco+VM1J4OIC7lCxQwjUCQhU6pwcRYAAAQIECBAgQIAAAQIECBAgcAABgcoBkJ2CwCkBgYotQaBOQKBS5+QoAgQIECBAgAABAgQIECBAgACBAwgIVA6A7BQEBCr2AIFZAgKVWWwGESBAgAABAgQIECBAgAABAgQI7ENAoLIPVXMSuLiAO1TsEAJ1AgKVOidHESBAgAABAgQIECBAgAABAgQIHEBAoHIAZKcgcEpAoGJLEKgTEKjUOTmKAAECBAgQIECAAAECBAgQIEDgAAIClQMgOwUBgYo9QGCWgEBlFptBBAgQIECAAAECBAgQIECAAAEC+xAQqOxD1ZwELi7gDhU7hECdgEClzslRBAgQIECAAAECBAgQIECAAAECBxAQqBwA2SkInBIQqNgSBOoEBCp1To4iQIAAAQIECBAgQIAAAQIECBA4gIBA5QDITkFAoGIPEJglIFCZxWYQAQIECBAgQIAAAQIECBAgQIDAPgQEKvtQNSeBiwu4Q8UOIVAnIFCpc3IUAQIECBAgQIAAAQIECBAgQIDAAQQEKgdAdgoCpwQEKrYEgToBgUqdk6MIECBAgAABAgQIECBAgAABAgQOICBQOQCyUxAQqBrEd5kAABz/SURBVNgDBGYJCFRmsRlEgAABAgQIECBAgAABAgQIECCwDwGByj5UzUng4gLuULFDCNQJCFTqnBxFgAABAgQIECBAgAABAgQIECBwAAGBygGQnYLAKQGBii1BoE5AoFLn5CgCBAgQIECAAAECBAgQIECAAIEDCAhUDoDsFAQEKvYAgVkCApVZbAYRIECAAAECBAgQIECAAAECBAjsQ0Cgsg9VcxK4uIA7VOwQAnUCApU6J0cRIECAAAECBAgQIECAAAECBAgcQECgcgBkpyBwSkCgYksQqBP4aKBy+eWX58Y3Lv/TFwECBAgQIECAAAECBAgQIECAAAEChxC44oorcpOb3KScqvyfKw5xTucgcJaAQMW+IFAnIFCpc3IUAQIECBAgQIAAAQIECBAgQIAAgVUFBCqrcppsgYBAZQGeoUMJCFSGardiCRAgQIAAAQIECBAgQIAAAQIEWhEQqLTSCesQqNgDBOoEBCp1To4iQIAAAQIECBAgQIAAAQIECBAgsKqAQGVVTpMtEBCoLMAzdCgBgcpQ7VYsAQIECBAgQIAAAQIECBAgQIBAKwIClVY6YR0CFXuAQJ2AQKXOyVEECBAgQIAAAQIECBAgQIAAAQIEVhUQqKzKabIFAgKVBXiGDiUgUBmq3YolQIAAAQIECBAgQIAAAQIECBBoRUCg0konrEOgYg8QqBMQqNQ5OYoAAQIECBAgQIAAAQIECBAgQIDAqgIClVU5TbZAQKCyAM/QoQQEKkO1W7EECBAgQIAAAQIECBAgQIAAAQKtCAhUWumEdQhU7AECdQIClTonRxEgQIAAAQIECBAgQIAAAQIECBBYVUCgsiqnyRYICFQW4Bk6lIBAZah2K5YAAQIECBAgQIAAAQIECBAgQKAVAYFKK52wDoGKPUCgTkCgUufkKAIECBAgQIAAAQIECBAgQIAAAQKrCghUVuU02QIBgcoCPEOHEhCoDNVuxRIgQIAAAQIECBAgQIAAAQIECLQiIFBppRPWIVCxBwjUCQhU6pwcRYAAAQIECBAgQIAAAQIECBAgQGBVAYHKqpwmWyAgUFmAZ+hQAgKVodqtWAIECBAgQIAAAQIECBAgQIAAgVYEBCqtdMI6BCr2AIE6AYFKnZOjCBAgQIAAAQIECBAgQIAAAQIECKwqIFBZldNkCwQEKgvwDB1KQKAyVLsVS4AAAQIECBAgQIAAAQIECBAg0IqAQKWVTliHQMUeIFAnIFCpc3IUAQIECBAgQIAAAQIECBAgQIAAgVUFBCqrcppsgYBAZQGeoUMJCFSGardiCRAgQIAAAQIECBAgQIAAAQIEWhEQqLTSCesQqNgDBOoEBCp1To4iQIAAAQIECBAgQIAAAQIECBAgsKqAQGVVTpMtEBCoLMAzdCgBgcpQ7VYsAQIECBAgQIAAAQIECBAgQIBAKwIClVY6YR0CFXuAQJ2AQKXOyVEECBAgQIAAAQIECBAgQIAAAQIEVhUQqKzKabIFAgKVBXiGDiUgUBmq3YolQIAAAQIECBAgQIAAAQIECBBoRUCg0konrEOgYg8QqBMQqNQ5OYoAAQIECBAgQIAAAQIECBAgQIDAqgIClVU5TbZAQKCyAM/QoQQEKkO1W7EECBAgQIAAAQIECBAgQIAAAQKtCAhUWumEdQhU7AECdQIClTonRxEgQIAAAQIECBAgQIAAAQIECBBYVUCgsiqnyRYICFQW4Bk6lIBAZah2K5YAAQIECBAgQIAAAQIECBAgQKAVAYFKK52wDoGKPUCgTkCgUufkKAIECBAgQIAAAQIECBAgQIAAAQKrCghUVuU02QIBgcoCPEOHEhCoDNVuxRIgQIAAAQIECBAgQIAAAQIECLQiIFBppRPWIVCxBwjUCdw0yZte9apX5UY3ulHdCEcRIECAAAECBAgQIECAAAECBAgQILBY4K1vfWsuu+yyMs/Nkrx58YQmIDBTQKAyE86w4QTuluRXh6tawQQIECBAgAABAgQIECBAgAABAgTaEbhjkt9uZzlWMpqAQGW0jqt3rsDNk7wxyWcnecvcSYwj0LHADZO8Okn5i83bOq5TaQSWCLhOlugZO4KAa2SELqtxqYDrZKmg8b0LuEZ677D61hDY6nVytSQ3SPKaJB9aA8IcBOYICFTmqBkzosBH36GS5CZJrhgRQM0ELiHgGrFFCFxawHVyaSNHjC3gGhm7/6qvE3Cd1Dk5alwB18i4vVd5vYDrpN7KkQTOExCo2BQE6gR8s6lzctS4Aq6RcXuv8noB10m9lSPHFHCNjNl3Ve8m4DrZzcvR4wm4RsbruYp3F3Cd7G5mBIG/FhCo2AwE6gR8s6lzctS4Aq6RcXuv8noB10m9lSPHFHCNjNl3Ve8m4DrZzcvR4wm4RsbruYp3F3Cd7G5mBAGBij1AYEeBT0jyyCTfneS9O451OIERBFwjI3RZjUsFXCdLBY3vXcA10nuH1beGgOtkDUVz9CzgGum5u2pbS8B1spakeYYUcIfKkG1XNAECBAgQIECAAAECBAgQIECAAAECBAgQILCLgEBlFy3HEiBAgAABAgQIECBAgAABAgQIECBAgAABAkMKCFSGbLuiCRAgQIAAAQIECBAgQIAAAQIECBAgQIAAgV0EBCq7aDmWAAECBAgQIECAAAECBAgQIECAAAECBAgQGFJAoDJk2xV9SuB2SZ6d5K5J3pXk+UmelOQjl5C6TpJnJrl/kqsleXGSr0/yTsIEOhOYc438gyQPSXL3JDdO8qYk/znJ05P8ZWc+yiFQBOZcJyflyveR30xyxyT3nb6nkCXQk8CSa+RLkjwmyR2SvH+6Vr40yV/0BKQWAgu+l3x2kqcmuSxJ+Yz/6iSPS/JKqgQ6E7h1kkclucv0PeHlST6vokaf3SuQHNKNwJzrxOf3btqvkEMICFQOoewcLQt8UpLfT/La6Qe9fzfJdyf53iSPv8TC/3uS2yT5piRXTuPfNv0AueWarY3ALgJzr5FnJLlTkh9N8vokn5HkyUlelqT8EMwXgZ4E5l4nJw3+VZJvS3JDgUpPW0Mtk8CSa+TBSb4/yXcm+YUkZa57TH9PezdhAh0JzL1Obpbk96YQpXyOKV/lB85/f/r71xs7MlIKgftN3xNeMQUq5fN3TaDis7u9M5LAnOvE5/eRdohaFwsIVBYTmmDjAuW3Hb85yackec9US/n3Jya50Yk/O11muZvl15P8oyS/Mv3H8sPj8ltgnz/90HjjNJZP4KMCc6+RGyT501OG5QfGz01yiyQ+3NtgPQnMvU7OGZQfov1BkkdPd0m6Q6Wn3aGWJd9Lrp/kDUkekeR5KAl0LjD3e8m/SfIDSa433W1fmMr3lXck+bokP9i5m/LGEih39JZfZixfP5mkfJ+4VKDis/tYe0S1//8JKrteJz6/2zkEdhAQqOyA5dAuBUoYckWSf3aiuptPP+z9p0l+9gJVl98iLj8cLqHLya8/SvLTSR7ZpZaiRhSYe42cZVVuI/5f050r5dFGvgj0IrD0Oim/fX/TJN84/fBYoNLLzlDHOYG510h5dGR5VGT5QfEHcRLoXGDudfKwJOU3iz8uyYcno6sneV+Shyd5TuduyhtXoDZQ8dl93D2i8vrg0ed3u4XADgIClR2wHNqlwNunDxnljpSTX+WZ3OXPvusCVf9Ekk8+47dhfm46/j5dailqRIG518hZVt+Q5Hum35o8d0fYiKZq7k9gyXVSHof3G0k+c/pBWPltfIFKf3tk9IrmXiMvSHL7JP9+eh9EeSReeTdE+SFxuVPYF4GeBOZeJ+VddeURxj+S5NsnkG9N8oAkn37GHcM9mallbIHaQMVn97H3yejV114nPr+PvlPUv5OAQGUnLgd3KPCh6RnD5eXyJ7/ePH0oeewFan7p9CLU8kL6k1//KcmtkvzDDq2UNKbA3GvktFa5m+t/J3lJkgeNSanqjgWWXCe/PD0usjxusjwOT6DS8UYZuLS518j/mP5OVUL4co28c/r/5QXcfy9JeXa+LwK9CMy9Tkr9n5XkxUluMmG8JckXJfndXnDUQeAMgdofFPvsbvuMLFB7nfj8PvIuUfvOAgKVnckM6EygfHApL5X/vlN1XZ7kh6ffhjyr5PKXsnIb/Ref+o8/Nv1A7G6dOSlnXIG518hJsWtM7xUqjzS6LMmfj8up8k4F5l4n5XGTJdD/1OmdXQKVTjeIsjL3Gil/37rX9IPh8kLh8nXt6dGs5VF538KWQEcCc6+Tv5Pk5dNdKufel/LQ6aX05Ze8/qQjI6UQOClQ+4Nin93tm5EFaq8Tn99H3iVq31lAoLIzmQGdCZRb68tLHJ90qq4SlpQ/u9gjv8pLu/7xqXEe+dXZBlFO5l4j5+jK95kXJvn8JCVofB1TAh0KzLlOyvPty3u3ymPw/uNkUt7hVX6buAQt5W6u93ZopaQxBeZcI0XqvyT58iR/O8lfnqB7WZJ3J/nSMTlV3anA3OukfB/5kumurRLKlK/yyyyvT/KiJF/fqZeyCNT+oLg88stnd/tlVIHa68Tn91F3iLpnCQhUZrEZ1JFAefljuRvlK07UdLPpN7ku9VL6r01SfiPs5NcfJvkZL6XvaIcoZe41ck6u/Pb9v54ClV/FSaBTgTnXySde4m6t8v3k1p16KWs8gTnXSFEq77Mr74IoL9v+wAm2/5nkz5J82XiUKu5YYO51UgL4q5Kcfofjhf68Y0KlDSZQ+4Pi8lJ6n90H2xzK/WuB2uvE53ebhsAOAgKVHbAc2qXAY6Z3qHzKid8ELo8AK3/pKu98uNCLs+86vQz17knO/ZC4PM/7N6cfHJffnPRFoAeBuddIqb2Mfcr028U/1QOGGghcQGDOdfIxST7n1Hzl+065o6u8v+sXpnerQCfQg8Cca6TUfe7vVuUHxeWHw+XrOtMjv54xfY/pwUcNBM79velRSXb9XFIe83Xv6Q6VD06U15zuUPnZJOXxX74I9ChQ+4Nin9177L6aagVqrxOf32tFHUcgiUDFNhhd4JOSvDbJa5I8fXqhfLltvvxW/eNP4PzfJOXFwV9z4s/Ks7zLc+9LAHPlNL7cql9CFl8EehGYe4388yTlnULlXUTPPYVRfvP+T3sBUgeBJHOvk9N43qFiO/UqsOQaKXf+3jnJo5O8Y3op/e2mv4N5J1evO2bMuuZeJ+X9dK9I8vNJnjN9xi8hSnn/UAklvZh+zP3Ua9UfOwWIpb5HTu/VesJUbAne35/EZ/deu6+uWoE514nP77W6jiMgULEHCHxUoHwoLy82Lb+58q4kz58eMfGREz5/nOSXkjzoxJ+Vx7V87/Ri+qslefH0jOLyYd8XgZ4E5lwjJUj5FxdA+OopaOnJSC0E5lwnAhX7ZiSBudfIx0/vtCvvUik/IPi1JA9P8nsj4al1GIG518k9k5QfKt9hkirXR/n38vnFF4GeBM798slZNd0ySfnc7rN7Tx1XyxyBOdeJz+9zpI0ZVsAdKsO2XuEECBAgQIAAAQIECBAgQIAAAQIECBAgQIBArYBApVbKcQQIECBAgAABAgQIECBAgAABAgQIECBAgMCwAgKVYVuvcAIECBAgQIAAAQIECBAgQIAAAQIECBAgQKBWQKBSK+U4AgQIECBAgAABAgQIECBAgAABAgQIECBAYFgBgcqwrVc4AQIECBAgQIAAAQIECBAgQIAAAQIECBAgUCsgUKmVchwBAgQIECBAgAABAgQIECBAgAABAgQIECAwrIBAZdjWK5wAAQIECBAgQIAAAQIECBAgQIAAAQIECBCoFRCo1Eo5jgABAgQIECBAgAABAgQIECBAgAABAgQIEBhWQKAybOsVToAAAQIECBAgQIAAAQIECBAgQIAAgUUCt07yqCR3SXKHJC9P8nkzZ7xekqcmuV+S6yR54/TvPzJzPsMIrC4gUFmd1IQECBAgQIAAAQIECBAgQIAAAQIECBAYQqCEH9+f5BVToPK2mYHKtZP8RpL3JXlGknckuV2Sv0ry/CEkFbkJAYHKJtpkkQQIECBAgAABAgQIECBAgAABAgQIEGhO4GpJrpxW9ZNJrj8zUHlakgck+fQkH2iuSgsiMAkIVGwFAgQIECBAgAABAgQIECBAgAABAgQIEFgqcKFA5VpJvi3JVyT55CSvS/KYJC85ccJyZ8szk3zH0kUYT2CfAgKVfeqamwABAgQIECBAgAABAgQIECBAgAABAmMIXChQeXGSOyV5QpI/TPLlSR6U5LOT/E6SWyb5oyQPSXLfJPdK8u4kP5rk0Uk+OAafKrcgIFDZQpeskQABAgQIECBAgAABAgQIECBAgAABAm0LnBWo3DPJy6bHgP3yieX/SpJyV8qXJblrkl+f3p/y40lemOQzpxfSPzvJN7ddttWNJCBQGanbaiVAgAABAgQIECBAgAABAgQIECBAgMB+BM4KVMojvMrdKDc7dcrHTX9e7k65W5JfTfLKJHc5cdy3Jnlskusmef9+lmxWArsJCFR283I0AQIECBAgQIAAAQIECBAgQIAAAQIECJwvcFag8rwkD74A1keSfEyS2yZ5bZLyYvrybpVzX5+T5OVJPiPJ7wEn0IKAQKWFLlgDAQIECBAgQIAAAQIECBAgQIAAAQIEti1wVqDy9CQPTHL/C5T2W0mukeS9Sb7nVKBy9yTl0WB3SPL726ax+l4EBCq9dFIdBAgQIECAAAECBAgQIECAAAECBAgQOJ7AWYHKFyR5yRSKvO4iSysvrr9BkjufOOaJSR41PfLrr45XljMT+BsBgYrdQIAAAQIECBAgQIAAAQIECBAgQIAAAQJzBD42yb2ngY9Mcu0kT5j+vQQpH0hSwpLy2K5yt0q506Qc81lJrnXijpQ7Te9R+bHppfTl+KckeXKSb5+zMGMI7ENAoLIPVXMSIECAAAECBAgQIECAAAECBAgQIECgf4FbJHnDBcosL5z/4yTXnF4uXx79dfMkf5bkd5I8O8nPnRj7hUnKS+xvn+TtSX5oClOu7J9RhVsREKhspVPWSYAAAQIECBAgQIAAAQIECBAgQIAAAQIECBxNQKByNHonJkCAAAECBAgQIECAAAECBAgQIECAAAECBLYiIFDZSqeskwABAgQIECBAgAABAgQIECBAgAABAgQIEDiagEDlaPROTIAAAQIECBAgQIAAAQIECBAgQIAAAQIECGxFQKCylU5ZJwECBAgQIECAAAECBAgQIECAAAECBAgQIHA0AYHK0eidmAABAgQIECBAgAABAgQIECBAgAABAgQIENiKgEBlK52yTgIECBAgQIAAAQIECBAgQIAAAQIECBAgQOBoAgKVo9E7MQECBAgQIECAAAECBAgQIECAAAECBAgQILAVAYHKVjplnQQIECBAgAABAgQIECBAgAABAgQIECBAgMDRBAQqR6N3YgIECBAgQIAAAQIECBAgQIAAAQIECBAgQGArAgKVrXTKOgkQIECAAAECBAgQIECAAAECBAgQIECAAIGjCQhUjkbvxAQIECBAgAABAgQIECBAgAABAgQIECBAgMBWBAQqW+mUdRIgQIAAAQIECBAgQIAAAQIECBAgQIAAAQJHExCoHI3eiQkQIECAAAECBAgQIECAAAECBAgQIECAAIGtCAhUttIp6yRAgAABAgQIECBAgAABAgQIECBAgAABAgSOJiBQORq9ExMgQIAAAQIECBAgQIAAAQIECBAgQIAAAQJbERCobKVT1kmAAAECBAgQIECAAAECBAgQIECAAAECBAgcTUCgcjR6JyZAgAABAgQIECBAgAABAgQIECBAgAABAgS2IiBQ2UqnrJMAAQIECBAgQIAAAQIECBAgQIAAAQIECBA4moBA5Wj0TkyAAAECBAgQIECAAAECBAgQIECAAAECBAhsRUCgspVOWScBAgQIECBAgAABAgQIECBAgAABAgQIECBwNAGBytHonZgAAQIECBAgQIAAAQIECBAgQIAAAQIECBDYioBAZSudsk4CBAgQIECAAAECBAgQIECAAAECBAgQIEDgaAIClaPROzEBAgQIECBAgAABAgQIECBAgAABAgQIECCwFQGBylY6ZZ0ECBAgQIAAAQIECBAgQIAAAQIECBAgQIDA0QQEKkejd2ICBAgQIECAAAECBAgQIECAAAECBAgQIEBgKwICla10yjoJECBAgAABAgQIECBAgAABAgQIECBAgACBowkIVI5G78QECBAgQIAAAQIECBAgQIAAAQIECBAgQIDAVgQEKlvplHUSIECAAAECBAgQIECAAAECBAgQIECAAAECRxMQqByN3okJECBAgAABAgQIECBAgAABAgQIECBAgACBrQgIVLbSKeskQIAAAQIECBAgQIAAAQIECBAgQIAAAQIEjiYgUDkavRMTIECAAAECBAgQIECAAAECBAgQIECAAAECWxEQqGylU9ZJgAABAgQIECBAgAABAgQIECBAgAABAgQIHE1AoHI0eicmQIAAAQIECBAgQIAAAQIECBAgQIAAAQIEtiIgUNlKp6yTAAECBAgQIECAAAECBAgQIECAAAECBAgQOJqAQOVo9E5MgAABAgQIECBAgAABAgQIECBAgAABAgQIbEVAoLKVTlknAQIECBAgQIAAAQIECBAgQIAAAQIECBAgcDQBgcrR6J2YAAECBAgQIECAAAECBAgQIECAAAECBAgQ2IqAQGUrnbJOAgQIECBAgAABAgQIECBAgAABAgQIECBA4GgCApWj0TsxAQIECBAgQIAAAQIECBAgQIAAAQIECBAgsBUBgcpWOmWdBAgQIECAAAECBAgQIECAAAECBAgQIECAwNEEBCpHo3diAgQIECBAgAABAgQIECBAgAABAgQIECBAYCsCApWtdMo6CRAgQIAAAQIECBAgQIAAAQIECBAgQIAAgaMJCFSORu/EBAgQIECAAAECBAgQIECAAAECBAgQIECAwFYEBCpb6ZR1EiBAgAABAgQIECBAgAABAgQIECBAgAABAkcTEKgcjd6JCRAgQIAAAQIECBAgQIAAAQIECBAgQIAAga0ICFS20inrJECAAAECBAgQIECAAAECBAgQIECAAAECBI4mIFA5Gr0TEyBAgAABAgQIECBAgAABAgQIECBAgAABAlsREKhspVPWSYAAAQIECBAgQIAAAQIECBAgQIAAAQIECBxNQKByNHonJkCAAAECBAgQIECAAAECBAgQIECAAAECBLYiIFDZSqeskwABAgQIECBAgAABAgQIECBAgAABAgQIEDiagEDlaPROTIAAAQIECBAgQIAAAQIECBAgQIAAAQIECGxFQKCylU5ZJwECBAgQIECAAAECBAgQIECAAAECBAgQIHA0AYHK0eidmAABAgQIECBAgAABAgQIECBAgAABAgQIENiKgEBlK52yTgIECBAgQIAAAQIECBAgQIAAAQIECBAgQOBoAgKVo9E7MQECBAgQIECAAAECBAgQIECAAAECBAgQILAVAYHKVjplnQQIECBAgAABAgQIECBAgAABAgQIECBAgMDRBAQqR6N3YgIECBAgQIAAAQIECBAgQIAAAQIECBAgQGArAgKVrXTKOgkQIECAAAECBAgQIECAAAECBAgQIECAAIGjCQhUjkbvxAQIECBAgAABAgQIECBAgAABAgQIECBAgMBWBAQqW+mUdRIgQIAAAQIECBAgQIAAAQIECBAgQIAAAQJHExCoHI3eiQkQIECAAAECBAgQIECAAAECBAgQIECAAIGtCAhUttIp6yRAgAABAgQIECBAgAABAgQIECBAgAABAgSOJiBQORq9ExMgQIAAAQIECBAgQIAAAQIECBAgQIAAAQJbERCobKVT1kmAAAECBAgQIECAAAECBAgQIECAAAECBAgcTUCgcjR6JyZAgAABAgQIECBAgAABAgQIECBAgAABAgS2IvD/ANw95NghPrn4AAAAAElFTkSuQmCC\" width=\"1080\">"
      ],
      "text/plain": [
       "<IPython.core.display.HTML object>"
      ]
     },
     "metadata": {},
     "output_type": "display_data"
    }
   ],
   "source": [
    "fig, ax = plt.subplots(figsize=(15,8))\n",
    "list_countries = ['India','US','China','Italy','Spain']\n",
    "list_colors = ['black','green','red','blue','yellow']\n",
    "def plot_bar(some_date):\n",
    "    df2=df[df['Date'].eq(some_date)]\n",
    "    ax.clear()\n",
    "    df3=df2.sort_values(by='Confirmed',ascending=False)\n",
    "    df4=df3[df3['Country'].isin(list_countries)]\n",
    "    sleep(0.2)#to slow down the animation\n",
    "    #makes a horizontal bar plot\n",
    "    return ax.barh(df4['Country'],df4['Confirmed'],color=list_colors)\n",
    "my_anim = animation.FuncAnimation(fig=fig,func=plot_bar,frames=list_date,blit=True,interval=20)\n",
    "#%matplotlib nbagg"
   ]
  },
  {
   "cell_type": "code",
   "execution_count": null,
   "metadata": {},
   "outputs": [],
   "source": []
  },
  {
   "cell_type": "code",
   "execution_count": null,
   "metadata": {},
   "outputs": [],
   "source": []
  }
 ],
 "metadata": {
  "kernelspec": {
   "display_name": "Python 3",
   "language": "python",
   "name": "python3"
  },
  "language_info": {
   "codemirror_mode": {
    "name": "ipython",
    "version": 3
   },
   "file_extension": ".py",
   "mimetype": "text/x-python",
   "name": "python",
   "nbconvert_exporter": "python",
   "pygments_lexer": "ipython3",
   "version": "3.8.3rc1"
  }
 },
 "nbformat": 4,
 "nbformat_minor": 4
}
